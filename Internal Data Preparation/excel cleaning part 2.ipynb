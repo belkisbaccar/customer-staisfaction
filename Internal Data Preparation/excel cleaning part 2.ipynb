{
 "cells": [
  {
   "cell_type": "code",
   "execution_count": 8,
   "id": "honey-peninsula",
   "metadata": {},
   "outputs": [],
   "source": [
    "import pandas as pd \n",
    "import matplotlib.pyplot as plt\n",
    "import seaborn as sns\n",
    "import numpy as np\n",
    "import datetime\n"
   ]
  },
  {
   "cell_type": "code",
   "execution_count": 9,
   "id": "beginning-contribution",
   "metadata": {},
   "outputs": [
    {
     "data": {
      "text/html": [
       "<div>\n",
       "<style scoped>\n",
       "    .dataframe tbody tr th:only-of-type {\n",
       "        vertical-align: middle;\n",
       "    }\n",
       "\n",
       "    .dataframe tbody tr th {\n",
       "        vertical-align: top;\n",
       "    }\n",
       "\n",
       "    .dataframe thead th {\n",
       "        text-align: right;\n",
       "    }\n",
       "</style>\n",
       "<table border=\"1\" class=\"dataframe\">\n",
       "  <thead>\n",
       "    <tr style=\"text-align: right;\">\n",
       "      <th></th>\n",
       "      <th>Unnamed: 0</th>\n",
       "      <th>id</th>\n",
       "      <th>3 S0.1 Code ville</th>\n",
       "      <th>4 S0.2. Sexe :</th>\n",
       "      <th>5 -  Code pays</th>\n",
       "      <th>7 Date de passation du questionnaire</th>\n",
       "      <th>8  S1. Combien de salariés travaillent dans votre entreprise?</th>\n",
       "      <th>9 S1. Taille de l'entreprise</th>\n",
       "      <th>10  Dans quel secteur  travaillez-vous ?</th>\n",
       "      <th>11  S2. Votre entreprise utilise-t-elle actuellement des téléphones mobiles ?</th>\n",
       "      <th>...</th>\n",
       "      <th>145 Q42.3 La justesse de votre facture</th>\n",
       "      <th>146 Q43. Utilisez-vous le service de distribution de crédit centralisé pour gérer le rechargement des utilisateurs salariés ?</th>\n",
       "      <th>147 Q44. Globalement la qualité du service de distribution de crédit centralisé ?</th>\n",
       "      <th>148 Q45.   votre operateur principale reste le principal opérateur de votre entreprise. ?</th>\n",
       "      <th>149 Q46. Pour quel autre opérateur principal changeriez-vous ?</th>\n",
       "      <th>151 Q46. Pour quel autre opérateur principal changeriez-vous ?</th>\n",
       "      <th>153 Prénom</th>\n",
       "      <th>154 Nom</th>\n",
       "      <th>155 Numéro de téléphone</th>\n",
       "      <th>156 Nom de l'entreprise</th>\n",
       "    </tr>\n",
       "  </thead>\n",
       "  <tbody>\n",
       "    <tr>\n",
       "      <th>0</th>\n",
       "      <td>0</td>\n",
       "      <td>1</td>\n",
       "      <td>Tunis</td>\n",
       "      <td>Homme</td>\n",
       "      <td>227.0</td>\n",
       "      <td>14/03/2019</td>\n",
       "      <td>20.0</td>\n",
       "      <td>2017-10-24 00:00:00</td>\n",
       "      <td>Industrie</td>\n",
       "      <td>Oui</td>\n",
       "      <td>...</td>\n",
       "      <td>NaN</td>\n",
       "      <td>2.\\tNon</td>\n",
       "      <td>NaN</td>\n",
       "      <td>11.0</td>\n",
       "      <td>NaN</td>\n",
       "      <td>NaN</td>\n",
       "      <td>NaN</td>\n",
       "      <td>NaN</td>\n",
       "      <td>NaN</td>\n",
       "      <td>NaN</td>\n",
       "    </tr>\n",
       "    <tr>\n",
       "      <th>1</th>\n",
       "      <td>1</td>\n",
       "      <td>2</td>\n",
       "      <td>Tunis</td>\n",
       "      <td>Femme</td>\n",
       "      <td>227.0</td>\n",
       "      <td>16/03/2019</td>\n",
       "      <td>11.0</td>\n",
       "      <td>2017-10-24 00:00:00</td>\n",
       "      <td>Services</td>\n",
       "      <td>Oui</td>\n",
       "      <td>...</td>\n",
       "      <td>NaN</td>\n",
       "      <td>NaN</td>\n",
       "      <td>NaN</td>\n",
       "      <td>NaN</td>\n",
       "      <td>NaN</td>\n",
       "      <td>NaN</td>\n",
       "      <td>NaN</td>\n",
       "      <td>NaN</td>\n",
       "      <td>NaN</td>\n",
       "      <td>NaN</td>\n",
       "    </tr>\n",
       "    <tr>\n",
       "      <th>2</th>\n",
       "      <td>2</td>\n",
       "      <td>3</td>\n",
       "      <td>Tunis</td>\n",
       "      <td>Femme</td>\n",
       "      <td>227.0</td>\n",
       "      <td>16/03/2019</td>\n",
       "      <td>11.0</td>\n",
       "      <td>2017-10-24 00:00:00</td>\n",
       "      <td>Services</td>\n",
       "      <td>Oui</td>\n",
       "      <td>...</td>\n",
       "      <td>7</td>\n",
       "      <td>2.\\tNon</td>\n",
       "      <td>NaN</td>\n",
       "      <td>5.0</td>\n",
       "      <td>Tunisie telecom</td>\n",
       "      <td>NaN</td>\n",
       "      <td>NaN</td>\n",
       "      <td>NaN</td>\n",
       "      <td>NaN</td>\n",
       "      <td>NaN</td>\n",
       "    </tr>\n",
       "    <tr>\n",
       "      <th>3</th>\n",
       "      <td>3</td>\n",
       "      <td>4</td>\n",
       "      <td>Sfax</td>\n",
       "      <td>Femme</td>\n",
       "      <td>227.0</td>\n",
       "      <td>15/03/2019</td>\n",
       "      <td>10.0</td>\n",
       "      <td>2017-10-24 00:00:00</td>\n",
       "      <td>Industrie</td>\n",
       "      <td>Oui</td>\n",
       "      <td>...</td>\n",
       "      <td>NaN</td>\n",
       "      <td>NaN</td>\n",
       "      <td>NaN</td>\n",
       "      <td>NaN</td>\n",
       "      <td>NaN</td>\n",
       "      <td>NaN</td>\n",
       "      <td>NaN</td>\n",
       "      <td>NaN</td>\n",
       "      <td>NaN</td>\n",
       "      <td>NaN</td>\n",
       "    </tr>\n",
       "    <tr>\n",
       "      <th>4</th>\n",
       "      <td>4</td>\n",
       "      <td>5</td>\n",
       "      <td>Tunis</td>\n",
       "      <td>Femme</td>\n",
       "      <td>227.0</td>\n",
       "      <td>17/03/2019</td>\n",
       "      <td>12.0</td>\n",
       "      <td>2017-10-24 00:00:00</td>\n",
       "      <td>Santé (Healthcare)</td>\n",
       "      <td>Oui</td>\n",
       "      <td>...</td>\n",
       "      <td>5</td>\n",
       "      <td>2.\\tNon</td>\n",
       "      <td>NaN</td>\n",
       "      <td>5.0</td>\n",
       "      <td>Orange</td>\n",
       "      <td>NaN</td>\n",
       "      <td>NaN</td>\n",
       "      <td>NaN</td>\n",
       "      <td>NaN</td>\n",
       "      <td>NaN</td>\n",
       "    </tr>\n",
       "    <tr>\n",
       "      <th>...</th>\n",
       "      <td>...</td>\n",
       "      <td>...</td>\n",
       "      <td>...</td>\n",
       "      <td>...</td>\n",
       "      <td>...</td>\n",
       "      <td>...</td>\n",
       "      <td>...</td>\n",
       "      <td>...</td>\n",
       "      <td>...</td>\n",
       "      <td>...</td>\n",
       "      <td>...</td>\n",
       "      <td>...</td>\n",
       "      <td>...</td>\n",
       "      <td>...</td>\n",
       "      <td>...</td>\n",
       "      <td>...</td>\n",
       "      <td>...</td>\n",
       "      <td>...</td>\n",
       "      <td>...</td>\n",
       "      <td>...</td>\n",
       "      <td>...</td>\n",
       "    </tr>\n",
       "    <tr>\n",
       "      <th>1405</th>\n",
       "      <td>1405</td>\n",
       "      <td>1406</td>\n",
       "      <td>Tunis</td>\n",
       "      <td>Femme</td>\n",
       "      <td>227.0</td>\n",
       "      <td>23/03/2019</td>\n",
       "      <td>15.0</td>\n",
       "      <td>2017-10-24 00:00:00</td>\n",
       "      <td>Commerce (détail)</td>\n",
       "      <td>Oui</td>\n",
       "      <td>...</td>\n",
       "      <td>2</td>\n",
       "      <td>2.\\tNon</td>\n",
       "      <td>NaN</td>\n",
       "      <td>8.0</td>\n",
       "      <td>NaN</td>\n",
       "      <td>Ne souhaite pas changer</td>\n",
       "      <td>NaN</td>\n",
       "      <td>NaN</td>\n",
       "      <td>NaN</td>\n",
       "      <td>NaN</td>\n",
       "    </tr>\n",
       "    <tr>\n",
       "      <th>1406</th>\n",
       "      <td>1406</td>\n",
       "      <td>1407</td>\n",
       "      <td>Tunis</td>\n",
       "      <td>Femme</td>\n",
       "      <td>227.0</td>\n",
       "      <td>23/03/2019</td>\n",
       "      <td>40.0</td>\n",
       "      <td>25-50</td>\n",
       "      <td>Commerce (détail)</td>\n",
       "      <td>Oui</td>\n",
       "      <td>...</td>\n",
       "      <td>7</td>\n",
       "      <td>2.\\tNon</td>\n",
       "      <td>NaN</td>\n",
       "      <td>8.0</td>\n",
       "      <td>NaN</td>\n",
       "      <td>Ne souhaite pas changer</td>\n",
       "      <td>NaN</td>\n",
       "      <td>NaN</td>\n",
       "      <td>NaN</td>\n",
       "      <td>NaN</td>\n",
       "    </tr>\n",
       "    <tr>\n",
       "      <th>1407</th>\n",
       "      <td>1407</td>\n",
       "      <td>1408</td>\n",
       "      <td>Tunis</td>\n",
       "      <td>Femme</td>\n",
       "      <td>227.0</td>\n",
       "      <td>22/03/2019</td>\n",
       "      <td>50.0</td>\n",
       "      <td>25-50</td>\n",
       "      <td>Services</td>\n",
       "      <td>Oui</td>\n",
       "      <td>...</td>\n",
       "      <td>6</td>\n",
       "      <td>2.\\tNon</td>\n",
       "      <td>NaN</td>\n",
       "      <td>8.0</td>\n",
       "      <td>NaN</td>\n",
       "      <td>Ne souhaite pas changer</td>\n",
       "      <td>NaN</td>\n",
       "      <td>NaN</td>\n",
       "      <td>NaN</td>\n",
       "      <td>NaN</td>\n",
       "    </tr>\n",
       "    <tr>\n",
       "      <th>1408</th>\n",
       "      <td>1408</td>\n",
       "      <td>1409</td>\n",
       "      <td>Tunis</td>\n",
       "      <td>Homme</td>\n",
       "      <td>227.0</td>\n",
       "      <td>23/03/2019</td>\n",
       "      <td>10.0</td>\n",
       "      <td>2017-10-24 00:00:00</td>\n",
       "      <td>Services</td>\n",
       "      <td>Oui</td>\n",
       "      <td>...</td>\n",
       "      <td>6</td>\n",
       "      <td>2.\\tNon</td>\n",
       "      <td>NaN</td>\n",
       "      <td>7.0</td>\n",
       "      <td>Tunisie telecom</td>\n",
       "      <td>NaN</td>\n",
       "      <td>NaN</td>\n",
       "      <td>NaN</td>\n",
       "      <td>NaN</td>\n",
       "      <td>NaN</td>\n",
       "    </tr>\n",
       "    <tr>\n",
       "      <th>1409</th>\n",
       "      <td>1409</td>\n",
       "      <td>1410</td>\n",
       "      <td>Gabes</td>\n",
       "      <td>Homme</td>\n",
       "      <td>227.0</td>\n",
       "      <td>23/03/2019</td>\n",
       "      <td>10.0</td>\n",
       "      <td>2017-10-24 00:00:00</td>\n",
       "      <td>Banque</td>\n",
       "      <td>Oui</td>\n",
       "      <td>...</td>\n",
       "      <td>7</td>\n",
       "      <td>2.\\tNon</td>\n",
       "      <td>NaN</td>\n",
       "      <td>8.0</td>\n",
       "      <td>NaN</td>\n",
       "      <td>Ne souhaite pas changer</td>\n",
       "      <td>NaN</td>\n",
       "      <td>NaN</td>\n",
       "      <td>NaN</td>\n",
       "      <td>NaN</td>\n",
       "    </tr>\n",
       "  </tbody>\n",
       "</table>\n",
       "<p>1410 rows × 141 columns</p>\n",
       "</div>"
      ],
      "text/plain": [
       "      Unnamed: 0    id 3 S0.1 Code ville 4 S0.2. Sexe :  5 -  Code pays  \\\n",
       "0              0     1             Tunis          Homme           227.0   \n",
       "1              1     2             Tunis          Femme           227.0   \n",
       "2              2     3             Tunis          Femme           227.0   \n",
       "3              3     4              Sfax          Femme           227.0   \n",
       "4              4     5             Tunis          Femme           227.0   \n",
       "...          ...   ...               ...            ...             ...   \n",
       "1405        1405  1406             Tunis          Femme           227.0   \n",
       "1406        1406  1407             Tunis          Femme           227.0   \n",
       "1407        1407  1408             Tunis          Femme           227.0   \n",
       "1408        1408  1409             Tunis          Homme           227.0   \n",
       "1409        1409  1410             Gabes          Homme           227.0   \n",
       "\n",
       "     7 Date de passation du questionnaire  \\\n",
       "0                              14/03/2019   \n",
       "1                              16/03/2019   \n",
       "2                              16/03/2019   \n",
       "3                              15/03/2019   \n",
       "4                              17/03/2019   \n",
       "...                                   ...   \n",
       "1405                           23/03/2019   \n",
       "1406                           23/03/2019   \n",
       "1407                           22/03/2019   \n",
       "1408                           23/03/2019   \n",
       "1409                           23/03/2019   \n",
       "\n",
       "      8  S1. Combien de salariés travaillent dans votre entreprise?  \\\n",
       "0                                                  20.0               \n",
       "1                                                  11.0               \n",
       "2                                                  11.0               \n",
       "3                                                  10.0               \n",
       "4                                                  12.0               \n",
       "...                                                 ...               \n",
       "1405                                               15.0               \n",
       "1406                                               40.0               \n",
       "1407                                               50.0               \n",
       "1408                                               10.0               \n",
       "1409                                               10.0               \n",
       "\n",
       "     9 S1. Taille de l'entreprise 10  Dans quel secteur  travaillez-vous ?  \\\n",
       "0             2017-10-24 00:00:00                                Industrie   \n",
       "1             2017-10-24 00:00:00                                 Services   \n",
       "2             2017-10-24 00:00:00                                 Services   \n",
       "3             2017-10-24 00:00:00                                Industrie   \n",
       "4             2017-10-24 00:00:00                       Santé (Healthcare)   \n",
       "...                           ...                                      ...   \n",
       "1405          2017-10-24 00:00:00                        Commerce (détail)   \n",
       "1406                        25-50                        Commerce (détail)   \n",
       "1407                        25-50                                 Services   \n",
       "1408          2017-10-24 00:00:00                                 Services   \n",
       "1409          2017-10-24 00:00:00                                   Banque   \n",
       "\n",
       "     11  S2. Votre entreprise utilise-t-elle actuellement des téléphones mobiles ?  \\\n",
       "0                                                   Oui                              \n",
       "1                                                   Oui                              \n",
       "2                                                   Oui                              \n",
       "3                                                   Oui                              \n",
       "4                                                   Oui                              \n",
       "...                                                 ...                              \n",
       "1405                                                Oui                              \n",
       "1406                                                Oui                              \n",
       "1407                                                Oui                              \n",
       "1408                                                Oui                              \n",
       "1409                                                Oui                              \n",
       "\n",
       "      ... 145 Q42.3 La justesse de votre facture  \\\n",
       "0     ...                                    NaN   \n",
       "1     ...                                    NaN   \n",
       "2     ...                                      7   \n",
       "3     ...                                    NaN   \n",
       "4     ...                                      5   \n",
       "...   ...                                    ...   \n",
       "1405  ...                                      2   \n",
       "1406  ...                                      7   \n",
       "1407  ...                                      6   \n",
       "1408  ...                                      6   \n",
       "1409  ...                                      7   \n",
       "\n",
       "     146 Q43. Utilisez-vous le service de distribution de crédit centralisé pour gérer le rechargement des utilisateurs salariés ?  \\\n",
       "0                                               2.\\tNon                                                                              \n",
       "1                                                   NaN                                                                              \n",
       "2                                               2.\\tNon                                                                              \n",
       "3                                                   NaN                                                                              \n",
       "4                                               2.\\tNon                                                                              \n",
       "...                                                 ...                                                                              \n",
       "1405                                            2.\\tNon                                                                              \n",
       "1406                                            2.\\tNon                                                                              \n",
       "1407                                            2.\\tNon                                                                              \n",
       "1408                                            2.\\tNon                                                                              \n",
       "1409                                            2.\\tNon                                                                              \n",
       "\n",
       "     147 Q44. Globalement la qualité du service de distribution de crédit centralisé ?  \\\n",
       "0                                                   NaN                                  \n",
       "1                                                   NaN                                  \n",
       "2                                                   NaN                                  \n",
       "3                                                   NaN                                  \n",
       "4                                                   NaN                                  \n",
       "...                                                 ...                                  \n",
       "1405                                                NaN                                  \n",
       "1406                                                NaN                                  \n",
       "1407                                                NaN                                  \n",
       "1408                                                NaN                                  \n",
       "1409                                                NaN                                  \n",
       "\n",
       "     148 Q45.   votre operateur principale reste le principal opérateur de votre entreprise. ?  \\\n",
       "0                                                  11.0                                          \n",
       "1                                                   NaN                                          \n",
       "2                                                   5.0                                          \n",
       "3                                                   NaN                                          \n",
       "4                                                   5.0                                          \n",
       "...                                                 ...                                          \n",
       "1405                                                8.0                                          \n",
       "1406                                                8.0                                          \n",
       "1407                                                8.0                                          \n",
       "1408                                                7.0                                          \n",
       "1409                                                8.0                                          \n",
       "\n",
       "     149 Q46. Pour quel autre opérateur principal changeriez-vous ?  \\\n",
       "0                                                   NaN               \n",
       "1                                                   NaN               \n",
       "2                                       Tunisie telecom               \n",
       "3                                                   NaN               \n",
       "4                                                Orange               \n",
       "...                                                 ...               \n",
       "1405                                                NaN               \n",
       "1406                                                NaN               \n",
       "1407                                                NaN               \n",
       "1408                                    Tunisie telecom               \n",
       "1409                                                NaN               \n",
       "\n",
       "     151 Q46. Pour quel autre opérateur principal changeriez-vous ?  \\\n",
       "0                                                   NaN               \n",
       "1                                                   NaN               \n",
       "2                                                   NaN               \n",
       "3                                                   NaN               \n",
       "4                                                   NaN               \n",
       "...                                                 ...               \n",
       "1405                            Ne souhaite pas changer               \n",
       "1406                            Ne souhaite pas changer               \n",
       "1407                            Ne souhaite pas changer               \n",
       "1408                                                NaN               \n",
       "1409                            Ne souhaite pas changer               \n",
       "\n",
       "     153 Prénom 154 Nom 155 Numéro de téléphone  156 Nom de l'entreprise  \n",
       "0           NaN     NaN                     NaN                      NaN  \n",
       "1           NaN     NaN                     NaN                      NaN  \n",
       "2           NaN     NaN                     NaN                      NaN  \n",
       "3           NaN     NaN                     NaN                      NaN  \n",
       "4           NaN     NaN                     NaN                      NaN  \n",
       "...         ...     ...                     ...                      ...  \n",
       "1405        NaN     NaN                     NaN                      NaN  \n",
       "1406        NaN     NaN                     NaN                      NaN  \n",
       "1407        NaN     NaN                     NaN                      NaN  \n",
       "1408        NaN     NaN                     NaN                      NaN  \n",
       "1409        NaN     NaN                     NaN                      NaN  \n",
       "\n",
       "[1410 rows x 141 columns]"
      ]
     },
     "execution_count": 9,
     "metadata": {},
     "output_type": "execute_result"
    }
   ],
   "source": [
    "df = pd.read_excel('data.xlsx')\n",
    "df"
   ]
  },
  {
   "cell_type": "code",
   "execution_count": 41,
   "id": "experimental-tennessee",
   "metadata": {},
   "outputs": [
    {
     "data": {
      "text/plain": [
       "Index(['Unnamed: 0', 'id', '3 S0.1 Code ville', '4 S0.2. Sexe :',\n",
       "       '5 -  Code pays', '7 Date de passation du questionnaire',\n",
       "       '8  S1. Combien de salariés travaillent dans votre entreprise?',\n",
       "       '9 S1. Taille de l'entreprise',\n",
       "       '10  Dans quel secteur  travaillez-vous ?',\n",
       "       '11  S2. Votre entreprise utilise-t-elle actuellement des téléphones mobiles ?',\n",
       "       ...\n",
       "       '145 Q42.3 La justesse de votre facture',\n",
       "       '146 Q43. Utilisez-vous le service de distribution de crédit centralisé pour gérer le rechargement des utilisateurs salariés ?',\n",
       "       '147 Q44. Globalement la qualité du service de distribution de crédit centralisé ?',\n",
       "       '148 Q45.   votre operateur principale reste le principal opérateur de votre entreprise. ?',\n",
       "       '149 Q46. Pour quel autre opérateur principal changeriez-vous ?',\n",
       "       '151 Q46. Pour quel autre opérateur principal changeriez-vous ?',\n",
       "       '153 Prénom', '154 Nom', '155 Numéro de téléphone',\n",
       "       '156 Nom de l'entreprise'],\n",
       "      dtype='object', length=141)"
      ]
     },
     "execution_count": 41,
     "metadata": {},
     "output_type": "execute_result"
    }
   ],
   "source": [
    "df.columns"
   ]
  },
  {
   "cell_type": "code",
   "execution_count": 42,
   "id": "narrow-robert",
   "metadata": {
    "collapsed": true,
    "jupyter": {
     "outputs_hidden": true
    }
   },
   "outputs": [
    {
     "name": "stdout",
     "output_type": "stream",
     "text": [
      "Unnamed: 0   [   0    1    2 ... 1407 1408 1409]\n",
      "id   [   1    2    3 ... 1408 1409 1410]\n",
      "3 S0.1 Code ville   ['Tunis' 'Sfax' nan 'Gabes' 'Sousse']\n",
      "4 S0.2. Sexe :   ['Homme' 'Femme' nan]\n",
      "5 -  Code pays   [227.  nan]\n",
      "7 Date de passation du questionnaire   ['14/03/2019' '16/03/2019' '15/03/2019' '17/03/2019' '20/03/2019'\n",
      " '21/03/2019' '18/03/2019' '22/03/2019' '23/03/2019' '24/03/2019'\n",
      " '25/03/2019' '27/03/2019' '28/03/2019' '29/03/2019' '30/03/2019'\n",
      " '31/03/2019' datetime.datetime(2019, 1, 4, 0, 0)\n",
      " datetime.datetime(2019, 4, 4, 0, 0) datetime.datetime(2019, 3, 4, 0, 0)\n",
      " datetime.datetime(2019, 6, 4, 0, 0) datetime.datetime(2019, 5, 4, 0, 0)\n",
      " datetime.datetime(2019, 7, 4, 0, 0) datetime.datetime(2019, 3, 14, 0, 0)\n",
      " datetime.datetime(2019, 3, 16, 0, 0) datetime.datetime(2019, 3, 15, 0, 0)\n",
      " datetime.datetime(2019, 3, 17, 0, 0) datetime.datetime(2019, 3, 20, 0, 0)\n",
      " datetime.datetime(2019, 3, 21, 0, 0) datetime.datetime(2019, 3, 18, 0, 0)\n",
      " datetime.datetime(2019, 3, 22, 0, 0) datetime.datetime(2019, 3, 23, 0, 0)\n",
      " datetime.datetime(2019, 3, 24, 0, 0) nan\n",
      " datetime.datetime(2019, 3, 25, 0, 0) datetime.datetime(2019, 3, 27, 0, 0)\n",
      " datetime.datetime(2019, 3, 28, 0, 0) datetime.datetime(2019, 3, 29, 0, 0)\n",
      " datetime.datetime(2019, 3, 30, 0, 0) datetime.datetime(2019, 3, 31, 0, 0)\n",
      " datetime.datetime(2019, 4, 1, 0, 0) datetime.datetime(2019, 5, 20, 0, 0)]\n",
      "8  S1. Combien de salariés travaillent dans votre entreprise?   [20. 11. 10. 12. 14. 13. 29. 49. 30. 23. 45. 50. 35. 22. 27. 19. 48. 36.\n",
      " 15. 25. 40. 24. 28. 43. 16. 26. 41. 31. 44. 21. 47. 32. 33. 38. 42. nan]\n",
      "9 S1. Taille de l'entreprise   ['0-24' '25-50' nan]\n",
      "10  Dans quel secteur  travaillez-vous ?   ['Industrie' 'Services' 'Santé (Healthcare)'\n",
      " 'Administration/gouvernement (Government and Public)' 'Assurances'\n",
      " 'Banque' 'Commerce (détail)' 'Tourisme' nan 'INFORMATIQUE']\n",
      "11  S2. Votre entreprise utilise-t-elle actuellement des téléphones mobiles ?   ['Oui' nan]\n",
      "12   S2A. Parmi ces téléphones, y a-t-il des Smartphones ?   ['Oui' 'Non' nan]\n",
      "13 S3. Etes-vous le décideur concernant ces choix ?   ['Oui' 'Non' nan]\n",
      "14  S4. Quels sont tous les opérateurs que votre entreprise utilise   ['Orange/Ooredoo' 'Orange' 'Ooredoo' 'Orange/Tunisie Telecom'\n",
      " 'Orange/Ooredoo/Tunisie Telecom' 'Tunisie Telecom'\n",
      " 'Ooredoo/Tunisie Telecom' nan]\n",
      "15 S5. Et quel est l’opérateur principal que votre entreprise utilise?    ['Ooredoo' 'Orange' 'Tunisie Télécom' nan]\n",
      "16  S6. Depuis combien de temps votre entreprise est-elle cliente de cet opérateur principal ?   ['1 an à moins de 2 ans' '3 ans ou plus' '3 mois à moins de 6 mois'\n",
      " '2 ans à moins de 3 ans' '6 mois à moins de 12 mois'\n",
      " 'Il y a moins de 3 mois' nan]\n",
      "17  S7 Pour Orange, quel énoncé décrit le mieux la situation de votre entreprise?    ['S7.1 Les abonnements mobiles sont fournis par l’entreprise à certains ou à tous les employés et les factures sont payées en intégralité par l’entreprise.'\n",
      " 'S7.4 Certains ou tous les employés ont leur propre abonnement  mobile et ne se font pas rembourser du tout leur facture par votre entreprise'\n",
      " nan\n",
      " 'S7.3 Certains ou tous les employés ont souscrit leur propre abonnement  mobile mais se font rembourser en partie ou en totalité leur facture par l’entreprise'\n",
      " 'S7.2 Les abonnements mobiles sont fournis par l’entreprise à certains ou à tous les employés et les factures sont payées en partie par l’entreprise']\n",
      "18 S7Pour Ooredoo, quel énoncé décrit le mieux la situation de votre entreprise ?   ['S7.1 Les abonnements mobiles sont fournis par l’entreprise à certains ou à tous les employés et les factures sont payées en intégralité par l’entreprise.'\n",
      " nan\n",
      " 'S7.2 Les abonnements mobiles sont fournis par l’entreprise à certains ou à tous les employés et les factures sont payées en partie par l’entreprise'\n",
      " 'S7.4 Certains ou tous les employés ont leur propre abonnement  mobile et ne se font pas rembourser du tout leur facture par votre entreprise'\n",
      " 'S7.3 Certains ou tous les employés ont souscrit leur propre abonnement  mobile mais se font rembourser en partie ou en totalité leur facture par l’entreprise']\n",
      "19  S7 Pour Tunisie Telecom, quel énoncé décrit le mieux la situation de votre entreprise ?    [nan\n",
      " 'S7.1 Les abonnements mobiles sont fournis par l’entreprise à certains ou à tous les employés et les factures sont payées en intégralité par l’entreprise.'\n",
      " 'S7.3 Certains ou tous les employés ont souscrit leur propre abonnement  mobile mais se font rembourser en partie ou en totalité leur facture par l’entreprise'\n",
      " 'S7.4 Certains ou tous les employés ont leur propre abonnement  mobile et ne se font pas rembourser du tout leur facture par votre entreprise'\n",
      " 'S7.2 Les abonnements mobiles sont fournis par l’entreprise à certains ou à tous les employés et les factures sont payées en partie par l’entreprise']\n",
      "20  S8. Quel type d’offre votre entreprise ou vos salariés ont-ils le plus souscrit chez votre opérateur principal  ?   ['Offre mobile prépayée' 'Offre mobile postpayé'\n",
      " 'Offre mobile prépayée avec tarif préférentiel intra-flotte'\n",
      " 'Offre mobile postpayée avec tarif préférentiel intra-flotte'\n",
      " 'Offre hybride' nan]\n",
      "21  Q01A. Recommanderiez-vous les services de téléphonie mobile de votre opérateur principal à vos collègues ou partenaire commercial ?   [ 6.  5.  3.  1.  4.  8. 10.  7.  9. 11.  2. nan]\n",
      "22  Q01B.  recommanderiez-vous Orange à un de vos proches, vos amis et votre famille ?   [ 6. nan  9.  7.  5.  8. 10.]\n",
      "23 Q01B. recommanderiez-vous Ooredoo à un de vos proches, vos amis et votre famille ?   [nan  6.  7.  8.  9.  4.  5.]\n",
      "24  Q01B.  recommanderiez-vous Tunisie Telecom à un de vos proches, vos amis et votre famille ?   [nan  5.  6.  1.  7.  8.]\n",
      "25 Orange a fait quelque chose qui allait au-delà de vos attentes   ['rien a signaler' '4ans' 'K' 'Le prix de la minute est minimisė'\n",
      " 'Pris bas cle 3G avec une bonne couverture' 'Ras'\n",
      " 'Bonne couverture, offres exellents, récompenses de fidélité' 'RAS' 'ras'\n",
      " 'Facilité des tâches' 'Riseau cv' 'Cout ,riseau,offre'\n",
      " 'offrir des offres destineé aux entreprises' 'RAs' 'R a s' 'Test'\n",
      " 'Rien a dire' '1ans' '1 mois' 'cv pas' 'Non' 'non' 'Cv' 7 'انترنات تقص'\n",
      " '2ans' 'connexions' 'cv' '6ans' 2014 'Oui' 'Nn' 'bien' 'Cv bien' 'Bonus'\n",
      " 'Ccv' '10 ans' 'Cvtres bien' 'Rien à signaler' '5ans' 'Bien' 'Cnx faible'\n",
      " '6mois' 'Ras-' 'Bonne qualité de réseau' 'Rien' 'Pa bien' 'Cb'\n",
      " 'Lignes favorisées' '3ans' nan]\n",
      "26 Orange a fait quelque chose qui n’a pas répondu à vos attentes   ['rien a signaler' '4ans' 'Ffg' 'Ras' 'Reseau ,internet' 'RAS' 'ras' 'Non'\n",
      " 'Probleme de reseau' 'Cout' 'Service apres vente cv pas' 'Test'\n",
      " 'Rien a dire' 'R á d' 'R a d' 'cvpas' 'non'\n",
      " 'une faible performance a propos les appels téléphoniques'\n",
      " \"problème de logistique ( la facture n'arrive pas dans les délais convenable )\"\n",
      " 'faible rendement sur le plan ADSL' 'Cv' 'connexion' '2Ans' 'cv' 'Nn'\n",
      " 'Reseau cv pa' 'Commande de payment' 'Riseau' 'Cout tres chére'\n",
      " 'Problèmes de facturations' '10 ans' 'Rien à signaler' 'Cv pas'\n",
      " \"Les offres d'orange sont rentables pour nous\"\n",
      " 'Faible couverture dans les zones loins du centre' 'Rien'\n",
      " \"Manque d'information et d'aide\" 'Cvpa' 'Cvb'\n",
      " \"Faible couverture à  la Soukra le matin, manque d'information sur les services\"\n",
      " 'Rad' \"Les offres d'ooredoo sont rentables pour nous\" nan]\n",
      "27 LA QUALITE DE SERVICE GLOBALE de  votre operateur principale   [ 6.  5.  8.  9.  7.  4.  3.  1. 10. nan]\n",
      "28 Comment évaluez-vous le COUT GLOBAL des offres et services de votre operateur principale   [ 6.  7.  5.  3.  9.  8.  4.  2.  1. 11. nan]\n",
      "29 le rapport qualité-prix   de votre operateur principale   [ 6.  5.  4.  7.  9.  8.  3. nan 10.  2. 11.]\n",
      "30 Q04.1 C’est un opérateur qui m’inspire confiance   [ 5.  6.  2.  7.  9.  8. nan  4.  3. 10.  1.]\n",
      "31  Q04.2 C’est un opérateur qui contribue à simplifier la vie de ses clients entreprise   [ 5.  6.  7.  3.  2.  9.  8. nan  4.  1. 10.]\n",
      "32  Q04.3 C’est un opérateur qui écoute ses clients et comprend ce qu’ils veulent   [ 5.  4.  7.  9.  6.  8. nan  1. 10.  3.]\n",
      "33 Q04.4 C’est un opérateur qui récompense la fidélité des clients entreprise   [ 5.  6.  3.  7.  9.  8.  2. nan  1. 10.  4.]\n",
      "34 Q04.5 C’est un opérateur qui résout mes problèmes lorsque c’est  nécessaire   [ 5.  4.  7.  3.  9. 11.  2.  6.  8. nan  1. 10.]\n",
      "35  Q04.6 Je me sens apprécié en tant que client entreprise   [ 5.  4.  7.  6.  3.  9.  8.  2. nan  1. 10.]\n",
      "36  Q04.7 C’est un opérateur qui me propose des offres et services qui me sont essentiels   [ 5.  4.  6.  7.  3.  8.  9.  2. nan  1. 10.]\n",
      "37  Q05. Connaissez-vous les offres entreprises de votre opérateur ?   ['Oui' 'Non' nan]\n",
      "38  Q05A.1 … cherché des informations sur l’opérateur de votre entreprise ou ses offres   ['Non' nan 'Oui' 'NE SAIT PAS']\n",
      "39 Q05A.2 … reçu des informations de la part de cet opérateur   ['Non' nan 'Oui' 'NE SAIT PAS']\n",
      "40  Q05B. Par quels principaux moyens avez-vous trouvé les informations que vous recherchiez ?   [nan '/ 2.\\tSur le site Internet de votre opérateur /'\n",
      " '/ 1.\\tDans la presse / 2.\\tSur le site Internet de votre opérateur / 6.\\tEn boutique / agence /'\n",
      " '/ 1.\\tDans la presse / 5.\\tVia le bouche à oreille / 6.\\tEn boutique / agence /'\n",
      " '/ 3.\\tSur Internet via un moteur de recherche (Google, Yahoo!, Bing, …) / 4.\\tSur Facebook, Twitter, etc /'\n",
      " '/ 2.\\tSur le site Internet de votre opérateur / 3.\\tSur Internet via un moteur de recherche (Google, Yahoo!, Bing, …) / 8.\\tEn appelant le Service Client /'\n",
      " '/ 5.\\tVia le bouche à oreille / 7.\\tChez votre distributeur /'\n",
      " '/ 2.\\tSur le site Internet de votre opérateur / 4.\\tSur Facebook, Twitter, etc / 5.\\tVia le bouche à oreille / 6.\\tEn boutique / agence / 7.\\tChez votre distributeur /'\n",
      " '/ 8.\\tEn appelant le Service Client /'\n",
      " '/ 1.\\tDans la presse / 3.\\tSur Internet via un moteur de recherche (Google, Yahoo!, Bing, …) / 6.\\tEn boutique / agence /'\n",
      " '/ 4.\\tSur Facebook, Twitter, etc /'\n",
      " '/ 1.\\tDans la presse / 3.\\tSur Internet via un moteur de recherche (Google, Yahoo!, Bing, …) / 4.\\tSur Facebook, Twitter, etc /'\n",
      " '/ 1.\\tDans la presse / 2.\\tSur le site Internet de votre opérateur / 3.\\tSur Internet via un moteur de recherche (Google, Yahoo!, Bing, …) / 4.\\tSur Facebook, Twitter, etc /'\n",
      " '/ 2.\\tSur le site Internet de votre opérateur / 5.\\tVia le bouche à oreille / 6.\\tEn boutique / agence /'\n",
      " '/ 3.\\tSur Internet via un moteur de recherche (Google, Yahoo!, Bing, …) / 8.\\tEn appelant le Service Client /'\n",
      " '/ 2.\\tSur le site Internet de votre opérateur / 5.\\tVia le bouche à oreille /'\n",
      " '/ 1.\\tDans la presse / 3.\\tSur Internet via un moteur de recherche (Google, Yahoo!, Bing, …) / 4.\\tSur Facebook, Twitter, etc / 6.\\tEn boutique / agence /'\n",
      " '/ 1.\\tDans la presse / 2.\\tSur le site Internet de votre opérateur / 3.\\tSur Internet via un moteur de recherche (Google, Yahoo!, Bing, …) /'\n",
      " '/ 1.\\tDans la presse / 3.\\tSur Internet via un moteur de recherche (Google, Yahoo!, Bing, …) / 7.\\tChez votre distributeur /'\n",
      " '/ 1.\\tDans la presse / 2.\\tSur le site Internet de votre opérateur / 4.\\tSur Facebook, Twitter, etc /'\n",
      " '/ 2.\\tSur le site Internet de votre opérateur / 3.\\tSur Internet via un moteur de recherche (Google, Yahoo!, Bing, …) / 5.\\tVia le bouche à oreille /'\n",
      " '/ 1.\\tDans la presse / 3.\\tSur Internet via un moteur de recherche (Google, Yahoo!, Bing, …) / 4.\\tSur Facebook, Twitter, etc / 5.\\tVia le bouche à oreille /'\n",
      " '/ 3.\\tSur Internet via un moteur de recherche (Google, Yahoo!, Bing, …) / 6.\\tEn boutique / agence /'\n",
      " '/ 5.\\tVia le bouche à oreille / 6.\\tEn boutique / agence /'\n",
      " '/ 1.\\tDans la presse / 4.\\tSur Facebook, Twitter, etc / 7.\\tChez votre distributeur /'\n",
      " '/ 1.\\tDans la presse / 4.\\tSur Facebook, Twitter, etc / 5.\\tVia le bouche à oreille / 8.\\tEn appelant le Service Client /'\n",
      " '/ 1.\\tDans la presse / 4.\\tSur Facebook, Twitter, etc / 5.\\tVia le bouche à oreille / 6.\\tEn boutique / agence /'\n",
      " '/ 4.\\tSur Facebook, Twitter, etc / 5.\\tVia le bouche à oreille /'\n",
      " '/ 1.\\tDans la presse / 3.\\tSur Internet via un moteur de recherche (Google, Yahoo!, Bing, …) / 5.\\tVia le bouche à oreille / 7.\\tChez votre distributeur /'\n",
      " '/ 2.\\tSur le site Internet de votre opérateur / 4.\\tSur Facebook, Twitter, etc / 6.\\tEn boutique / agence /'\n",
      " '/ 4.\\tSur Facebook, Twitter, etc / 5.\\tVia le bouche à oreille / 6.\\tEn boutique / agence /'\n",
      " '/ 2.\\tSur le site Internet de votre opérateur / 4.\\tSur Facebook, Twitter, etc / 7.\\tChez votre distributeur /'\n",
      " '/ 2.\\tSur le site Internet de votre opérateur / 3.\\tSur Internet via un moteur de recherche (Google, Yahoo!, Bing, …) / 4.\\tSur Facebook, Twitter, etc / 6.\\tEn boutique / agence / 8.\\tEn appelant le Service Client /'\n",
      " '/ 6.\\tEn boutique / agence /'\n",
      " '/ 6.\\tEn boutique / agence / 8.\\tEn appelant le Service Client /'\n",
      " '/ 7.\\tChez votre distributeur /'\n",
      " '/ 2.\\tSur le site Internet de votre opérateur / 3.\\tSur Internet via un moteur de recherche (Google, Yahoo!, Bing, …) /'\n",
      " '/ 1.\\tDans la presse /'\n",
      " '/ 1.\\tDans la presse / 2.\\tSur le site Internet de votre opérateur / 3.\\tSur Internet via un moteur de recherche (Google, Yahoo!, Bing, …) / 4.\\tSur Facebook, Twitter, etc / 5.\\tVia le bouche à oreille /'\n",
      " '/ 3.\\tSur Internet via un moteur de recherche (Google, Yahoo!, Bing, …) /'\n",
      " '2.' '2.Sur le site Internet de votre opérateur'\n",
      " '1.Dans la presse/2.Sur le site Internet de votre opérateur/6.En boutique / agence'\n",
      " '1.Dans la presse/5.Via le bouche à oreille/6.En boutique / agence'\n",
      " '3.Sur Internet via un moteur de recherche (Google, Yahoo!, Bing, …)/4.Sur Facebook, Twitter, etc'\n",
      " '2.Sur le site Internet de votre opérateur/3.Sur Internet via un moteur de recherche (Google, Yahoo!, Bing, …)/8.En appelant le Service Client'\n",
      " '5.Via le bouche à oreille/7.Chez votre distributeur'\n",
      " '2.Sur le site Internet de votre opérateur/4.Sur Facebook, Twitter, etc/5.Via le bouche à oreille/6.En boutique / agence/7.Chez votre distributeur'\n",
      " '8.En appelant le Service Client'\n",
      " '1.Dans la presse/3.Sur Internet via un moteur de recherche (Google, Yahoo!, Bing, …)/4.Sur Facebook, Twitter, etc'\n",
      " '1.Dans la presse/2.Sur le site Internet de votre opérateur/3.Sur Internet via un moteur de recherche (Google, Yahoo!, Bing, …)/4.Sur Facebook, Twitter, etc'\n",
      " '2.Sur le site Internet de votre opérateur/5.Via le bouche à oreille/6.En boutique / agence'\n",
      " 'Sur Internet via un moteur de recherche (Google, Yahoo!, Bing, …)/8.En appelant le Service Client'\n",
      " 'Sur le site Internet de votre opérateur/5.Via le bouche à oreille'\n",
      " 'Dans la presse/3.Sur Internet via un moteur de recherche (Google, Yahoo!, Bing, …)/4.Sur Facebook, Twitter, etc/6.En boutique / agence'\n",
      " 'Dans la presse/2.Sur le site Internet de votre opérateur/3.Sur Internet via un moteur de recherche (Google, Yahoo!, Bing, …)'\n",
      " 'Dans la presse/3.Sur Internet via un moteur de recherche (Google, Yahoo!, Bing, …)/7.Chez votre distributeur'\n",
      " 'Dans la presse/2.Sur le site Internet de votre opérateur/4.Sur Facebook, Twitter, etc'\n",
      " 'Sur le site Internet de votre opérateur/3.Sur Internet via un moteur de recherche (Google, Yahoo!, Bing, …)/5.Via le bouche à oreille'\n",
      " 'Dans la presse/3.Sur Internet via un moteur de recherche (Google, Yahoo!, Bing, …)/4.Sur Facebook, Twitter, etc/5.Via le bouche à oreille'\n",
      " 'Sur Internet via un moteur de recherche (Google, Yahoo!, Bing, …)/6.En boutique / agence'\n",
      " 'Via le bouche à oreille/6.En boutique / agence'\n",
      " 'Dans la presse/4.Sur Facebook, Twitter, etc/7.Chez votre distributeur'\n",
      " 'En appelant le Service Client'\n",
      " 'Dans la presse/4.Sur Facebook, Twitter, etc/5.Via le bouche à oreille/6.En boutique / agence'\n",
      " 'Sur Facebook, Twitter, etc/5.Via le bouche à oreille'\n",
      " 'Dans la presse/2.Sur le site Internet de votre opérateur/3.Sur Internet via un moteur de recherche (Google, Yahoo!, Bing, …)/4.Sur Facebook, Twitter, etc'\n",
      " 'Dans la presse/2.Sur le site Internet de votre opérateur/4.'\n",
      " 'Dans la presse/3.Sur Facebook, Twitter, etc/2.Sur Internet via un moteur de recherche (Google, Yahoo!, Bing, …)/5.Via le bouche à oreille/7.Chez votre distributeur'\n",
      " 'Dans la presse/2.Sur le site Internet de votre opérateur/3.Sur Internet via un moteur de recherche (Google, Yahoo!, Bing, …)/4.Sur Facebook, Twitter, etcSur Facebook, Twitter, etc'\n",
      " 'Sur le site Internet de votre opérateur/4.Sur Facebook, Twitter, etc/6.En boutique / agence'\n",
      " 'Sur Facebook, Twitter, etc/5.Via le bouche à oreille/6.En boutique / agence'\n",
      " 'Sur le site Internet de votre opérateur/4.Sur Facebook, Twitter, etc/7.Chez votre distributeur'\n",
      " 'Sur le site Internet de votre opérateur/3.Sur Internet via un moteur de recherche (Google, Yahoo!, Bing, …)/4.Sur Facebook, Twitter, etc/6.En boutique / agence/8.En appelant le Service Client'\n",
      " 'En boutique / agence' 'Sur le site Internet de votre opérateur'\n",
      " 'Dans la presse/2.Sur le site Internet de votre opérateur/6.En boutique / agence'\n",
      " 'Dans la presse/5.Via le bouche à oreille/6.En boutique / agence'\n",
      " 'Sur Internet via un moteur de recherche (Google, Yahoo!, Bing, …)/4.Sur Facebook, Twitter, etc'\n",
      " 'Sur le site Internet de votre opérateur/3.Sur Internet via un moteur de recherche (Google, Yahoo!, Bing, …)/8.En appelant le Service Client'\n",
      " 'Via le bouche à oreille/7.Chez votre distributeur'\n",
      " 'Sur le site Internet de votre opérateur/4.Sur Facebook, Twitter, etc/5.Via le bouche à oreille/6.En boutique / agence/7.Chez votre distributeur'\n",
      " 'Dans la presse/3.Sur Internet via un moteur de recherche (Google, Yahoo!, Bing, …)/4.Sur Facebook, Twitter, etc'\n",
      " 'Sur le site Internet de votre opérateur/5.Via le bouche à oreille/6.En boutique / agence'\n",
      " 'Dans la presse/4.Sur Facebook, Twitter, etc/5.Via le bouche à oreille/8.En appelant le Service Client'\n",
      " 'Dans la presse/3.Sur Internet via un moteur de recherche (Google, Yahoo!, Bing, …)/5.Via le bouche à oreille/7.Chez votre distributeur'\n",
      " '8.']\n",
      "42 Q05C. Par quels principaux moyens avez-vous reçu ces informations de la part de votre opérateur ?   [nan\n",
      " '/ 2.\\tVia affichage publicitaire / 4.\\tVia la télévision / 8.\\tPar SMS (message texte) /'\n",
      " '/ 8.\\tPar SMS (message texte) /'\n",
      " '/ 7.\\tDans un mailing, par courrier / 8.\\tPar SMS (message texte) /'\n",
      " '/ 2.\\tVia affichage publicitaire / 3.\\tVia la radio / 4.\\tVia la télévision / 8.\\tPar SMS (message texte) /'\n",
      " '/ 2.\\tVia affichage publicitaire / 8.\\tPar SMS (message texte) /'\n",
      " '/ 8.\\tPar SMS (message texte) / 9.\\tSur Facebook, Twitter, etc. /'\n",
      " '/ 3.\\tVia la radio / 4.\\tVia la télévision / 8.\\tPar SMS (message texte) / 9.\\tSur Facebook, Twitter, etc. /'\n",
      " '/ 2.\\tVia affichage publicitaire / 3.\\tVia la radio / 4.\\tVia la télévision / 8.\\tPar SMS (message texte) / 9.\\tSur Facebook, Twitter, etc. /'\n",
      " '/ 2.\\tVia affichage publicitaire / 7.\\tDans un mailing, par courrier / 8.\\tPar SMS (message texte) /'\n",
      " '/ 2.\\tVia affichage publicitaire / 4.\\tVia la télévision /'\n",
      " '/ 2.\\tVia affichage publicitaire / 3.\\tVia la radio / 4.\\tVia la télévision / 5.\\tDans la presse /'\n",
      " '/ 2.\\tVia affichage publicitaire / 3.\\tVia la radio / 4.\\tVia la télévision /'\n",
      " '/ 2.\\tVia affichage publicitaire / 8.\\tPar SMS (message texte) / 9.\\tSur Facebook, Twitter, etc. /'\n",
      " '/ 3.\\tVia la radio / 5.\\tDans la presse /'\n",
      " '/ 4.\\tVia la télévision / 8.\\tPar SMS (message texte) / 9.\\tSur Facebook, Twitter, etc. /'\n",
      " '/ 10.\\tVia un évènement culturel ou sportif /'\n",
      " '/ 11.\\tPar le service client /'\n",
      " '/ 5.\\tDans la presse / 6.\\tDans un prospectus / 8.\\tPar SMS (message texte) /'\n",
      " '/ 3.\\tVia la radio / 4.\\tVia la télévision /'\n",
      " '/ 1.\\tVisite d’un commercial / 8.\\tPar SMS (message texte) / 9.\\tSur Facebook, Twitter, etc. /'\n",
      " '/ 1.\\tVisite d’un commercial / 9.\\tSur Facebook, Twitter, etc. /'\n",
      " '/ 8.\\tPar SMS (message texte) / 11.\\tPar le service client /'\n",
      " '/ 1.\\tVisite d’un commercial / 2.\\tVia affichage publicitaire / 3.\\tVia la radio /'\n",
      " '/ 3.\\tVia la radio / 4.\\tVia la télévision / 8.\\tPar SMS (message texte) /'\n",
      " '/ 1.\\tVisite d’un commercial / 2.\\tVia affichage publicitaire / 7.\\tDans un mailing, par courrier /'\n",
      " '/ 1.\\tVisite d’un commercial / 4.\\tVia la télévision /'\n",
      " '/ 2.\\tVia affichage publicitaire / 4.\\tVia la télévision / 5.\\tDans la presse /'\n",
      " '/ 1.\\tVisite d’un commercial / 2.\\tVia affichage publicitaire / 4.\\tVia la télévision / 7.\\tDans un mailing, par courrier /'\n",
      " '/ 1.\\tVisite d’un commercial / 4.\\tVia la télévision / 5.\\tDans la presse / 8.\\tPar SMS (message texte) / 9.\\tSur Facebook, Twitter, etc. /'\n",
      " '/ 2.\\tVia affichage publicitaire / 8.\\tPar SMS (message texte) / 11.\\tPar le service client /'\n",
      " '/ 9.\\tSur Facebook, Twitter, etc. /'\n",
      " '/ 4.\\tVia la télévision / 8.\\tPar SMS (message texte) /'\n",
      " '/ 4.\\tVia la télévision / 5.\\tDans la presse / 8.\\tPar SMS (message texte) / 9.\\tSur Facebook, Twitter, etc. /'\n",
      " '/ 2.\\tVia affichage publicitaire / 3.\\tVia la radio / 4.\\tVia la télévision / 8.\\tPar SMS (message texte) / 9.\\tSur Facebook, Twitter, etc. / 11.\\tPar le service client /'\n",
      " '/ 7.\\tDans un mailing, par courrier /'\n",
      " '/ 1.\\tVisite d’un commercial / 3.\\tVia la radio / 7.\\tDans un mailing, par courrier /'\n",
      " '/ 1.\\tVisite d’un commercial / 5.\\tDans la presse / 8.\\tPar SMS (message texte) /'\n",
      " '/ 2.\\tVia affichage publicitaire /'\n",
      " '/ 2.\\tVia affichage publicitaire / 3.\\tVia la radio / 4.\\tVia la télévision / 5.\\tDans la presse / 8.\\tPar SMS (message texte) / 9.\\tSur Facebook, Twitter, etc. /'\n",
      " '/ 3.\\tVia la radio / 4.\\tVia la télévision / 5.\\tDans la presse /'\n",
      " '/ 2.\\tVia affichage publicitaire / 3.\\tVia la radio / 4.\\tVia la télévision / 5.\\tDans la presse / 8.\\tPar SMS (message texte) /'\n",
      " '/ 2.\\tVia affichage publicitaire / 4.\\tVia la télévision / 8.\\tPar SMS (message texte) / 9.\\tSur Facebook, Twitter, etc. /'\n",
      " '/ 3.\\tVia la radio / 4.\\tVia la télévision / 5.\\tDans la presse / 7.\\tDans un mailing, par courrier /'\n",
      " '/ 2.\\tVia affichage publicitaire / 3.\\tVia la radio / 4.\\tVia la télévision / 5.\\tDans la presse / 7.\\tDans un mailing, par courrier /'\n",
      " 'Via affichage publicitaire/4.Via la télévision/8.Par SMS (message texte)'\n",
      " '8.Par SMS (message texte)'\n",
      " '7.Dans un mailing, par courrier/8.Par SMS (message texte)'\n",
      " '2.Via affichage publicitaire/4.Via la télévision/8.Par SMS (message texte)'\n",
      " '2.Via affichage publicitaire/3.Via la radio/4.Via la télévision/8.Par SMS (message texte)'\n",
      " '2.Via affichage publicitaire/8.Par SMS (message texte)'\n",
      " '8.Par SMS (message texte)/9.Sur Facebook, Twitter, etc.'\n",
      " '3.Via la radio/4.Via la télévision/8.Par SMS (message texte)/9.Sur Facebook, Twitter, etc.'\n",
      " '2.Via affichage publicitaire/3.Via la radio/4.Via la télévision/8.Par SMS (message texte)/9.Sur Facebook, Twitter, etc.'\n",
      " '2.Via affichage publicitaire/7.Dans un mailing, par courrier/8.Par SMS (message texte)'\n",
      " '2.Via affichage publicitaire/4.Via la télévision'\n",
      " '2.Via affichage publicitaire/3.Via la radio/4.Via la télévision/5.Dans la presse'\n",
      " '2.Via affichage publicitaire/3.Via la radio/4.Via la télévision'\n",
      " '2.Via affichage publicitaire/8.Par SMS (message texte)/9.Sur Facebook, Twitter, etc.'\n",
      " '3.Via la radio/5.Dans la presse'\n",
      " '4.Via la télévision/8.Par SMS (message texte)/9.Sur Facebook, Twitter, etc.'\n",
      " '10.Via un évènement culturel ou sportif' '11.Par le service client'\n",
      " '1.Visite d’un commercial/8.Par SMS (message texte)/9.Sur Facebook, Twitter, etc.'\n",
      " '1.Visite d’un commercial/9.Sur Facebook, Twitter, etc.'\n",
      " '8.Par SMS (message texte)/11.Par le service client'\n",
      " '1.Visite d’un commercial/2.Via affichage publicitaire/3.Via la radio'\n",
      " '3.Via la radio/4.Via la télévision/8.Par SMS (message texte)'\n",
      " '1.Visite d’un commercial/2.Via affichage publicitaire/7.Dans un mailing, par courrier'\n",
      " '1.Visite d’un commercial/4.Via la télévision'\n",
      " '2.Via affichage publicitaire/4.Via la télévision/5.Dans la presse'\n",
      " '1.Visite d’un commercial/2.Via affichage publicitaire/4.Dans un mailing, par courrier'\n",
      " '2.Via affichage publicitaire/8.Par SMS (message texte)/11.Par le service client'\n",
      " '9.Sur Facebook, Twitter, etc.'\n",
      " '4.Via la télévision/8.Par SMS (message texte)'\n",
      " '4.Via la télévision/5.Dans la presse/8.Par SMS (message texte)/9.Sur Facebook, Twitter, etc.'\n",
      " '2.Via affichage publicitaire/3.Via la radio/4.Via la télévision/8.Par SMS (message texte)/9.Sur Facebook, Twitter, etc./11.Par le service client'\n",
      " 'Dans un mailing, par courrier' 'Par SMS (message texte)'\n",
      " 'Via la radio/4.Via la télévision/8.Par SMS (message texte)'\n",
      " 'Via la télévision/8.Par SMS (message texte)'\n",
      " 'Via affichage publicitaire/8.Par SMS (message texte)/11.Par le service client'\n",
      " '7.Dans un mailing, par courrier/8.Dans un mailing, par courrier/8.'\n",
      " '2.Via affichage publicitaire/3.Via affichage publicitaire/3.Via la télévision/8.Par SMS (message texte)'\n",
      " '2.Via affichage publicitaire/8.Via affichage publicitaire/8.'\n",
      " '7.Dans un mailing, par courrier/8.Par SMS (message texte).'\n",
      " '1.Visite d’un commercial/2.Via affichage publicitaire/4.Via la télévision/7.Dans un mailing, par courrier'\n",
      " '1.Visite d’un commercial/4.Via la télévision/5.Dans la presse/8.Par SMS (message texte)/9.Sur Facebook, Twitter, etc.'\n",
      " '2.Résilié un contrat ou abonnementVia affichage publicitaire/8.Par SMS (message texte)/11.Par le service client'\n",
      " '7.Dans un mailing, par courrier'\n",
      " '8.Par SMS (message texte)Par le service client'\n",
      " '/ 1.        Visite d’un commercial / 2.        Via affichage publicitaire / 7.        Dans un mailing, par courrier /'\n",
      " 'Sur Facebook, Twitter, etc.']\n",
      "44 Q06.1 La facilité à trouver les informations que vous recherchiez, quel que soit le moyen    [nan  8.  5.  7.  1.  6.  4.  9.]\n",
      "45   Q06.2 La facilité à comprendre ces informations   [nan  6.  4.  5.  9.  7.  8.  1.  2.]\n",
      "46 Q07A. qu’avez-vous fait dans les 12 derniers mois :   ['4.Aucun' nan '2.Résilié un contrat ou abonnement'\n",
      " '1.Signé un contrat avec votre opérateur principal pour la première fois'\n",
      " '1.Signé un contrat avec votre opérateur principal pour la première fois/2.Résilié un contrat ou abonnement/3.Vous avez reçu une visite d’un commercial sans besoin particulier de votre part'\n",
      " '3.Vous avez reçu une visite d’un commercial sans besoin particulier de votre part'\n",
      " '1.Signé un contrat avec votre opérateur principal pour la première fois/2.Résilié un contrat ou abonnement']\n",
      "47 Q07B. Pour cette démarche, avez-vous…   [nan '2.Eté en boutique/agence' '1.Reçu la visite d’un commercial'\n",
      " '1.Reçu la visite d’un commercial/2.Eté en boutique/agence' '3.Aucun'\n",
      " '2.Eté en boutique / agence' '2.Eté en boutique/agence ']\n",
      "48  Q08.Globalement comment évaluez-vous la visite de ce commercial?   [nan  6.  9.  7.  8.  3. 10.  5.]\n",
      "49 Q09.Pour cette visite pouvez-vous préciser si elle a eu lieu face à face avec votre commercial   [nan '6 mois à moins de 12 mois' '3 mois à moins de 6 mois'\n",
      " 'Il y a moins de 3 mois']\n",
      "50 Q10.1 L’amabilité du commercial   [nan  6.  8.  7.  2.  4.  5.  9.]\n",
      "51 Q10.2 la compréhension de votre demande par le commercial   [nan  6.  9.  2.  5.  8. 10.  7.]\n",
      "52 Q10.3 la réponse ou la proposition qui vous a été faite par le commercial   [nan  6.  8.  7.  2.  4.  5.  9.  3.]\n",
      "53 Q11.1 L’accueil privilégié en tant que client entreprise   [nan  9.  7.  5.  6.  1.  8.]\n",
      "54 Q11.2 Le temps d’attente avant de pouvoir parler à un commercial   [nan  8.  4.  7.  5.  1.  6.]\n",
      "55 Q11.3 L’accueil, l’amabilité du personnel de la boutique / l’agence à votre arrivée   [nan  9.  6.  8.  4.  5.  1.  7.]\n",
      "56  Q11.8 La façon dont on vous a aidé à occuper votre temps en attendant d’être pris(e) en charge par un commercial   [nan  9.  2.  7.  5.  6.  1.  8.]\n",
      "57  Q11.4 La compréhension de votre demande par le commercial   [nan  9.  2.  7.  5.  6.  1.  8.]\n",
      "58 Q11.5 La réponse ou la proposition qui vous a été faite par le commercial   [nan  9.  2.  7.  4.  5.  1.  6.  8.]\n",
      "59 Q11.7 globalement votre satisfaction en sortant de ce point de vente   [nan  8.  1.  4.  6.  7.  5.]\n",
      "60 La capacité de  votre operateur principale à proposer des offres qui correspondent aux besoins de votre entreprise   [ 8. nan  5.  1.  7.  3.  6.  9.  4.]\n",
      "61   Q12.2 La clarté des tarifs à destination des entreprises   [ 8. nan  6.  4.  1.  7.  9.  5.  3.  2.]\n",
      "62 Q12.3 La capacité de votre operateur principale à proposer aux entreprises des offres/services différentes de ses concurrents   [ 8. nan  5.  3.  1.  7.  6.  9.  4.]\n",
      "63 Q12.4 Sa capacité à proposer des offres innovantes   [ 8. nan  5.  4.  1.  7. 10.  3.  6.  9. 11.]\n",
      "64 Q13. Globalement la mise en service de vos offres et services achetés chez votre opérateur?   [ 7. nan  5.  1.  8.  9.  6.  2.  4.  3. 10.]\n",
      "65  Q14. Globalement comment évaluez-vous la qualité du réseau de votre opérateur ? \n",
      "   [ 7. nan  5.  8.  9. 10.  6.  1.  3.  4.]\n",
      "66 -  Q15. Arrivez-vous à passer votre appel dès la première tentative ?    ['Rarement' nan 'Toujours' 'Souvent' 'Jamais']\n",
      "66 Q15. Arrivez-vous à passer votre appel dès la première tentative ?    [ 9. nan  6.  8.  7. 10.  5.  1.  4.  3.  2.]\n",
      "68  Q16.2 La qualité de la voix    [ 9. nan  6.  8.  7.  5.  1.  3.  4.]\n",
      "69  Q16.3 La qualité de la communication    [ 9. nan  5.  8.  6.  7. 10.  1.  4.  3.]\n",
      "70 Q16.4 La qualité de la voix et de la communication à l’intérieur des bâtiments   [ 9. nan  5.  8.  7.  6.  3.  1.  4. 10.]\n",
      "71 Q16.5 La qualité de la voix et de la communication à l’extérieur des bâtiments   [ 9. nan  5.  8.  7.  6.  4. 10.  1.  3.]\n",
      "72 Q16A. Avez-vous subit une panne de réseau de  votre operateur principale ?   ['Non' nan 'Oui']\n",
      "73 Q16B l’accompagnement de  votre operateur principale pendant ces périodes de panne de réseau ?    [nan  5.  1.  6.  3.  2.  8.  7.  4.  9.]\n",
      "80 facilite d'utilisation et fonctionnement de   Transfert de crédit   [nan  7.  6.  1.  5.  9.  3.  4.]\n",
      "81 facilite d'utilisation et fonctionnement de Transfert Internet   [nan  7.  5.  1.  6.  9.  8.]\n",
      "82facilite d'utilisation et fonctionnement de  SOS crédit / Minute SOS/ SOS Solde   [nan  5.  6.  1.  8.  4.  7.]\n",
      "83  facilite d'utilisation et fonctionnement de  Orange fidélité ou Points Merci ou  Kelma   [nan  6.  1.  8.  7.]\n",
      "84  facilite d'utilisation et fonctionnement de  Messagerie vocale   [nan  6.  7.  8.  1.  5.]\n",
      "85 facilite d'utilisation et fonctionnement de  Appelez jusqu'à six ou Conf Call pro ou Appel en conférence   [nan  7.  8.  1.  5. 11.]\n",
      "89 Raison pour utilise Orange money   [nan '3.Paiement de facture'\n",
      " '2.Rechargement crédit téléphonique/3.Paiement de facture'\n",
      " '2.Rechargement crédit téléphonique']\n",
      "90 Raison pour utilise Mobicash Ooredoo   [nan '2.Rechargement crédit téléphonique' '3.Paiement de facture'\n",
      " '2.Rechargement crédit téléphonique/3.Paiement de facture']\n",
      "91 Raison pour utilise Mdinar TT   [nan '2.Rechargement crédit téléphonique' '3.Paiement de facture']\n",
      "92 facilite d'utilisation Orange Money   [nan  7.  5.  6.]\n",
      "93 facilite d'utilisation Mobicash ooredoo   [nan  7.  8.  6.]\n",
      "94 facilite d'utilisation Mdinar (TT)   [nan  7.  8.  6.]\n",
      "95 fonctionnement Orange Money   [nan  6.  7.  5.]\n",
      "96 fonctionnement Mobicash (ooredoo)   [nan  7.  6.  4.  8.]\n",
      "97 fonctionnement Mdinar (TT)   [nan  6.  7.  8.  5.]\n",
      "98 globalement Orange Money   [nan  8.  6.  5.  7.]\n",
      "99 globalementMobicash (ooredoo)   [nan  7.  8.  6.]\n",
      "100 globalement Mdinar (TT)   [nan  6.  7.  8.  5.]\n",
      "101 avez-vous utilisé le service roaming de votre operateur principale   ['Non' nan 'Oui']\n",
      "102 Q20. Globalement  le service roaming  de votre operateur principale ?   [nan  6.  4.  7.  5.  8.  3.]\n",
      "103Q20bis.1 L’accessibilité au réseau   [nan 6 5 7 8 '1 (La plus mauvaise note)' 3 4]\n",
      "104 Q20bis.2 La qualité de la voix    [nan 6 5 7 8 '1 (La plus mauvaise note)' 4 3 '2. Ooredoo' '1. Orange']\n",
      "105 Q20bis.3 La qualité de la connexion à l’internet mobile   [nan '11 (Ne sait pas/ Non applicable)' 5 7 8 6 2 4]\n",
      "106 Q20bis.4 L’information transmise par votre opérateur sur les coûts d’utilisation du service roaming    [nan 5 7 6 8 2 4 3 '11 (Ne sait pas/ Non applicable)']\n",
      "107 Q20bis.5 Le coût du service roaming   [nan '11 (Ne sait pas/ Non applicable)' '1 (La plus mauvaise note)' 7 3 5\n",
      " 4 8 2 6]\n",
      "108 Q21. Votre entreprise a-t-elle souscrit pour un ou plusieurs salariés une offre Internet mobile  de votre operateur principale ?   ['Non' nan 'Oui']\n",
      "109 Q23. Globalement comment évaluez-vous la qualité de la connexion internet  de votre operateur principale ?   [nan  6.  5.  7.  8.  9.  4.  1.  3. 10.]\n",
      "110 Q25.1  l’accessibilité au réseau Internet mobile de votre opérateur   [nan 7 5 6 8 4 9 '1 ( la plus mauvaise note)' 3 '10 (La meilleure note)' 2]\n",
      "111Q25.2 La vitesse de navigation et de chargement des pages sur Internet mobile de votre opérateur   [nan 6 5 7 9 8 3 '1 ( la plus mauvaise note)' 4 '10 (La meilleure note)' 2]\n",
      "112  Q26 Le rapport qualité-prix de l’offre Internet mobile   [nan 6 4 7 5 9 8 '10 (La meilleure note)' 3 '1 ( la plus mauvaise note)' 2]\n",
      "113  Q27otre entreprise envisage-t-elle de souscrire une offre Internet mobile pour un ou plusieurs salariés ?   ['5.\\tNe sait pas' nan '3.\\tNon, probablement pas'\n",
      " '4.\\tNon, certainement pas' '2.\\tOui, probablement'\n",
      " '1.\\tOui, certainement' '5.Ne sait pas' '3.Non, probablement pas'\n",
      " '4.Non, certainement pas' '2.Oui, probablement' '5.Oui, probablement'\n",
      " '1.Oui, certainement']\n",
      "114 Q28. Chez quel opérateur ?   [nan 'Orange' 'Ooredoo' 'Tunisie Telecom' 'Autre']\n",
      "116 Q29. Dans les 6 derniers mois, avez-vous eu besoin d’aide auprès  de votre operateur principale concernant les offres souscrites ?   ['Non' nan 'Oui']\n",
      "117Q31. Et pour cette démarche vous avez :    [nan '/ 2.\\tAppelé un numéro service client /'\n",
      " '/ 1.\\tAppelé un commercial /'\n",
      " '/ 1.\\tAppelé un commercial / 2.\\tAppelé un numéro service client / 3.\\tVous êtes allés dans une boutique / agence /'\n",
      " '/ 2.\\tAppelé un numéro service client / 3.\\tVous êtes allés dans une boutique / agence /'\n",
      " '/ 3.\\tVous êtes allés dans une boutique / agence /'\n",
      " '/ 1.\\tAppelé un commercial / 2.\\tAppelé un numéro service client /'\n",
      " '/ 2.\\tAppelé un numéro service client / 5.\\tVous êtes allés sur le site internet de votre opérateur / 6.\\tVous avez contacté votre opérateur via Facebook, Twitter, etc /'\n",
      " '/ 1.\\tAppelé un commercial / 3.\\tVous êtes allés dans une boutique / agence / 5.\\tVous êtes allés sur le site internet de votre opérateur / 6.\\tVous avez contacté votre opérateur via Facebook, Twitter, etc /'\n",
      " '/ 1.\\tAppelé un commercial / 2.\\tAppelé un numéro service client / 4.\\tVous êtes allés chez un distributeur /'\n",
      " '/ 1.\\tAppelé un commercial / 2.\\tAppelé un numéro service client / 5.\\tVous êtes allés sur le site internet de votre opérateur / 6.\\tVous avez contacté votre opérateur via Facebook, Twitter, etc /'\n",
      " '2.Appelé un numéro service client' '1.Appelé un commercial'\n",
      " '1.Appelé un commercial/2.Appelé un numéro service client/3.Vous êtes allés dans une boutique / agence'\n",
      " '2.Appelé un numéro service client/3.Vous êtes allés dans une boutique / agence'\n",
      " '3.Vous êtes allés dans une boutique / agence'\n",
      " '1.Appelé un commercial/2.Appelé un numéro service client'\n",
      " '2.Appelé un numéro service client/5.Vous êtes allés sur le site internet de votre opérateur/6.Vous avez contacté votre opérateur via Facebook, Twitter, etc'\n",
      " '1.Appelé un commercial/3.Vous êtes allés dans une boutique / agence/5.Vous êtes allés sur le site internet de votre opérateur/6.Vous avez contacté votre opérateur via Facebook, Twitter, etc'\n",
      " '1.Appelé un commercial/2.Appelé un numéro service client/4.Vous êtes allés chez un distributeur'\n",
      " '1.Appelé un commercial/2.Appelé un numéro service client/5.Vous êtes allés sur le site internet de votre opérateur/6.Vous avez contacté votre opérateur via Facebook, Twitter, etc']\n",
      "118  Q32.1 La compréhension de votre demande ou réclamation   [nan 7 '1 (La mauvaise note)' 6 5 3 8 9]\n",
      "119  Q32.2 La rapidité de traitement de votre demande ou réclamation   [nan 7 '1 (La mauvaise note)' 6 3 5 8 9]\n",
      "120  Q33. Après cette démarche, avez-vous dû recontacter un commercial pour la même demande ou le même problème ?   [nan '1.\\tOui' '2.\\tNon, mon problème / ma demande était résolue'\n",
      " '3.\\tNe sait pas' '1.Oui'\n",
      " '2.Non, mon problème / ma demande était résolue' '3.Ne sait pas']\n",
      "121 Q34. Vous avez appelé le service client. Avez-vous réussi à parler à un conseiller ?   [nan '1.\\tOui' '2.\\tNon' '1.Oui' '2.Non' 7]\n",
      "122 Q35.1 Le temps d’attente avant de parler à un conseiller   [nan 4 '1 (La plus mauvaise note)' 6 7 5]\n",
      "123  Q35.2 L’accueil téléphonique, l’amabilité de votre interlocuteur    [nan 9 '1 (La plus mauvaise note)' 7 6 5]\n",
      "124  Q35.3 La compréhension de votre demande ou réclamation   [nan 9 '1 (La plus mauvaise note)' 7 6 5]\n",
      "125  Q35.4 La solution proposée   [nan 9 '1 (La plus mauvaise note)' 7 6 5]\n",
      "126 Q35.5 La résolution de votre réclamation ou demande lors de cet appel   [nan 9 '1 (La plus mauvaise note)' 8 7 6]\n",
      "127 Q36. Avez-vous dû rappeler le service client pour le même problème, la même demande ?   [nan '3.\\tNon' '1.\\tOui, une fois' '2.\\tOui, plusieurs fois' '3.Non'\n",
      " '1.Oui, une fois' '2.Oui, plusieurs fois']\n",
      "128 Q37.1 La compréhension de votre demande ou de votre réclamation par le commercial   [nan '1 (La plus mauvaise note)' 7 6]\n",
      "129 Q37.2 La rapidité de traitement de votre demande ou réclamation   [nan '1 (La plus mauvaise note)' 6 7 8]\n",
      "130 Q37.3 La solution qui vous a été proposée   [nan '1 (La plus mauvaise note)' 7 6 5 8]\n",
      "131 Q38. Après votre visite, avez-vous dû retourner en boutique ou agence ou appeler le call center de votre opérateur pour le même problème, la même demande ?   [nan\n",
      " '/ 1.\\tOui, je suis retourné en boutique / agence / 2.\\tOui, j’ai appelé le call center /'\n",
      " '/ 3.\\tNon, mon problème était résolu /' '/ 4.\\tNe sait pas /'\n",
      " '/ 1.\\tOui, je suis retourné en boutique / agence /'\n",
      " '/ 2.\\tOui, j’ai appelé le call center /'\n",
      " '1.Oui, je suis retourné en boutique / agence/2.Oui, j’ai appelé le call center'\n",
      " '3.Non, mon problème était résolu' '4.Ne sait pas'\n",
      " '1.Oui, je suis retourné en boutique / agence'\n",
      " '2.Oui, j’ai appelé le call center']\n",
      "132 Q39.1 La compréhension de votre demande   [nan  4.]\n",
      "133  Q39.2 La  réponse qui vous a été apportée   [nan  5.  4.]\n",
      "134 Q39.3 La rapidité du traitement de votre demande   [nan  5.  4.]\n",
      "135  Q39.4 La résolution de votre problème ou demande grâce à ce message sur les réseaux sociaux ou cette visite sur le site Internet de l’opérateur   [nan  4.  5.  6.]\n",
      "136  Q40.1 Recevez-vous une facture papier par courrier ?   ['Non' nan 'Oui']\n",
      "137  Q40.2 Et recevez-vous une facture via internet ?   ['Non' nan 'Oui']\n",
      "138  Q40.3 Payez-vous votre facture dans un point de vente ?   ['Non' nan 'Oui']\n",
      "139  Q40.4 Payez-vous votre facture via internet ?   ['Non' nan 'Oui']\n",
      "140 Q40.5 Payez-vous votre facture via Orange Money ?   [nan 'Non' 'Oui']\n",
      "141 Q40.6 Votre première facture vous a-t-elle été expliquée ?   ['Non' nan 'Oui']\n",
      "142Q41. Globalement le ou les systèmes de facturation proposés par votre operateur principale ?   [nan 4 3 '1 (La plus mauvaise note)' 5 7 8 6\n",
      " '11 (Ne sait pas / Non applicable)' 9]\n",
      "143  Q42.1 Le délai de réception de la facture   [nan 5 2 '1 (La plus mauvaise note)' 6 8 7 4\n",
      " '11 (Ne sait pas / Non applicable)' 3 9 '10 (La meilleure note)']\n",
      "144  Q42.2 La facilité à comprendre la facture   [nan 6 2 '1 (La plus mauvaise note)' 5 7 8 3 9 4\n",
      " '11 (Ne sait pas / Non applicable)' '10 (La meilleure note)']\n",
      "145 Q42.3 La justesse de votre facture   [nan 7 5 '1 (La plus mauvaise note)' 8 6 3 9 4 2\n",
      " '11 (Ne sait pas / Non applicable)' '10 (La meilleure note)']\n",
      "146 Q43. Utilisez-vous le service de distribution de crédit centralisé pour gérer le rechargement des utilisateurs salariés ?   ['2.\\tNon' nan '1.\\tOui' '1.Oui' '2.' '2.Non' '4.Ne souhaite pas changer'\n",
      " '2.Ne souhaite pas changer']\n",
      "147 Q44. Globalement la qualité du service de distribution de crédit centralisé ?   [nan  4.  8.  7.  6.  5.]\n",
      "148 Q45.   votre operateur principale reste le principal opérateur de votre entreprise. ?   [11. nan  5.  1.  8.  9.  7. 10.  4.  6.  3.]\n",
      "149 Q46. Pour quel autre opérateur principal changeriez-vous ?   [nan 'Tunisie telecom' 'Orange' 'Ooredoo' 'Ne sait pas' 'Autre'\n",
      " '3.Tunisie telecom']\n",
      "151 Q46. Pour quel autre opérateur principal changeriez-vous ?   [nan 'Ne souhaite pas changer']\n",
      "153 Prénom   [nan 'Ras' 'Mouhamed' 'Rabaa' 'Jamila' 'Jalel' 'hedhli' 'ras' 'Abed slem'\n",
      " 'Mohamed' 'Kamel' 'Mourad' 'bouali' 'Anouar' 'krichene mariam' 'Hejer'\n",
      " 'louati' 'Zayneb' 'Rabeb' 'Riadh makni' 'Douaa' 'Soumya gharbi' 'Chawki'\n",
      " 'Amna' 'med amine' 'ben hessin' 'Marwa choura' 'karray' 'Zied' 'Hend'\n",
      " 'Amine baccour' 'Nadia' 'Mahdi' 'Elyes' 'Ghada' 'Obaida' 'Yosra' 'Nabiha'\n",
      " 'Issam' 'Jaouida' 'Neji' 'Ali' 'Nizar' 'Test' 'Mariem' 'Sami' 'Hela'\n",
      " 'Dali' 'Firas jmal' 'Hedi' 'Maalej' 'Mohamed sedik' 'Mohamed amine'\n",
      " 'Rahma belhaj' 'Rahma' 'Ghribi' 'Abed krim']\n",
      "154 Nom   [nan 'Ajengui' 'Belhaj' 'Akkari' 'wael' 'ras' 'Neji' 'Ben Mabrouk' 'Fki'\n",
      " 'Karray' 'moubaker' 'Abdeljaoued' 'mariam' 'Ben amor' 'rami' 'Jafel'\n",
      " 'Bouchahar' 'Makni' 'Trabelsi' 'Gharbk' 'Mahdwi' 'La reine' 'jallouli'\n",
      " 'riad' 'Choura' 'doulira' 'Trad' 'Accour' 'jawa' 'Ras' 'Louibi'\n",
      " 'Ben othmen' 'Boualligua' 'Najjar' 'Arouay' 'Nefzi' 'Swabni' 'Louhichi'\n",
      " 'Test' 'Ahmed' 'Trotanova' 'Ben Mefteh' 'Louati' 'Rassel' 'Rekik' 'Jmal'\n",
      " 'Labo' 'Lahiani' 'Khaled' 'Majdoub' 'Klifi' 'Younssi' 'Laabidi']\n",
      "155 Numéro de téléphone   [nan 54008547 98748350 22451114 23840617 53702802 99822042 74406916\n",
      " '58 540 2' 26719300 9554735 '54 296 1' 22824930 7 27827492 74432045\n",
      " '.....' 50708597 25880206 21461016 53747081 29759804 58456006 24608888\n",
      " 50816619 54008548 98748351 22451115 23840618 71940561 74406917 93581000\n",
      " 58525862 '55 296 1' 22824931 8 27827493 74432046 50708598 25880207\n",
      " 21461017 26266888 50506680 71856099 29540360 98318378 99187754 29936843\n",
      " 58420622 71759000 90554735 55220829 98414831 58316404 20366937 'Tes'\n",
      " 29581881 22368076 58529003 20357329 26409602 26041724 21638528 50471724\n",
      " 28445270 99511685 53539944 21488431 22811696 52800932]\n",
      "156 Nom de l'entreprise   [nan 'Best Tour' 'Media center' 'Amen Invest' 'H.TECH'\n",
      " 'ASM ( Solution Informatique et Multimédia )' 'mariam optic'\n",
      " 'Biat ez zahra' 'Textil' 'B2C' 'Asurence' '2.' 'Leprogre medecal'\n",
      " 'Pro 2i' 'La reine' 'center de marriage jallouli'\n",
      " 'peinture graphite/marmourite' 'Comptoire ddequipemen general' '6.'\n",
      " 'Electro ben said' 'Darna ilmeziana' 'Baccour optic' 'Labo' 'Hejer'\n",
      " 'Zayneb' 'Ne souhaite pas changer' 'Mohamed' 'Global métal' 'SMT'\n",
      " 'Espace concept' 'General équipement' 'Cuisines et bains' 'Persovet'\n",
      " 'Monoprix' 'ton ton' 'centre doulira' 'ERIS' 'Société Allucoa'\n",
      " 'Espace cuisine' 'Test' 'Techno decor' 'Graîet' 'Hpe' 'Sté SAKLY et Cie'\n",
      " 'Cuisine Express' 'LDEB le comptoir électrique'\n",
      " \"Groupe d'investissement  gamoudi\" 'Etam' 'Rekik dechange' 'Boucherie'\n",
      " 74419615 74659092 'Transcom' 'Thyssenkrupp aerospace tunisia'\n",
      " 'Big bâtiment lac 2' 'Travel todo lac 1']\n"
     ]
    }
   ],
   "source": [
    "list = []\n",
    "for i in df.columns:\n",
    "    print(df[i].name,' ',df[i].unique())\n",
    "    list.append(df[i].name)"
   ]
  },
  {
   "cell_type": "code",
   "execution_count": 5,
   "id": "democratic-newcastle",
   "metadata": {
    "collapsed": true,
    "jupyter": {
     "outputs_hidden": true
    }
   },
   "outputs": [
    {
     "ename": "KeyError",
     "evalue": "'3 - [4] S0.1 Code ville'",
     "output_type": "error",
     "traceback": [
      "\u001b[1;31m---------------------------------------------------------------------------\u001b[0m",
      "\u001b[1;31mKeyError\u001b[0m                                  Traceback (most recent call last)",
      "\u001b[1;32m~\\anaconda3\\lib\\site-packages\\pandas\\core\\indexes\\base.py\u001b[0m in \u001b[0;36mget_loc\u001b[1;34m(self, key, method, tolerance)\u001b[0m\n\u001b[0;32m   3079\u001b[0m             \u001b[1;32mtry\u001b[0m\u001b[1;33m:\u001b[0m\u001b[1;33m\u001b[0m\u001b[1;33m\u001b[0m\u001b[0m\n\u001b[1;32m-> 3080\u001b[1;33m                 \u001b[1;32mreturn\u001b[0m \u001b[0mself\u001b[0m\u001b[1;33m.\u001b[0m\u001b[0m_engine\u001b[0m\u001b[1;33m.\u001b[0m\u001b[0mget_loc\u001b[0m\u001b[1;33m(\u001b[0m\u001b[0mcasted_key\u001b[0m\u001b[1;33m)\u001b[0m\u001b[1;33m\u001b[0m\u001b[1;33m\u001b[0m\u001b[0m\n\u001b[0m\u001b[0;32m   3081\u001b[0m             \u001b[1;32mexcept\u001b[0m \u001b[0mKeyError\u001b[0m \u001b[1;32mas\u001b[0m \u001b[0merr\u001b[0m\u001b[1;33m:\u001b[0m\u001b[1;33m\u001b[0m\u001b[1;33m\u001b[0m\u001b[0m\n",
      "\u001b[1;32mpandas\\_libs\\index.pyx\u001b[0m in \u001b[0;36mpandas._libs.index.IndexEngine.get_loc\u001b[1;34m()\u001b[0m\n",
      "\u001b[1;32mpandas\\_libs\\index.pyx\u001b[0m in \u001b[0;36mpandas._libs.index.IndexEngine.get_loc\u001b[1;34m()\u001b[0m\n",
      "\u001b[1;32mpandas\\_libs\\hashtable_class_helper.pxi\u001b[0m in \u001b[0;36mpandas._libs.hashtable.PyObjectHashTable.get_item\u001b[1;34m()\u001b[0m\n",
      "\u001b[1;32mpandas\\_libs\\hashtable_class_helper.pxi\u001b[0m in \u001b[0;36mpandas._libs.hashtable.PyObjectHashTable.get_item\u001b[1;34m()\u001b[0m\n",
      "\u001b[1;31mKeyError\u001b[0m: '3 - [4] S0.1 Code ville'",
      "\nThe above exception was the direct cause of the following exception:\n",
      "\u001b[1;31mKeyError\u001b[0m                                  Traceback (most recent call last)",
      "\u001b[1;32m<ipython-input-5-beae481cc55b>\u001b[0m in \u001b[0;36m<module>\u001b[1;34m\u001b[0m\n\u001b[0;32m      1\u001b[0m \u001b[1;31m#column '3 - [4] S0.1 Code ville' changing values\u001b[0m\u001b[1;33m\u001b[0m\u001b[1;33m\u001b[0m\u001b[1;33m\u001b[0m\u001b[0m\n\u001b[1;32m----> 2\u001b[1;33m \u001b[0mdf\u001b[0m\u001b[1;33m[\u001b[0m\u001b[1;34m'3 - [4] S0.1 Code ville'\u001b[0m\u001b[1;33m]\u001b[0m\u001b[1;33m.\u001b[0m\u001b[0munique\u001b[0m\u001b[1;33m(\u001b[0m\u001b[1;33m)\u001b[0m\u001b[1;33m\u001b[0m\u001b[1;33m\u001b[0m\u001b[0m\n\u001b[0m\u001b[0;32m      3\u001b[0m \u001b[0mdf\u001b[0m\u001b[1;33m[\u001b[0m\u001b[1;34m'3 - [4] S0.1 Code ville'\u001b[0m\u001b[1;33m]\u001b[0m\u001b[1;33m=\u001b[0m\u001b[0mdf\u001b[0m\u001b[1;33m[\u001b[0m\u001b[1;34m'3 - [4] S0.1 Code ville'\u001b[0m\u001b[1;33m]\u001b[0m\u001b[1;33m.\u001b[0m\u001b[0mreplace\u001b[0m\u001b[1;33m(\u001b[0m\u001b[1;34m'1. Tunis'\u001b[0m\u001b[1;33m,\u001b[0m\u001b[1;34m'Tunis'\u001b[0m\u001b[1;33m)\u001b[0m\u001b[1;33m\u001b[0m\u001b[1;33m\u001b[0m\u001b[0m\n\u001b[0;32m      4\u001b[0m \u001b[0mdf\u001b[0m\u001b[1;33m[\u001b[0m\u001b[1;34m'3 - [4] S0.1 Code ville'\u001b[0m\u001b[1;33m]\u001b[0m\u001b[1;33m=\u001b[0m\u001b[0mdf\u001b[0m\u001b[1;33m[\u001b[0m\u001b[1;34m'3 - [4] S0.1 Code ville'\u001b[0m\u001b[1;33m]\u001b[0m\u001b[1;33m.\u001b[0m\u001b[0mreplace\u001b[0m\u001b[1;33m(\u001b[0m\u001b[1;34m'TUNISIE'\u001b[0m\u001b[1;33m,\u001b[0m\u001b[1;34m'Tunis'\u001b[0m\u001b[1;33m)\u001b[0m\u001b[1;33m\u001b[0m\u001b[1;33m\u001b[0m\u001b[0m\n\u001b[0;32m      5\u001b[0m \u001b[0mdf\u001b[0m\u001b[1;33m[\u001b[0m\u001b[1;34m'3 - [4] S0.1 Code ville'\u001b[0m\u001b[1;33m]\u001b[0m\u001b[1;33m=\u001b[0m\u001b[0mdf\u001b[0m\u001b[1;33m[\u001b[0m\u001b[1;34m'3 - [4] S0.1 Code ville'\u001b[0m\u001b[1;33m]\u001b[0m\u001b[1;33m.\u001b[0m\u001b[0mreplace\u001b[0m\u001b[1;33m(\u001b[0m\u001b[1;34m'TUNIS'\u001b[0m\u001b[1;33m,\u001b[0m\u001b[1;34m'Tunis'\u001b[0m\u001b[1;33m)\u001b[0m\u001b[1;33m\u001b[0m\u001b[1;33m\u001b[0m\u001b[0m\n",
      "\u001b[1;32m~\\anaconda3\\lib\\site-packages\\pandas\\core\\frame.py\u001b[0m in \u001b[0;36m__getitem__\u001b[1;34m(self, key)\u001b[0m\n\u001b[0;32m   3022\u001b[0m             \u001b[1;32mif\u001b[0m \u001b[0mself\u001b[0m\u001b[1;33m.\u001b[0m\u001b[0mcolumns\u001b[0m\u001b[1;33m.\u001b[0m\u001b[0mnlevels\u001b[0m \u001b[1;33m>\u001b[0m \u001b[1;36m1\u001b[0m\u001b[1;33m:\u001b[0m\u001b[1;33m\u001b[0m\u001b[1;33m\u001b[0m\u001b[0m\n\u001b[0;32m   3023\u001b[0m                 \u001b[1;32mreturn\u001b[0m \u001b[0mself\u001b[0m\u001b[1;33m.\u001b[0m\u001b[0m_getitem_multilevel\u001b[0m\u001b[1;33m(\u001b[0m\u001b[0mkey\u001b[0m\u001b[1;33m)\u001b[0m\u001b[1;33m\u001b[0m\u001b[1;33m\u001b[0m\u001b[0m\n\u001b[1;32m-> 3024\u001b[1;33m             \u001b[0mindexer\u001b[0m \u001b[1;33m=\u001b[0m \u001b[0mself\u001b[0m\u001b[1;33m.\u001b[0m\u001b[0mcolumns\u001b[0m\u001b[1;33m.\u001b[0m\u001b[0mget_loc\u001b[0m\u001b[1;33m(\u001b[0m\u001b[0mkey\u001b[0m\u001b[1;33m)\u001b[0m\u001b[1;33m\u001b[0m\u001b[1;33m\u001b[0m\u001b[0m\n\u001b[0m\u001b[0;32m   3025\u001b[0m             \u001b[1;32mif\u001b[0m \u001b[0mis_integer\u001b[0m\u001b[1;33m(\u001b[0m\u001b[0mindexer\u001b[0m\u001b[1;33m)\u001b[0m\u001b[1;33m:\u001b[0m\u001b[1;33m\u001b[0m\u001b[1;33m\u001b[0m\u001b[0m\n\u001b[0;32m   3026\u001b[0m                 \u001b[0mindexer\u001b[0m \u001b[1;33m=\u001b[0m \u001b[1;33m[\u001b[0m\u001b[0mindexer\u001b[0m\u001b[1;33m]\u001b[0m\u001b[1;33m\u001b[0m\u001b[1;33m\u001b[0m\u001b[0m\n",
      "\u001b[1;32m~\\anaconda3\\lib\\site-packages\\pandas\\core\\indexes\\base.py\u001b[0m in \u001b[0;36mget_loc\u001b[1;34m(self, key, method, tolerance)\u001b[0m\n\u001b[0;32m   3080\u001b[0m                 \u001b[1;32mreturn\u001b[0m \u001b[0mself\u001b[0m\u001b[1;33m.\u001b[0m\u001b[0m_engine\u001b[0m\u001b[1;33m.\u001b[0m\u001b[0mget_loc\u001b[0m\u001b[1;33m(\u001b[0m\u001b[0mcasted_key\u001b[0m\u001b[1;33m)\u001b[0m\u001b[1;33m\u001b[0m\u001b[1;33m\u001b[0m\u001b[0m\n\u001b[0;32m   3081\u001b[0m             \u001b[1;32mexcept\u001b[0m \u001b[0mKeyError\u001b[0m \u001b[1;32mas\u001b[0m \u001b[0merr\u001b[0m\u001b[1;33m:\u001b[0m\u001b[1;33m\u001b[0m\u001b[1;33m\u001b[0m\u001b[0m\n\u001b[1;32m-> 3082\u001b[1;33m                 \u001b[1;32mraise\u001b[0m \u001b[0mKeyError\u001b[0m\u001b[1;33m(\u001b[0m\u001b[0mkey\u001b[0m\u001b[1;33m)\u001b[0m \u001b[1;32mfrom\u001b[0m \u001b[0merr\u001b[0m\u001b[1;33m\u001b[0m\u001b[1;33m\u001b[0m\u001b[0m\n\u001b[0m\u001b[0;32m   3083\u001b[0m \u001b[1;33m\u001b[0m\u001b[0m\n\u001b[0;32m   3084\u001b[0m         \u001b[1;32mif\u001b[0m \u001b[0mtolerance\u001b[0m \u001b[1;32mis\u001b[0m \u001b[1;32mnot\u001b[0m \u001b[1;32mNone\u001b[0m\u001b[1;33m:\u001b[0m\u001b[1;33m\u001b[0m\u001b[1;33m\u001b[0m\u001b[0m\n",
      "\u001b[1;31mKeyError\u001b[0m: '3 - [4] S0.1 Code ville'"
     ]
    }
   ],
   "source": []
  },
  {
   "cell_type": "code",
   "execution_count": 12,
   "id": "original-adapter",
   "metadata": {},
   "outputs": [
    {
     "data": {
      "text/plain": [
       "array(['0-24', '25-50', nan], dtype=object)"
      ]
     },
     "execution_count": 12,
     "metadata": {},
     "output_type": "execute_result"
    }
   ],
   "source": [
    "#column '9 S1. Taille de l'entreprise' changing values\n",
    "c=\"9 S1. Taille de l'entreprise\"\n",
    "df[c].unique()\n",
    "df[c]=df[c].replace(datetime.datetime(2017, 10, 24, 0, 0),\"0-24\")\n",
    "df[c].unique()"
   ]
  },
  {
   "cell_type": "code",
   "execution_count": 13,
   "id": "silver-rescue",
   "metadata": {},
   "outputs": [
    {
     "data": {
      "text/plain": [
       "array(['Oui', 'Non', nan], dtype=object)"
      ]
     },
     "execution_count": 13,
     "metadata": {},
     "output_type": "execute_result"
    }
   ],
   "source": [
    "#column '12 - [17] S2A. Parmi ces téléphones, y a-t-il des Smartphones ?' changing values\n",
    "c=\"12   S2A. Parmi ces téléphones, y a-t-il des Smartphones ?\"\n",
    "df[c].unique()\n",
    "df[c]=df[c].replace('NON','Non')\n",
    "df[c].unique()"
   ]
  },
  {
   "cell_type": "code",
   "execution_count": 15,
   "id": "rocky-andrews",
   "metadata": {},
   "outputs": [
    {
     "data": {
      "text/plain": [
       "array(['Oui', 'Non', nan], dtype=object)"
      ]
     },
     "execution_count": 15,
     "metadata": {},
     "output_type": "execute_result"
    }
   ],
   "source": [
    "c=\"13 S3. Etes-vous le décideur concernant ces choix ?\"\n",
    "df[c].unique()\n",
    "df[c]=df[c].replace('NON','Non')\n",
    "df[c].unique()"
   ]
  },
  {
   "cell_type": "code",
   "execution_count": null,
   "id": "accepted-timothy",
   "metadata": {},
   "outputs": [],
   "source": [
    "#column '4 - [12] S0.2. Sexe :' changing values\n",
    "df['4 - [12] S0.2. Sexe :'].unique()\n",
    "df['4 - [12] S0.2. Sexe :']=df['4 - [12] S0.2. Sexe :'].replace('1. Homme','Homme')\n",
    "df['4 - [12] S0.2. Sexe :']=df['4 - [12] S0.2. Sexe :'].replace('1. HOMME','Homme')\n",
    "df['4 - [12] S0.2. Sexe :']=df['4 - [12] S0.2. Sexe :'].replace('HOMME','Homme')\n",
    "df['4 - [12] S0.2. Sexe :']=df['4 - [12] S0.2. Sexe :'].replace('HOM%ME','Homme')\n",
    "df['4 - [12] S0.2. Sexe :']=df['4 - [12] S0.2. Sexe :'].replace(0,'Homme')\n",
    "df['4 - [12] S0.2. Sexe :']=df['4 - [12] S0.2. Sexe :'].replace('2. Femme','Femme')\n",
    "df['4 - [12] S0.2. Sexe :']=df['4 - [12] S0.2. Sexe :'].replace('2. FEMME','Femme')\n",
    "df['4 - [12] S0.2. Sexe :'].unique()"
   ]
  },
  {
   "cell_type": "code",
   "execution_count": 17,
   "id": "residential-wound",
   "metadata": {},
   "outputs": [
    {
     "data": {
      "text/plain": [
       "array(['Orange/Ooredoo', 'Orange', 'Ooredoo', 'Orange/Tunisie Telecom',\n",
       "       'Orange/Ooredoo/Tunisie Telecom', 'Tunisie Telecom',\n",
       "       'Ooredoo/Tunisie Telecom', nan], dtype=object)"
      ]
     },
     "execution_count": 17,
     "metadata": {},
     "output_type": "execute_result"
    }
   ],
   "source": [
    "#column c changing values\n",
    "c='14  S4. Quels sont tous les opérateurs que votre entreprise utilise'\n",
    "df[c].unique()\n",
    "\n",
    "df[c]=df[c].replace('/ Orange /','Orange')\n",
    "df[c]=df[c].replace('/ Ooredoo /','Ooredoo')\n",
    "df[c]=df[c].replace('/ Tunisie Télécom /','Tunisie Telecom')\n",
    "df[c]=df[c].replace('Tunisie Télécom','Tunisie Telecom')\n",
    "\n",
    "df[c]=df[c].replace('/ Orange / Ooredoo /','Orange/Ooredoo')\n",
    "df[c]=df[c].replace('Orange/Ooredoo','Orange/Ooredoo')\n",
    "df[c]=df[c].replace('/ Orange / Tunisie Télécom /','Orange/Tunisie Telecom')\n",
    "df[c]=df[c].replace('Orange/Tunisie Télécom','Orange/Tunisie Telecom')\n",
    "df[c]=df[c].replace('Ooredoo/Tunisie Télécom','Ooredoo/Tunisie Telecom')\n",
    "df[c]=df[c].replace('/ Ooredoo / Tunisie Télécom /','Ooredoo/Tunisie Telecom')\n",
    "\n",
    "df[c]=df[c].replace('Orange/Ooredoo/Tunisie Télécom','Orange/Ooredoo/Tunisie Telecom')\n",
    "df[c]=df[c].replace('/ Orange / Ooredoo / Tunisie Télécom /','Orange/Ooredoo/Tunisie Telecom')\n",
    "\n",
    "\n",
    "df[c].unique()"
   ]
  },
  {
   "cell_type": "code",
   "execution_count": 18,
   "id": "joined-conditioning",
   "metadata": {},
   "outputs": [
    {
     "data": {
      "text/plain": [
       "array([ 6.,  5.,  3.,  1.,  4.,  8., 10.,  7.,  9., 11.,  2., nan])"
      ]
     },
     "execution_count": 18,
     "metadata": {},
     "output_type": "execute_result"
    }
   ],
   "source": [
    "#column c changing values\n",
    "c='21  Q01A. Recommanderiez-vous les services de téléphonie mobile de'+\n",
    "'votre opérateur principal à vos collègues ou partenaire commercial ?'\n",
    "df[c].unique()\n",
    "df[c]=df[c].replace('1 (Ne recommanderait certainement PAS)',1)\n",
    "df[c]=df[c].replace('10 (Recommanderait certainement)',10)\n",
    "df[c]=df[c].replace('11 (Ne sait pas/Non applicable)',11)\n",
    "df[c].unique()"
   ]
  },
  {
   "cell_type": "code",
   "execution_count": 19,
   "id": "worthy-enforcement",
   "metadata": {},
   "outputs": [
    {
     "data": {
      "text/plain": [
       "array([ 6., nan,  9.,  7.,  5.,  8., 10.])"
      ]
     },
     "execution_count": 19,
     "metadata": {},
     "output_type": "execute_result"
    }
   ],
   "source": [
    "#column c changing values\n",
    "c='22  Q01B.  recommanderiez-vous Orange à un de vos proches, vos amis et votre famille ?'\n",
    "df[c].unique()\n",
    "df[c]=df[c].replace('10 (Recommanderait certainement)',10)\n",
    "df[c].unique()"
   ]
  },
  {
   "cell_type": "code",
   "execution_count": 20,
   "id": "right-river",
   "metadata": {},
   "outputs": [
    {
     "data": {
      "text/plain": [
       "array([nan,  5.,  6.,  1.,  7.,  8.])"
      ]
     },
     "execution_count": 20,
     "metadata": {},
     "output_type": "execute_result"
    }
   ],
   "source": [
    "#column c changing values\n",
    "c='24  Q01B.  recommanderiez-vous Tunisie Telecom à un de vos proches, vos amis et votre famille ?'\n",
    "df[c].unique()\n",
    "df[c]=df[c].replace('1 (Ne recommanderait certainement PAS)',1)\n",
    "df[c].unique()"
   ]
  },
  {
   "cell_type": "code",
   "execution_count": 22,
   "id": "specialized-vault",
   "metadata": {},
   "outputs": [
    {
     "data": {
      "text/plain": [
       "array([ 6.,  5.,  8.,  9.,  7.,  4.,  3.,  1., 10., nan])"
      ]
     },
     "execution_count": 22,
     "metadata": {},
     "output_type": "execute_result"
    }
   ],
   "source": [
    "#column c changing values\n",
    "c='27 LA QUALITE DE SERVICE GLOBALE de  votre operateur principale'\n",
    "df[c].unique()\n",
    "df[c]=df[c].replace('1 (La plus mauvaise note)',1)\n",
    "df[c]=df[c].replace('10 (La meilleure note)',10)\n",
    "df[c].unique()"
   ]
  },
  {
   "cell_type": "code",
   "execution_count": 23,
   "id": "assured-transport",
   "metadata": {},
   "outputs": [
    {
     "data": {
      "text/plain": [
       "array([ 6.,  7.,  5.,  3.,  9.,  8.,  4.,  2.,  1., 11., nan])"
      ]
     },
     "execution_count": 23,
     "metadata": {},
     "output_type": "execute_result"
    }
   ],
   "source": [
    "#column c changing values\n",
    "c='28 Comment évaluez-vous le COUT GLOBAL des offres et services de votre operateur principale'\n",
    "df[c].unique()\n",
    "df[c]=df[c].replace('1 (La plus mauvaise note)',1)\n",
    "df[c]=df[c].replace('11 (Ne sait pas/Non applicable)',11)\n",
    "df[c].unique()"
   ]
  },
  {
   "cell_type": "code",
   "execution_count": null,
   "id": "atomic-hardware",
   "metadata": {},
   "outputs": [],
   "source": [
    "#column '29 - [36] Q03.Pour résumer, sur une échelle de 1 à 10, évaluez le rapport qualité-prix, c’est-à-dire dans quelle mesure vous pensez que le prix que votre entreprise paye à votre opérateur [V15] est justifié par rapport aux services que vous recevez ' changing values\n",
    "\n",
    "df['29 - [36] Q03.Pour résumer, sur une échelle de 1 à 10, évaluez le rapport qualité-prix, c’est-à-dire dans quelle mesure vous pensez que le prix que votre entreprise paye à votre opérateur [V15] est justifié par rapport aux services que vous recevez '].unique()\n",
    "df['29 - [36] Q03.Pour résumer, sur une échelle de 1 à 10, évaluez le rapport qualité-prix, c’est-à-dire dans quelle mesure vous pensez que le prix que votre entreprise paye à votre opérateur [V15] est justifié par rapport aux services que vous recevez ']=df['29 - [36] Q03.Pour résumer, sur une échelle de 1 à 10, évaluez le rapport qualité-prix, c’est-à-dire dans quelle mesure vous pensez que le prix que votre entreprise paye à votre opérateur [V15] est justifié par rapport aux services que vous recevez '].replace('10 (La meilleure note)',10)\n",
    "df['29 - [36] Q03.Pour résumer, sur une échelle de 1 à 10, évaluez le rapport qualité-prix, c’est-à-dire dans quelle mesure vous pensez que le prix que votre entreprise paye à votre opérateur [V15] est justifié par rapport aux services que vous recevez ']=df['29 - [36] Q03.Pour résumer, sur une échelle de 1 à 10, évaluez le rapport qualité-prix, c’est-à-dire dans quelle mesure vous pensez que le prix que votre entreprise paye à votre opérateur [V15] est justifié par rapport aux services que vous recevez '].replace('11 (Ne sait pas/Non applicable)',11)\n",
    "df['29 - [36] Q03.Pour résumer, sur une échelle de 1 à 10, évaluez le rapport qualité-prix, c’est-à-dire dans quelle mesure vous pensez que le prix que votre entreprise paye à votre opérateur [V15] est justifié par rapport aux services que vous recevez '].unique()"
   ]
  },
  {
   "cell_type": "code",
   "execution_count": null,
   "id": "italic-layer",
   "metadata": {},
   "outputs": [],
   "source": [
    "#column '30 - [38] Q04.1 C’est un opérateur qui m’inspire confiance' changing values\n",
    "\n",
    "df['30 - [38] Q04.1 C’est un opérateur qui m’inspire confiance'].unique()\n",
    "df['30 - [38] Q04.1 C’est un opérateur qui m’inspire confiance']=df['30 - [38] Q04.1 C’est un opérateur qui m’inspire confiance'].replace(\"1 (Pas du tout d'accord)\",1)\n",
    "df['30 - [38] Q04.1 C’est un opérateur qui m’inspire confiance']=df['30 - [38] Q04.1 C’est un opérateur qui m’inspire confiance'].replace(\"10 (Tout à fait d'accord)\",10)\n",
    "df['30 - [38] Q04.1 C’est un opérateur qui m’inspire confiance'].unique()"
   ]
  },
  {
   "cell_type": "code",
   "execution_count": null,
   "id": "completed-arthur",
   "metadata": {},
   "outputs": [],
   "source": [
    "#column '31 - [39] Q04.2 C’est un opérateur qui contribue à simplifier la vie de ses clients entreprise' changing values\n",
    "c=\"31 - [39] Q04.2 C’est un opérateur qui contribue à simplifier la vie de ses clients entreprise\"\n",
    "df[c].unique()\n",
    "df[c]=df[c].replace(\"1 (Pas du tout d'accord)\",1)\n",
    "df[c]=df[c].replace(\"10 (Tout à fait d'accord)\",10)\n",
    "df[c].unique()"
   ]
  },
  {
   "cell_type": "code",
   "execution_count": null,
   "id": "established-luxury",
   "metadata": {},
   "outputs": [],
   "source": [
    "#column '32 - [40] Q04.3 C’est un opérateur qui écoute ses clients et comprend ce qu’ils veulent' changing values\n",
    "c=\"32 - [40] Q04.3 C’est un opérateur qui écoute ses clients et comprend ce qu’ils veulent\"\n",
    "df[c].unique()\n",
    "df[c]=df[c].replace(\"1 (Pas du tout d'accord)\",1)\n",
    "df[c]=df[c].replace(\"10 (Tout à fait d'accord)\",10)\n",
    "df[c].unique()"
   ]
  },
  {
   "cell_type": "code",
   "execution_count": null,
   "id": "structural-grade",
   "metadata": {},
   "outputs": [],
   "source": [
    "#column '33 - [41] Q04.4 C’est un opérateur qui récompense la fidélité des clients entreprise' changing values\n",
    "c=\"33 - [41] Q04.4 C’est un opérateur qui récompense la fidélité des clients entreprise\"\n",
    "df[c].unique()\n",
    "df[c]=df[c].replace(\"1 (Pas du tout d'accord)\",1)\n",
    "df[c]=df[c].replace(\"10 (Tout à fait d'accord)\",10)\n",
    "df[c].unique()"
   ]
  },
  {
   "cell_type": "code",
   "execution_count": null,
   "id": "federal-dayton",
   "metadata": {},
   "outputs": [],
   "source": [
    "#column '34 - [42] Q04.5 C’est un opérateur qui résout mes problèmes lorsque c’est  nécessaire' changing values\n",
    "c=\"34 - [42] Q04.5 C’est un opérateur qui résout mes problèmes lorsque c’est  nécessaire\"\n",
    "df[c].unique()\n",
    "df[c]=df[c].replace(\"1 (Pas du tout d'accord)\",1)\n",
    "df[c]=df[c].replace(\"10 (Tout à fait d'accord)\",10)\n",
    "df[c]=df[c].replace(\"11 (Ne sait pas/ Non applicable)\",11)\n",
    "df[c].unique()"
   ]
  },
  {
   "cell_type": "code",
   "execution_count": null,
   "id": "modern-submission",
   "metadata": {},
   "outputs": [],
   "source": [
    "#column '35 - [43] Q04.6 Je me sens apprécié en tant que client entreprise' changing values\n",
    "c=\"35 - [43] Q04.6 Je me sens apprécié en tant que client entreprise\"\n",
    "df[c].unique()\n",
    "df[c]=df[c].replace(\"1 (Pas du tout d'accord)\",1)\n",
    "df[c]=df[c].replace(\"10 (Tout à fait d'accord)\",10)\n",
    "df[c].unique()"
   ]
  },
  {
   "cell_type": "code",
   "execution_count": null,
   "id": "broad-teddy",
   "metadata": {},
   "outputs": [],
   "source": [
    "#column '36 - [44] Q04.7 C’est un opérateur qui me propose des offres et services qui me sont essentiels' changing values\n",
    "c=\"36 - [44] Q04.7 C’est un opérateur qui me propose des offres et services qui me sont essentiels\"\n",
    "df[c].unique()\n",
    "df[c]=df[c].replace(\"1 (Pas du tout d'accord)\",1)\n",
    "df[c]=df[c].replace(\"10 (Tout à fait d'accord)\",10)\n",
    "df[c].unique()"
   ]
  },
  {
   "cell_type": "code",
   "execution_count": null,
   "id": "traditional-prairie",
   "metadata": {},
   "outputs": [],
   "source": [
    "#column '37 - [45] Q05. Connaissez-vous les offres entreprises de votre opérateur ?' changing values\n",
    "c=\"37 - [45] Q05. Connaissez-vous les offres entreprises de votre opérateur ?\"\n",
    "df[c].unique()\n",
    "df[c]=df[c].replace(\"1. Oui\",'Oui')\n",
    "df[c]=df[c].replace(\"2. Non\",'Non')\n",
    "df[c].unique()"
   ]
  },
  {
   "cell_type": "code",
   "execution_count": null,
   "id": "absolute-genre",
   "metadata": {},
   "outputs": [],
   "source": [
    "#column '38 - [46] Q05A.1 … cherché des informations sur l’opérateur de votre entreprise ou ses offres' changing values\n",
    "c=\"38 - [46] Q05A.1 … cherché des informations sur l’opérateur de votre entreprise ou ses offres\"\n",
    "df[c].unique()\n",
    "df[c]=df[c].replace(\"OUI\",\"Oui\")\n",
    "df[c]=df[c].replace(\"NON\",\"Non\")\n",
    "df[c].unique()"
   ]
  },
  {
   "cell_type": "code",
   "execution_count": null,
   "id": "professional-bailey",
   "metadata": {},
   "outputs": [],
   "source": [
    "#column '39 - [47] Q05A.2 … reçu des informations de la part de cet opérateur (par exemple via des publicités, par courrier, SMS, etc)' changing values\n",
    "c=\"39 - [47] Q05A.2 … reçu des informations de la part de cet opérateur (par exemple via des publicités, par courrier, SMS, etc)\"\n",
    "df[c].unique()\n",
    "df[c]=df[c].replace(\"OUI\",\"Oui\")\n",
    "df[c]=df[c].replace(\"NON\",\"Non\")\n",
    "df[c].unique()"
   ]
  },
  {
   "cell_type": "code",
   "execution_count": null,
   "id": "defined-english",
   "metadata": {},
   "outputs": [],
   "source": [
    "#column '44 - [215] Q06.1 La facilité à trouver les informations que vous recherchiez, quel que soit le moyen (Internet,boutique, etc.)' changing values\n",
    "c=\"44 - [215] Q06.1 La facilité à trouver les informations que vous recherchiez, quel que soit le moyen (Internet,boutique, etc.)\"\n",
    "df[c].unique()\n",
    "df[c]=df[c].replace(\"1 (La plus mauvaise note)\",1)\n",
    "\n",
    "df[c].unique()"
   ]
  },
  {
   "cell_type": "code",
   "execution_count": null,
   "id": "welcome-mainstream",
   "metadata": {},
   "outputs": [],
   "source": [
    "#column '45 - [217] Q06.2 La facilité à comprendre ces informations' changing values\n",
    "c=\"45 - [217] Q06.2 La facilité à comprendre ces informations\"\n",
    "df[c].unique()\n",
    "df[c]=df[c].replace(\"1 (La plus mauvaise note)\",1)\n",
    "\n",
    "df[c].unique()"
   ]
  },
  {
   "cell_type": "code",
   "execution_count": 24,
   "id": "funky-kingston",
   "metadata": {},
   "outputs": [
    {
     "data": {
      "text/plain": [
       "array(['4.Aucun', nan, '2.Résilié un contrat ou abonnement',\n",
       "       '1.Signé un contrat avec votre opérateur principal pour la première fois',\n",
       "       '1.Signé un contrat avec votre opérateur principal pour la première fois/2.Résilié un contrat ou abonnement/3.Vous avez reçu une visite d’un commercial sans besoin particulier de votre part',\n",
       "       '3.Vous avez reçu une visite d’un commercial sans besoin particulier de votre part',\n",
       "       '1.Signé un contrat avec votre opérateur principal pour la première fois/2.Résilié un contrat ou abonnement'],\n",
       "      dtype=object)"
      ]
     },
     "execution_count": 24,
     "metadata": {},
     "output_type": "execute_result"
    }
   ],
   "source": [
    "#column '46 Q07A. qu’avez-vous fait dans les 12 derniers mois :' changing values\n",
    "c=\"46 Q07A. qu’avez-vous fait dans les 12 derniers mois :\"\n",
    "df[c].unique()\n",
    "df[c]=df[c].replace(\"/ 4.\tAucun /\",\"4.Aucun\")\n",
    "df[c]=df[c].replace(\"/ 2.\tRésilié un contrat ou abonnement /\",\"2.Résilié un contrat ou abonnement\")\n",
    "df[c]=df[c].replace(\"/ 1.\tSigné un contrat avec votre opérateur principal pour la première fois /\",\"1.Signé un contrat avec votre opérateur principal pour la première fois\")\n",
    "df[c]=df[c].replace(\"/ 1.\tSigné un contrat avec votre opérateur principal pour la première fois / 2.\tRésilié un contrat ou abonnement / 3.\tVous avez reçu une visite d’un commercial sans besoin particulier de votre part /\",\"1.Signé un contrat avec votre opérateur principal pour la première fois/2.Résilié un contrat ou abonnement/3.Vous avez reçu une visite d’un commercial sans besoin particulier de votre part\")\n",
    "df[c]=df[c].replace(\"/ 3.\tVous avez reçu une visite d’un commercial sans besoin particulier de votre part /\",\"3.Vous avez reçu une visite d’un commercial sans besoin particulier de votre part\")\n",
    "df[c]=df[c].replace(\"/ 1.\tSigné un contrat avec votre opérateur principal pour la première fois / 2.\tRésilié un contrat ou abonnement /\",\"1.Signé un contrat avec votre opérateur principal pour la première fois/2.Résilié un contrat ou abonnement\")\n",
    "df[c]=df[c].replace(\"3.\",\"3.Vous avez reçu une visite d’un commercial sans besoin particulier de votre part\")\n",
    "df[c]=df[c].replace(\"Aucun\",\"4.Aucun\")\n",
    "df[c]=df[c].replace(\"4.\",\"4.Aucun\")\n",
    "df[c]=df[c].replace(\"4.Aucun \",\"4.Aucun\")\n",
    "df[c]=df[c].replace(7,\"4.Aucun\")\n",
    "df[c].unique()"
   ]
  },
  {
   "cell_type": "code",
   "execution_count": 25,
   "id": "spiritual-closure",
   "metadata": {},
   "outputs": [
    {
     "data": {
      "text/plain": [
       "array([nan, '2.Eté en boutique/agence',\n",
       "       '1.Reçu la visite d’un commercial',\n",
       "       '1.Reçu la visite d’un commercial/2.Eté en boutique/agence',\n",
       "       '3.Aucun', '2.Eté en boutique / agence',\n",
       "       '2.Eté en boutique/agence '], dtype=object)"
      ]
     },
     "execution_count": 25,
     "metadata": {},
     "output_type": "execute_result"
    }
   ],
   "source": [
    "#column '47 Q07B. Pour cette démarche, avez-vous…' changing values\n",
    "c=\"47 Q07B. Pour cette démarche, avez-vous…\"\n",
    "df[c].unique()\n",
    "df[c]=df[c].replace(\"/ 2.\tEté en boutique / agence /\",\"2.Eté en boutique/agence\")\n",
    "df[c]=df[c].replace(\"/ 1.\tReçu la visite d’un commercial /\",\"1.Reçu la visite d’un commercial\")\n",
    "df[c]=df[c].replace(\"/ 1.\tReçu la visite d’un commercial / 2.\tEté en boutique / agence /\",\"1.Reçu la visite d’un commercial/2.Eté en boutique/agence\")\n",
    "df[c]=df[c].replace(\"/ 3.\tAucun /\",\"3.Aucun\")\n",
    "df[c]=df[c].replace(\"Non\",\"3.Aucun\")\n",
    "df[c]=df[c].replace(\"1.Reçu la visite d’un commercial\",\"1.Reçu la visite d’un commercial\")\n",
    "df[c]=df[c].replace(8,\"2.Eté en boutique/agence \")\n",
    "df[c]=df[c].replace(\"4.\",\"3.Aucun\")\n",
    "df[c]=df[c].replace(\"1.Reçu la visite d’un commercial/2.Eté en boutique / agence\",\"1.Reçu la visite d’un commercial/2.Eté en boutique/agence\")\n",
    "df[c]=df[c].replace(\"Aucun\",\"3.Aucun\")\n",
    "df[c]=df[c].replace(\"1.Aucun\",\"1.Reçu la visite d’un commercial\")\n",
    "df[c]=df[c].replace(\"2.Aucun\",\"2.Eté en boutique/agence\")\n",
    "df[c]=df[c].replace(\"Eté en boutique / agence\",\"2.Eté en boutique/agence\")\n",
    "df[c]=df[c].replace(\"2.Vous avez reçu une visite d’un commercial sans besoin particulier de votre part\",\"1.Reçu la visite d’un commercial\")\n",
    "df[c].unique()"
   ]
  },
  {
   "cell_type": "code",
   "execution_count": 26,
   "id": "willing-semester",
   "metadata": {},
   "outputs": [
    {
     "data": {
      "text/plain": [
       "array([nan,  6.,  9.,  7.,  8.,  3., 10.,  5.])"
      ]
     },
     "execution_count": 26,
     "metadata": {},
     "output_type": "execute_result"
    }
   ],
   "source": [
    "#column '48  Q08.Globalement comment évaluez-vous la visite de ce commercial?' changing values\n",
    "c=\"48  Q08.Globalement comment évaluez-vous la visite de ce commercial?\"\n",
    "df[c].unique()\n",
    "df[c]=df[c].replace(\"10 (La meilleure note)\",10)\n",
    "df[c].unique()"
   ]
  },
  {
   "cell_type": "code",
   "execution_count": 27,
   "id": "earlier-franklin",
   "metadata": {},
   "outputs": [
    {
     "data": {
      "text/plain": [
       "array([nan,  6.,  9.,  2.,  5.,  8., 10.,  7.])"
      ]
     },
     "execution_count": 27,
     "metadata": {},
     "output_type": "execute_result"
    }
   ],
   "source": [
    "#column '51 Q10.2 la compréhension de votre demande par le commercial' changing values\n",
    "c=\"51 Q10.2 la compréhension de votre demande par le commercial\"\n",
    "df[c].unique()\n",
    "df[c]=df[c].replace(\"10 (La meilleure note)\",10)\n",
    "df[c].unique()"
   ]
  },
  {
   "cell_type": "code",
   "execution_count": 28,
   "id": "wired-concentration",
   "metadata": {},
   "outputs": [
    {
     "data": {
      "text/plain": [
       "array([nan,  9.,  7.,  5.,  6.,  1.,  8.])"
      ]
     },
     "execution_count": 28,
     "metadata": {},
     "output_type": "execute_result"
    }
   ],
   "source": [
    "#column '53 Q11.1 L’accueil privilégié en tant que client entreprise' changing values\n",
    "c=\"53 Q11.1 L’accueil privilégié en tant que client entreprise\"\n",
    "df[c].unique()\n",
    "df[c]=df[c].replace(\"1 (La mauvaise note)\",1)\n",
    "df[c].unique()"
   ]
  },
  {
   "cell_type": "code",
   "execution_count": 29,
   "id": "psychological-indicator",
   "metadata": {},
   "outputs": [
    {
     "data": {
      "text/plain": [
       "array([nan,  8.,  4.,  7.,  5.,  1.,  6.])"
      ]
     },
     "execution_count": 29,
     "metadata": {},
     "output_type": "execute_result"
    }
   ],
   "source": [
    "#column '54 Q11.2 Le temps d’attente avant de pouvoir parler à un commercial' changing values\n",
    "c=\"54 Q11.2 Le temps d’attente avant de pouvoir parler à un commercial\"\n",
    "df[c].unique()\n",
    "df[c]=df[c].replace(\"1 (La mauvaise note)\",1)\n",
    "df[c].unique()"
   ]
  },
  {
   "cell_type": "code",
   "execution_count": 30,
   "id": "thermal-basket",
   "metadata": {},
   "outputs": [
    {
     "data": {
      "text/plain": [
       "array([nan,  9.,  6.,  8.,  4.,  5.,  1.,  7.])"
      ]
     },
     "execution_count": 30,
     "metadata": {},
     "output_type": "execute_result"
    }
   ],
   "source": [
    "#column '55 Q11.3 L’accueil, l’amabilité du personnel de la boutique / l’agence à votre arrivée' changing values\n",
    "c=\"55 Q11.3 L’accueil, l’amabilité du personnel de la boutique / l’agence à votre arrivée\"\n",
    "df[c].unique()\n",
    "df[c]=df[c].replace(\"1 (La mauvaise note)\",1)\n",
    "df[c].unique()"
   ]
  },
  {
   "cell_type": "code",
   "execution_count": 31,
   "id": "continued-lobby",
   "metadata": {},
   "outputs": [
    {
     "data": {
      "text/plain": [
       "array([nan,  9.,  2.,  7.,  5.,  6.,  1.,  8.])"
      ]
     },
     "execution_count": 31,
     "metadata": {},
     "output_type": "execute_result"
    }
   ],
   "source": [
    "#column '56  Q11.8 La façon dont on vous a aidé à occuper votre temps en attendant d’être pris(e) en charge par un commercial' changing values\n",
    "c=\"56  Q11.8 La façon dont on vous a aidé à occuper votre temps en attendant d’être pris(e) en charge par un commercial\"\n",
    "df[c].unique()\n",
    "df[c]=df[c].replace(\"1 (La mauvaise note)\",1)\n",
    "df[c].unique()"
   ]
  },
  {
   "cell_type": "code",
   "execution_count": 32,
   "id": "descending-intake",
   "metadata": {},
   "outputs": [
    {
     "data": {
      "text/plain": [
       "array([nan,  9.,  2.,  7.,  5.,  6.,  1.,  8.])"
      ]
     },
     "execution_count": 32,
     "metadata": {},
     "output_type": "execute_result"
    }
   ],
   "source": [
    "#column '57  Q11.4 La compréhension de votre demande par le commercial' changing values\n",
    "c=\"57  Q11.4 La compréhension de votre demande par le commercial\"\n",
    "df[c].unique()\n",
    "df[c]=df[c].replace(\"1 (La mauvaise note)\",1)\n",
    "df[c].unique()"
   ]
  },
  {
   "cell_type": "code",
   "execution_count": 33,
   "id": "administrative-bathroom",
   "metadata": {},
   "outputs": [
    {
     "data": {
      "text/plain": [
       "array([nan,  9.,  2.,  7.,  4.,  5.,  1.,  6.,  8.])"
      ]
     },
     "execution_count": 33,
     "metadata": {},
     "output_type": "execute_result"
    }
   ],
   "source": [
    "#column '58 Q11.5 La réponse ou la proposition qui vous a été faite par le commercial' changing values\n",
    "c=\"58 Q11.5 La réponse ou la proposition qui vous a été faite par le commercial\"\n",
    "df[c].unique()\n",
    "df[c]=df[c].replace(\"1 (La mauvaise note)\",1)\n",
    "df[c].unique()"
   ]
  },
  {
   "cell_type": "code",
   "execution_count": 34,
   "id": "elder-script",
   "metadata": {},
   "outputs": [
    {
     "data": {
      "text/plain": [
       "array([nan,  8.,  1.,  4.,  6.,  7.,  5.])"
      ]
     },
     "execution_count": 34,
     "metadata": {},
     "output_type": "execute_result"
    }
   ],
   "source": [
    "#column '59 Q11.7 globalement votre satisfaction en sortant de ce point de vente' changing values\n",
    "c=\"59 Q11.7 globalement votre satisfaction en sortant de ce point de vente\"\n",
    "df[c].unique()\n",
    "df[c]=df[c].replace(\"1 (La mauvaise note)\",1)\n",
    "df[c].unique()"
   ]
  },
  {
   "cell_type": "code",
   "execution_count": 35,
   "id": "lyric-postage",
   "metadata": {},
   "outputs": [
    {
     "data": {
      "text/plain": [
       "array([ 8., nan,  5.,  1.,  7.,  3.,  6.,  9.,  4.])"
      ]
     },
     "execution_count": 35,
     "metadata": {},
     "output_type": "execute_result"
    }
   ],
   "source": [
    "#column '60 La capacité de  votre operateur principale à proposer des offres qui correspondent aux besoins de votre entreprise' changing values\n",
    "c=\"60 La capacité de  votre operateur principale à proposer des offres qui correspondent aux besoins de votre entreprise\"\n",
    "df[c].unique()\n",
    "df[c]=df[c].replace(\"1 (La mauvaise note)\",1)\n",
    "df[c].unique()"
   ]
  },
  {
   "cell_type": "code",
   "execution_count": 36,
   "id": "earned-zimbabwe",
   "metadata": {},
   "outputs": [
    {
     "data": {
      "text/plain": [
       "array([ 8., nan,  6.,  4.,  1.,  7.,  9.,  5.,  3.,  2.])"
      ]
     },
     "execution_count": 36,
     "metadata": {},
     "output_type": "execute_result"
    }
   ],
   "source": [
    "#column '61   Q12.2 La clarté des tarifs à destination des entreprises' changing values\n",
    "c=\"61   Q12.2 La clarté des tarifs à destination des entreprises\"\n",
    "df[c].unique()\n",
    "df[c]=df[c].replace(\"1 (La mauvaise note)\",1)\n",
    "df[c].unique()"
   ]
  },
  {
   "cell_type": "code",
   "execution_count": 37,
   "id": "danish-divorce",
   "metadata": {},
   "outputs": [
    {
     "data": {
      "text/plain": [
       "array([ 8., nan,  5.,  3.,  1.,  7.,  6.,  9.,  4.])"
      ]
     },
     "execution_count": 37,
     "metadata": {},
     "output_type": "execute_result"
    }
   ],
   "source": [
    "#column '62 Q12.3 La capacité de votre operateur principale à proposer aux entreprises des offres/services différentes de ses concurrents' changing values\n",
    "c=\"62 Q12.3 La capacité de votre operateur principale à proposer aux entreprises des offres/services différentes de ses concurrents\"\n",
    "df[c].unique()\n",
    "df[c]=df[c].replace(\"1 (La mauvaise note)\",1)\n",
    "df[c].unique()"
   ]
  },
  {
   "cell_type": "code",
   "execution_count": 38,
   "id": "pregnant-darkness",
   "metadata": {},
   "outputs": [
    {
     "data": {
      "text/plain": [
       "array([ 8., nan,  5.,  4.,  1.,  7., 10.,  3.,  6.,  9., 11.])"
      ]
     },
     "execution_count": 38,
     "metadata": {},
     "output_type": "execute_result"
    }
   ],
   "source": [
    "#column '63 Q12.4 Sa capacité à proposer des offres innovantes' changing values\n",
    "c=\"63 Q12.4 Sa capacité à proposer des offres innovantes\"\n",
    "df[c].unique()\n",
    "df[c]=df[c].replace(\"1 (La mauvaise note)\",1)\n",
    "df[c]=df[c].replace(\"10 (La meilleure note)\",10)\n",
    "df[c]=df[c].replace(\"11 (Ne sait pas/ Non applicable)\",11)\n",
    "df[c].unique()"
   ]
  },
  {
   "cell_type": "code",
   "execution_count": 39,
   "id": "caroline-homeless",
   "metadata": {},
   "outputs": [
    {
     "data": {
      "text/plain": [
       "array([ 7., nan,  5.,  1.,  8.,  9.,  6.,  2.,  4.,  3., 10.])"
      ]
     },
     "execution_count": 39,
     "metadata": {},
     "output_type": "execute_result"
    }
   ],
   "source": [
    "#column '64 Q13. Globalement la mise en service de vos offres et services achetés chez votre opérateur?' changing values\n",
    "c=\"64 Q13. Globalement la mise en service de vos offres et services achetés chez votre opérateur?\"\n",
    "df[c].unique()\n",
    "df[c]=df[c].replace(\"1 (La mauvaise note)\",1)\n",
    "df[c]=df[c].replace(\"10 (La meilleure note)\",10)\n",
    "df[c]=df[c].replace(\"11 (Ne sait pas/ Non applicable)\",11)\n",
    "df[c].unique()"
   ]
  },
  {
   "cell_type": "code",
   "execution_count": 40,
   "id": "checked-converter",
   "metadata": {},
   "outputs": [
    {
     "data": {
      "text/plain": [
       "array([ 7., nan,  5.,  8.,  9., 10.,  6.,  1.,  3.,  4.])"
      ]
     },
     "execution_count": 40,
     "metadata": {},
     "output_type": "execute_result"
    }
   ],
   "source": [
    "#column '65  Q14. Globalement comment évaluez-vous la qualité du réseau de votre opérateur ? ' changing values\n",
    "c=\"65  Q14. Globalement comment évaluez-vous la qualité du réseau de votre opérateur ? \"\n",
    "\n",
    "df.iloc[0:,61].unique()\n",
    "df.iloc[0:,61]=df.iloc[0:,61].replace(\"1 (La mauvaise note)\",1)\n",
    "df.iloc[0:,61]=df.iloc[0:,61].replace(\"10 (La meilleure note)\",10)\n",
    "df.iloc[0:,61]=df.iloc[0:,61].replace(\"11 (Ne sait pas/ Non applicable)\",11)\n",
    "df.iloc[0:,61].unique()"
   ]
  },
  {
   "cell_type": "code",
   "execution_count": null,
   "id": "architectural-communications",
   "metadata": {},
   "outputs": [],
   "source": [
    "\n",
    "#column '66 -  Q15. Arrivez-vous à passer votre appel dès la première tentative ? ' changing values\n",
    "c=\"66 -  Q15. Arrivez-vous à passer votre appel dès la première tentative ? \"\n",
    "\n",
    "df[c].unique()\n",
    "df[c]=df[c].replace(\"2.\tRarement\",\"Rarement\")\n",
    "df[c]=df[c].replace(\"2.\",\"Rarement\")\n",
    "df[c]=df[c].replace(\"1.\",\"Jamais\")\n",
    "df[c]=df[c].replace(\"1.\tJamais\",\"Jamais\")\n",
    "df[c]=df[c].replace(\"3.\tSouvent\",\"Souvent\")\n",
    "df[c]=df[c].replace(\"3.\",\"Souvent\")\n",
    "df[c]=df[c].replace(\"4.\tToujours\",\"Toujours\")\n",
    "df[c]=df[c].replace(\"4.\",\"Toujours\")\n",
    "df[c].unique()"
   ]
  },
  {
   "cell_type": "code",
   "execution_count": null,
   "id": "humanitarian-cleanup",
   "metadata": {},
   "outputs": [],
   "source": []
  },
  {
   "cell_type": "code",
   "execution_count": null,
   "id": "adjacent-johnson",
   "metadata": {},
   "outputs": [],
   "source": [
    "#column '68  Q16.2 La qualité de la voix ' changing values\n",
    "c=\"68  Q16.2 La qualité de la voix \"\n",
    "\n",
    "df[c].unique()\n",
    "df[c]=df[c].replace(\"1 (La mauvaise note)\",1)\n",
    "df[c]=df[c].replace(\"10 (La meilleure note)\",10)\n",
    "df[c]=df[c].replace(\"11 (Ne sait pas/ Non applicable)\",11)\n",
    "df[c].unique()"
   ]
  },
  {
   "cell_type": "code",
   "execution_count": 44,
   "id": "according-knight",
   "metadata": {},
   "outputs": [
    {
     "data": {
      "text/plain": [
       "array([ 9., nan,  5.,  8.,  6.,  7., 10.,  1.,  4.,  3.])"
      ]
     },
     "execution_count": 44,
     "metadata": {},
     "output_type": "execute_result"
    }
   ],
   "source": [
    "#column '69  Q16.3 La qualité de la communication ' changing values\n",
    "c=\"69  Q16.3 La qualité de la communication \"\n",
    "\n",
    "df[c].unique()\n",
    "df[c]=df[c].replace(\"1 (La mauvaise note)\",1)\n",
    "df[c]=df[c].replace(\"10 (La meilleure note)\",10)\n",
    "df[c]=df[c].replace(\"11 (Ne sait pas/ Non applicable)\",11)\n",
    "df[c].unique()"
   ]
  },
  {
   "cell_type": "code",
   "execution_count": 45,
   "id": "purple-internship",
   "metadata": {},
   "outputs": [
    {
     "data": {
      "text/plain": [
       "array([ 9., nan,  5.,  8.,  7.,  6.,  3.,  1.,  4., 10.])"
      ]
     },
     "execution_count": 45,
     "metadata": {},
     "output_type": "execute_result"
    }
   ],
   "source": [
    "#column '70 Q16.4 La qualité de la voix et de la communication à l’intérieur des bâtiments' changing values\n",
    "c=\"70 Q16.4 La qualité de la voix et de la communication à l’intérieur des bâtiments\"\n",
    "\n",
    "df[c].unique()\n",
    "df[c]=df[c].replace(\"1 (La mauvaise note)\",1)\n",
    "df[c]=df[c].replace(\"10 (La meilleure note)\",10)\n",
    "df[c]=df[c].replace(\"11 (Ne sait pas/ Non applicable)\",11)\n",
    "df[c].unique()"
   ]
  },
  {
   "cell_type": "code",
   "execution_count": 46,
   "id": "searching-destiny",
   "metadata": {},
   "outputs": [
    {
     "data": {
      "text/plain": [
       "array([ 9., nan,  5.,  8.,  7.,  6.,  4., 10.,  1.,  3.])"
      ]
     },
     "execution_count": 46,
     "metadata": {},
     "output_type": "execute_result"
    }
   ],
   "source": [
    "#column '71 Q16.5 La qualité de la voix et de la communication à l’extérieur des bâtiments' changing values\n",
    "c=\"71 Q16.5 La qualité de la voix et de la communication à l’extérieur des bâtiments\"\n",
    "\n",
    "df[c].unique()\n",
    "df[c]=df[c].replace(\"1 (La mauvaise note)\",1)\n",
    "df[c]=df[c].replace(\"10 (La meilleure note)\",10)\n",
    "df[c]=df[c].replace(\"11 (Ne sait pas/ Non applicable)\",11)\n",
    "df[c].unique()"
   ]
  },
  {
   "cell_type": "code",
   "execution_count": 47,
   "id": "employed-cleaning",
   "metadata": {},
   "outputs": [
    {
     "data": {
      "text/plain": [
       "array([nan,  5.,  1.,  6.,  3.,  2.,  8.,  7.,  4.,  9.])"
      ]
     },
     "execution_count": 47,
     "metadata": {},
     "output_type": "execute_result"
    }
   ],
   "source": [
    "#column '73 Q16B l’accompagnement de  votre operateur principale pendant ces périodes de panne de réseau ? ' changing values\n",
    "c=\"73 Q16B l’accompagnement de  votre operateur principale pendant ces périodes de panne de réseau ? \"\n",
    "\n",
    "df[c].unique()\n",
    "df[c]=df[c].replace(\"1 (La mauvaise note)\",1)\n",
    "df[c]=df[c].replace(\"10 (La meilleure note)\",10)\n",
    "df[c]=df[c].replace(\"11 (Ne sait pas/ Non applicable)\",11)\n",
    "df[c].unique()"
   ]
  },
  {
   "cell_type": "code",
   "execution_count": null,
   "id": "competent-burns",
   "metadata": {},
   "outputs": [],
   "source": []
  },
  {
   "cell_type": "code",
   "execution_count": 48,
   "id": "advanced-prime",
   "metadata": {},
   "outputs": [
    {
     "data": {
      "text/plain": [
       "array([nan,  7.,  6.,  1.,  5.,  9.,  3.,  4.])"
      ]
     },
     "execution_count": 48,
     "metadata": {},
     "output_type": "execute_result"
    }
   ],
   "source": [
    "#column '80 facilite d'utilisation et fonctionnement de   Transfert de crédit' changing values\n",
    "c=\"80 facilite d'utilisation et fonctionnement de   Transfert de crédit\"\n",
    "\n",
    "df[c].unique()\n",
    "df[c]=df[c].replace(\"1 (La plus mauvaise note)\",1)\n",
    "df[c]=df[c].replace(\"10 (La meilleure note)\",10)\n",
    "df[c]=df[c].replace(\"11 (Ne sait pas/ Non applicable)\",11)\n",
    "df[c].unique()"
   ]
  },
  {
   "cell_type": "code",
   "execution_count": 49,
   "id": "innovative-heading",
   "metadata": {},
   "outputs": [
    {
     "data": {
      "text/plain": [
       "array([nan,  7.,  5.,  1.,  6.,  9.,  8.])"
      ]
     },
     "execution_count": 49,
     "metadata": {},
     "output_type": "execute_result"
    }
   ],
   "source": [
    "#column '81 facilite d'utilisation et fonctionnement de Transfert Internet' changing values\n",
    "c=\"81 facilite d'utilisation et fonctionnement de Transfert Internet\"\n",
    "\n",
    "df[c].unique()\n",
    "df[c]=df[c].replace(\"1 (La plus mauvaise note)\",1)\n",
    "df[c]=df[c].replace(\"10 (La meilleure note)\",10)\n",
    "df[c]=df[c].replace(\"11 (Ne sait pas/ Non applicable)\",11)\n",
    "df[c].unique()"
   ]
  },
  {
   "cell_type": "code",
   "execution_count": 50,
   "id": "intensive-calcium",
   "metadata": {},
   "outputs": [
    {
     "data": {
      "text/plain": [
       "array([nan,  5.,  6.,  1.,  8.,  4.,  7.])"
      ]
     },
     "execution_count": 50,
     "metadata": {},
     "output_type": "execute_result"
    }
   ],
   "source": [
    "#column '82facilite d'utilisation et fonctionnement de  SOS crédit / Minute SOS/ SOS Solde' changing values\n",
    "c=\"82facilite d'utilisation et fonctionnement de  SOS crédit / Minute SOS/ SOS Solde\"\n",
    "\n",
    "df[c].unique()\n",
    "df[c]=df[c].replace(\"1 (La plus mauvaise note)\",1)\n",
    "df[c]=df[c].replace(\"10 (La meilleure note)\",10)\n",
    "df[c]=df[c].replace(\"11 (Ne sait pas/ Non applicable)\",11)\n",
    "df[c].unique()"
   ]
  },
  {
   "cell_type": "code",
   "execution_count": 51,
   "id": "lined-florist",
   "metadata": {},
   "outputs": [
    {
     "data": {
      "text/plain": [
       "array([nan,  6.,  1.,  8.,  7.])"
      ]
     },
     "execution_count": 51,
     "metadata": {},
     "output_type": "execute_result"
    }
   ],
   "source": [
    "#column '83  facilite d'utilisation et fonctionnement de  Orange fidélité ou Points Merci ou  Kelma' changing values\n",
    "c=\"83  facilite d'utilisation et fonctionnement de  Orange fidélité ou Points Merci ou  Kelma\"\n",
    "\n",
    "df[c].unique()\n",
    "df[c]=df[c].replace(\"1 (La plus mauvaise note)\",1)\n",
    "df[c]=df[c].replace(\"10 (La meilleure note)\",10)\n",
    "df[c]=df[c].replace(\"11 (Ne sait pas/ Non applicable)\",11)\n",
    "df[c].unique()"
   ]
  },
  {
   "cell_type": "code",
   "execution_count": 52,
   "id": "limited-california",
   "metadata": {},
   "outputs": [
    {
     "data": {
      "text/plain": [
       "array([nan,  6.,  7.,  8.,  1.,  5.])"
      ]
     },
     "execution_count": 52,
     "metadata": {},
     "output_type": "execute_result"
    }
   ],
   "source": [
    "#column '84  facilite d'utilisation et fonctionnement de  Messagerie vocale' changing values\n",
    "c=\"84  facilite d'utilisation et fonctionnement de  Messagerie vocale\"\n",
    "\n",
    "df[c].unique()\n",
    "df[c]=df[c].replace(\"1 (La plus mauvaise note)\",1)\n",
    "df[c]=df[c].replace(\"10 (La meilleure note)\",10)\n",
    "df[c]=df[c].replace(\"11 (Ne sait pas/ Non applicable)\",11)\n",
    "df[c].unique()"
   ]
  },
  {
   "cell_type": "code",
   "execution_count": 53,
   "id": "earlier-porcelain",
   "metadata": {},
   "outputs": [
    {
     "data": {
      "text/plain": [
       "array([nan,  7.,  8.,  1.,  5., 11.])"
      ]
     },
     "execution_count": 53,
     "metadata": {},
     "output_type": "execute_result"
    }
   ],
   "source": [
    "#column '85 facilite d'utilisation et fonctionnement de  Appelez jusqu'à six ou Conf Call pro ou Appel en conférence' changing values\n",
    "c=\"85 facilite d'utilisation et fonctionnement de  Appelez jusqu'à six ou Conf Call pro ou Appel en conférence\"\n",
    "\n",
    "df[c].unique()\n",
    "df[c]=df[c].replace(\"1 (La plus mauvaise note)\",1)\n",
    "df[c]=df[c].replace(\"10 (La meilleure note)\",10)\n",
    "df[c]=df[c].replace(\"11 (Ne sait pas/ Non applicable)\",11)\n",
    "df[c].unique()"
   ]
  },
  {
   "cell_type": "code",
   "execution_count": null,
   "id": "mineral-sally",
   "metadata": {},
   "outputs": [],
   "source": []
  },
  {
   "cell_type": "code",
   "execution_count": 54,
   "id": "addressed-powell",
   "metadata": {},
   "outputs": [
    {
     "data": {
      "text/plain": [
       "array([nan, '3.Paiement de facture',\n",
       "       '2.Rechargement crédit téléphonique/3.Paiement de facture',\n",
       "       '2.Rechargement crédit téléphonique'], dtype=object)"
      ]
     },
     "execution_count": 54,
     "metadata": {},
     "output_type": "execute_result"
    }
   ],
   "source": [
    "#column '89 Raison pour utilise Orange money' changing values\n",
    "c=\"89 Raison pour utilise Orange money\"\n",
    "df[c].unique()\n",
    "df[c]=df[c].replace(\"/ 3.Paiement de facture /\",\"3.Paiement de facture\")\n",
    "df[c]=df[c].replace(\"/ 2.Rechargement crédit téléphonique / 3.Paiement de facture /\",\"2.Rechargement crédit téléphonique/3.Paiement de facture\")\n",
    "df[c]=df[c].replace(\"/ 3.Paiement de facture /\",\"3.Paiement de facture\")\n",
    "df[c]=df[c].replace(\"/ 2.Rechargement crédit téléphonique /\",\"2.Rechargement crédit téléphonique\")\n",
    "\n",
    "df[c].unique()"
   ]
  },
  {
   "cell_type": "code",
   "execution_count": 55,
   "id": "looking-ghost",
   "metadata": {},
   "outputs": [
    {
     "data": {
      "text/plain": [
       "array([nan, '2.Rechargement crédit téléphonique', '3.Paiement de facture',\n",
       "       '2.Rechargement crédit téléphonique/3.Paiement de facture'],\n",
       "      dtype=object)"
      ]
     },
     "execution_count": 55,
     "metadata": {},
     "output_type": "execute_result"
    }
   ],
   "source": [
    "#column '90 Raison pour utilise Mobicash Ooredoo' changing values\n",
    "c=\"90 Raison pour utilise Mobicash Ooredoo\"\n",
    "\n",
    "df[c].unique()\n",
    "df[c]=df[c].replace(\"/ 3.Paiement de facture /\",\"3.Paiement de facture\")\n",
    "df[c]=df[c].replace(\"/ 2.Rechargement crédit téléphonique / 3.Paiement de facture /\",\"2.Rechargement crédit téléphonique/3.Paiement de facture\")\n",
    "df[c]=df[c].replace(\"/ 3.Paiement de facture /\",\"3.Paiement de facture\")\n",
    "df[c]=df[c].replace(\"/ 2.Rechargement crédit téléphonique /\",\"2.Rechargement crédit téléphonique\")\n",
    "\n",
    "df[c].unique()"
   ]
  },
  {
   "cell_type": "code",
   "execution_count": 56,
   "id": "prerequisite-lebanon",
   "metadata": {},
   "outputs": [
    {
     "data": {
      "text/plain": [
       "array([nan, '2.Rechargement crédit téléphonique', '3.Paiement de facture'],\n",
       "      dtype=object)"
      ]
     },
     "execution_count": 56,
     "metadata": {},
     "output_type": "execute_result"
    }
   ],
   "source": [
    "#column '91 Raison pour utilise Mdinar TT' changing values\n",
    "c=\"91 Raison pour utilise Mdinar TT\"\n",
    "\n",
    "df[c].unique()\n",
    "df[c]=df[c].replace(\"/ 3.Paiement de facture /\",\"3.Paiement de facture\")\n",
    "df[c]=df[c].replace(\"/ 2.Rechargement crédit téléphonique / 3.Paiement de facture /\",\"2.Rechargement crédit téléphonique/3.Paiement de facture\")\n",
    "df[c]=df[c].replace(\"/ 3.Paiement de facture /\",\"3.Paiement de facture\")\n",
    "df[c]=df[c].replace(\"/ 2.Rechargement crédit téléphonique /\",\"2.Rechargement crédit téléphonique\")\n",
    "\n",
    "df[c].unique()"
   ]
  },
  {
   "cell_type": "code",
   "execution_count": 57,
   "id": "acoustic-bosnia",
   "metadata": {},
   "outputs": [
    {
     "data": {
      "text/plain": [
       "array([nan,  6.,  5.,  7.,  8.,  1.,  3.,  4.])"
      ]
     },
     "execution_count": 57,
     "metadata": {},
     "output_type": "execute_result"
    }
   ],
   "source": [
    "#column '103Q20bis.1 L’accessibilité au réseau' changing values\n",
    "c=\"103Q20bis.1 L’accessibilité au réseau\"\n",
    "\n",
    "df[c].unique()\n",
    "df[c]=df[c].replace(\"1 (La plus mauvaise note)\",1)\n",
    "df[c]=df[c].replace(\"10 (La meilleure note)\",10)\n",
    "df[c]=df[c].replace(\"11 (Ne sait pas/ Non applicable)\",11)\n",
    "df[c].unique()"
   ]
  },
  {
   "cell_type": "code",
   "execution_count": 59,
   "id": "collaborative-humor",
   "metadata": {},
   "outputs": [
    {
     "data": {
      "text/plain": [
       "array([nan,  6.,  5.,  7.,  8.,  1.,  4.,  3.,  2.])"
      ]
     },
     "execution_count": 59,
     "metadata": {},
     "output_type": "execute_result"
    }
   ],
   "source": [
    "#column '104 Q20bis.2 La qualité de la voix ' changing values\n",
    "c=\"104 Q20bis.2 La qualité de la voix \"\n",
    "\n",
    "df[c].unique()\n",
    "df[c]=df[c].replace(\"1 (La plus mauvaise note)\",1)\n",
    "df[c]=df[c].replace('2. Ooredoo',2)\n",
    "df[c]=df[c].replace('1. Orange',1)\n",
    "df[c]=df[c].replace(\"10 (La meilleure note)\",10)\n",
    "df[c]=df[c].replace(\"11 (Ne sait pas/ Non applicable)\",11)\n",
    "df[c].unique()"
   ]
  },
  {
   "cell_type": "code",
   "execution_count": 60,
   "id": "comparative-export",
   "metadata": {},
   "outputs": [
    {
     "data": {
      "text/plain": [
       "array([nan, 11.,  5.,  7.,  8.,  6.,  2.,  4.])"
      ]
     },
     "execution_count": 60,
     "metadata": {},
     "output_type": "execute_result"
    }
   ],
   "source": [
    "#column '105 Q20bis.3 La qualité de la connexion à l’internet mobile' changing values\n",
    "c=\"105 Q20bis.3 La qualité de la connexion à l’internet mobile\"\n",
    "\n",
    "df[c].unique()\n",
    "df[c]=df[c].replace(\"1 (La plus mauvaise note)\",1)\n",
    "df[c]=df[c].replace(\"10 (La meilleure note)\",10)\n",
    "df[c]=df[c].replace(\"11 (Ne sait pas/ Non applicable)\",11)\n",
    "df[c].unique()"
   ]
  },
  {
   "cell_type": "code",
   "execution_count": 61,
   "id": "artistic-printing",
   "metadata": {},
   "outputs": [
    {
     "data": {
      "text/plain": [
       "array([nan,  5.,  7.,  6.,  8.,  2.,  4.,  3., 11.])"
      ]
     },
     "execution_count": 61,
     "metadata": {},
     "output_type": "execute_result"
    }
   ],
   "source": [
    "#column '106 Q20bis.4 L’information transmise par votre opérateur sur les coûts d’utilisation du service roaming ' changing values\n",
    "c=\"106 Q20bis.4 L’information transmise par votre opérateur sur les coûts d’utilisation du service roaming \"\n",
    "\n",
    "df[c].unique()\n",
    "df[c]=df[c].replace(\"1 (La plus mauvaise note)\",1)\n",
    "df[c]=df[c].replace(\"10 (La meilleure note)\",10)\n",
    "df[c]=df[c].replace(\"11 (Ne sait pas/ Non applicable)\",11)\n",
    "df[c].unique()"
   ]
  },
  {
   "cell_type": "code",
   "execution_count": 62,
   "id": "incorporated-sculpture",
   "metadata": {},
   "outputs": [
    {
     "data": {
      "text/plain": [
       "array([nan, 11.,  1.,  7.,  3.,  5.,  4.,  8.,  2.,  6.])"
      ]
     },
     "execution_count": 62,
     "metadata": {},
     "output_type": "execute_result"
    }
   ],
   "source": [
    "#column '107 Q20bis.5 Le coût du service roaming' changing values\n",
    "c=\"107 Q20bis.5 Le coût du service roaming\"\n",
    "\n",
    "df[c].unique()\n",
    "df[c]=df[c].replace(\"1 (La plus mauvaise note)\",1)\n",
    "df[c]=df[c].replace(\"10 (La meilleure note)\",10)\n",
    "df[c]=df[c].replace(\"11 (Ne sait pas/ Non applicable)\",11)\n",
    "df[c].unique()"
   ]
  },
  {
   "cell_type": "code",
   "execution_count": 64,
   "id": "complex-presentation",
   "metadata": {},
   "outputs": [
    {
     "data": {
      "text/plain": [
       "array([nan,  7.,  5.,  6.,  8.,  4.,  9.,  1.,  3., 10.,  2.])"
      ]
     },
     "execution_count": 64,
     "metadata": {},
     "output_type": "execute_result"
    }
   ],
   "source": [
    "#column '110 Q25.1  l’accessibilité au réseau Internet mobile de votre opérateur' changing values\n",
    "c=\"110 Q25.1  l’accessibilité au réseau Internet mobile de votre opérateur\"\n",
    "\n",
    "df[c].unique()\n",
    "df[c]=df[c].replace(\"1 ( la plus mauvaise note)\",1)\n",
    "df[c]=df[c].replace(\"10 (La meilleure note)\",10)\n",
    "df[c]=df[c].replace(\"11 (Ne sait pas/ Non applicable)\",11)\n",
    "df[c].unique()"
   ]
  },
  {
   "cell_type": "code",
   "execution_count": 66,
   "id": "continental-pledge",
   "metadata": {},
   "outputs": [
    {
     "data": {
      "text/plain": [
       "array([nan,  6.,  4.,  7.,  5.,  9.,  8., 10.,  3.,  1.,  2.])"
      ]
     },
     "execution_count": 66,
     "metadata": {},
     "output_type": "execute_result"
    }
   ],
   "source": [
    "#column '112  Q26 Le rapport qualité-prix de l’offre Internet mobile' changing values\n",
    "c=\"112  Q26 Le rapport qualité-prix de l’offre Internet mobile\"\n",
    "\n",
    "df[c].unique()\n",
    "df[c]=df[c].replace(\"1 ( la plus mauvaise note)\",1)\n",
    "df[c]=df[c].replace(\"10 (La meilleure note)\",10)\n",
    "df[c]=df[c].replace(\"11 (Ne sait pas/ Non applicable)\",11)\n",
    "df[c].unique()"
   ]
  },
  {
   "cell_type": "code",
   "execution_count": 67,
   "id": "cheap-stone",
   "metadata": {},
   "outputs": [
    {
     "data": {
      "text/plain": [
       "array([nan,  6.,  5.,  7.,  9.,  8.,  3.,  1.,  4., 10.,  2.])"
      ]
     },
     "execution_count": 67,
     "metadata": {},
     "output_type": "execute_result"
    }
   ],
   "source": [
    "#column '111Q25.2 La vitesse de navigation et de chargement des pages sur Internet mobile de votre opérateur' changing values\n",
    "c=\"111Q25.2 La vitesse de navigation et de chargement des pages sur Internet mobile de votre opérateur\"\n",
    "\n",
    "df[c].unique()\n",
    "df[c]=df[c].replace(\"1 ( la plus mauvaise note)\",1)\n",
    "df[c]=df[c].replace(\"10 (La meilleure note)\",10)\n",
    "df[c]=df[c].replace(\"11 (Ne sait pas/ Non applicable)\",11)\n",
    "df[c].unique()"
   ]
  },
  {
   "cell_type": "code",
   "execution_count": 68,
   "id": "steady-living",
   "metadata": {},
   "outputs": [
    {
     "data": {
      "text/plain": [
       "array([nan,  6.,  4.,  7.,  5.,  9.,  8., 10.,  3.,  1.,  2.])"
      ]
     },
     "execution_count": 68,
     "metadata": {},
     "output_type": "execute_result"
    }
   ],
   "source": [
    "#column '112  Q26 Le rapport qualité-prix de l’offre Internet mobile' changing values\n",
    "c=\"112  Q26 Le rapport qualité-prix de l’offre Internet mobile\"\n",
    "\n",
    "df[c].unique()\n",
    "df[c]=df[c].replace(\"1 ( la plus mauvaise note)\",1)\n",
    "df[c]=df[c].replace(\"10 (La meilleure note)\",10)\n",
    "df[c]=df[c].replace(\"11 (Ne sait pas/ Non applicable)\",11)\n",
    "df[c].unique()"
   ]
  },
  {
   "cell_type": "code",
   "execution_count": null,
   "id": "sufficient-coordinator",
   "metadata": {},
   "outputs": [],
   "source": []
  },
  {
   "cell_type": "code",
   "execution_count": null,
   "id": "parental-termination",
   "metadata": {},
   "outputs": [],
   "source": []
  },
  {
   "cell_type": "code",
   "execution_count": 70,
   "id": "earlier-hello",
   "metadata": {},
   "outputs": [
    {
     "data": {
      "text/plain": [
       "array(['5.Ne sait pas', nan, '3.Non, probablement pas',\n",
       "       '4.Non, certainement pas', '2.Oui, probablement',\n",
       "       '1.Oui, certainement'], dtype=object)"
      ]
     },
     "execution_count": 70,
     "metadata": {},
     "output_type": "execute_result"
    }
   ],
   "source": [
    "#column '113  Q27otre entreprise envisage-t-elle de souscrire une offre Internet mobile pour un ou plusieurs salariés ?' changing values\n",
    "c=\"113  Q27otre entreprise envisage-t-elle de souscrire une offre Internet mobile pour un ou plusieurs salariés ?\"\n",
    "\n",
    "df[c].unique()\n",
    "df[c]=df[c].replace(\"5.\tNe sait pas\",\"5.Ne sait pas\")\n",
    "df[c]=df[c].replace(\"3.\tNon, probablement pas\",\"3.Non, probablement pas\")\n",
    "df[c]=df[c].replace(\"4.\tNon, certainement pas\",\"4.Non, certainement pas\")\n",
    "df[c]=df[c].replace(\"2.\tOui, probablement\",\"2.Oui, probablement\")\n",
    "df[c]=df[c].replace(\"1.\tOui, certainement\",\"1.Oui, certainement\")\n",
    "df[c]=df[c].replace(\"5.Oui, probablement\",\"5.Ne sait pas\")\n",
    "\n",
    "df[c].unique()"
   ]
  },
  {
   "cell_type": "code",
   "execution_count": 75,
   "id": "north-grounds",
   "metadata": {},
   "outputs": [
    {
     "data": {
      "text/plain": [
       "array([nan, '2.Appelé un numéro service client', '1.Appelé un commercial',\n",
       "       '1.Appelé un commercial/2.Appelé un numéro service client/3.Vous êtes allés dans une boutique / agence',\n",
       "       '2.Appelé un numéro service client/3.Vous êtes allés dans une boutique / agenc',\n",
       "       '3.Vous êtes allés dans une boutique / agence',\n",
       "       '1.Appelé un commercial/2.Appelé un numéro service client',\n",
       "       '2.Appelé un numéro service client/5.Vous êtes allés sur le site internet de votre opérateur/6.Vous avez contacté votre opérateur via Facebook, Twitter, etc',\n",
       "       '1.Appelé un commercial/3.Vous êtes allés dans une boutique / agence/5.Vous êtes allés sur le site internet de votre opérateur/6.Vous avez contacté votre opérateur via Facebook, Twitter, etc',\n",
       "       '1.Appelé un commercial/2.Appelé un numéro service client/4.Vous êtes allés chez un distributeur',\n",
       "       '1.Appelé un commercial/2.Appelé un numéro service client/5.Vous êtes allés sur le site internet de votre opérateur/6.Vous avez contacté votre opérateur via Facebook, Twitter, etc',\n",
       "       '2.Appelé un numéro service client/3.Vous êtes allés dans une boutique / agence'],\n",
       "      dtype=object)"
      ]
     },
     "execution_count": 75,
     "metadata": {},
     "output_type": "execute_result"
    }
   ],
   "source": [
    "#column '117Q31. Et pour cette démarche vous avez : ' changing values\n",
    "c=\"117Q31. Et pour cette démarche vous avez : \"\n",
    "\n",
    "df[c].unique()\n",
    "df[c]=df[c].replace(\"/ 2.\\tAppelé un numéro service client / 5.\\tVous êtes allés sur le site internet de votre opérateur / 6.\\tVous avez contacté votre opérateur via Facebook, Twitter, etc /\",\"2.Appelé un numéro service client/5.Vous êtes allés sur le site internet de votre opérateur/6.Vous avez contacté votre opérateur via Facebook, Twitter, etc\")\n",
    "df[c]=df[c].replace(\"/ 1.\\tAppelé un commercial / 3.\\tVous êtes allés dans une boutique / agence / 5.\\tVous êtes allés sur le site internet de votre opérateur / 6.\\tVous avez contacté votre opérateur via Facebook, Twitter, etc /\",\"1.Appelé un commercial/3.Vous êtes allés dans une boutique / agence/5.Vous êtes allés sur le site internet de votre opérateur/6.Vous avez contacté votre opérateur via Facebook, Twitter, etc\")\n",
    "df[c]=df[c].replace(\"/ 2.\\tAppelé un numéro service client /\",\"2.Appelé un numéro service client\")\n",
    "df[c]=df[c].replace(\"/ 1.\\tAppelé un commercial /\",\"1.Appelé un commercial\")\n",
    "df[c]=df[c].replace(\"/ 1.\\tAppelé un commercial / 2.\\tAppelé un numéro service client / 3.\\tVous êtes allés dans une boutique / agence /\",\"1.Appelé un commercial/2.Appelé un numéro service client/3.Vous êtes allés dans une boutique / agence\")\n",
    "df[c]=df[c].replace(\"2.\\tAppelé un numéro service client / 5.\\tVous êtes allés sur le site internet de votre opérateur / 6.\\tVous avez contacté votre opérateur via Facebook, Twitter, etc /\",\"2.Appelé un numéro service client/5.Vous êtes allés sur le site internet de votre opérateur/6.Vous avez contacté votre opérateur via Facebook, Twitter, etc\")\n",
    "df[c]=df[c].replace(\"/ 1.\\tAppelé un commercial / 2.\\tAppelé un numéro service client / 4.\\tVous êtes allés chez un distributeur /\",\"1.Appelé un commercial/2.Appelé un numéro service client/4.Vous êtes allés chez un distributeur\")\n",
    "df[c]=df[c].replace(\"/ 1.\\tAppelé un commercial / 2.\\tAppelé un numéro service client /\",\"1.Appelé un commercial/2.Appelé un numéro service client\")\n",
    "df[c]=df[c].replace(\"/ 2.\\tAppelé un numéro service client / 3.\\tVous êtes allés dans une boutique / agence /\",\"2.Appelé un numéro service client/3.Vous êtes allés dans une boutique / agenc\")\n",
    "df[c]=df[c].replace(\"/ 2.\\tAppelé un numéro service client /\",\"2.Appelé un numéro service client\")\n",
    "df[c]=df[c].replace(\"/ 1.\\tAppelé un commercial / 2.\\tAppelé un numéro service client / 5.\\tVous êtes allés sur le site internet de votre opérateur / 6.\\tVous avez contacté votre opérateur via Facebook, Twitter, etc /\",\"1.Appelé un commercial/2.Appelé un numéro service client/5.Vous êtes allés sur le site internet de votre opérateur/6.Vous avez contacté votre opérateur via Facebook, Twitter, etc\")\n",
    "df[c].unique()"
   ]
  },
  {
   "cell_type": "code",
   "execution_count": 77,
   "id": "available-external",
   "metadata": {},
   "outputs": [
    {
     "data": {
      "text/plain": [
       "array([nan,  7.,  1.,  6.,  5.,  3.,  8.,  9.])"
      ]
     },
     "execution_count": 77,
     "metadata": {},
     "output_type": "execute_result"
    }
   ],
   "source": [
    "#column '118  Q32.1 La compréhension de votre demande ou réclamation' changing values\n",
    "c=\"118  Q32.1 La compréhension de votre demande ou réclamation\"\n",
    "\n",
    "df[c].unique()\n",
    "df[c]=df[c].replace(\"1 (La mauvaise note)\",1)\n",
    "df[c]=df[c].replace(\"10 (La meilleure note)\",10)\n",
    "df[c]=df[c].replace(\"11 (Ne sait pas/ Non applicable)\",11)\n",
    "df[c].unique()"
   ]
  },
  {
   "cell_type": "code",
   "execution_count": 78,
   "id": "threaded-picking",
   "metadata": {},
   "outputs": [
    {
     "data": {
      "text/plain": [
       "array([nan,  7.,  1.,  6.,  3.,  5.,  8.,  9.])"
      ]
     },
     "execution_count": 78,
     "metadata": {},
     "output_type": "execute_result"
    }
   ],
   "source": [
    "#column '119  Q32.2 La rapidité de traitement de votre demande ou réclamation' changing values\n",
    "c=\"119  Q32.2 La rapidité de traitement de votre demande ou réclamation\"\n",
    "\n",
    "df[c].unique()\n",
    "df[c]=df[c].replace(\"1 (La mauvaise note)\",1)\n",
    "df[c]=df[c].replace(\"10 (La meilleure note)\",10)\n",
    "df[c]=df[c].replace(\"11 (Ne sait pas/ Non applicable)\",11)\n",
    "df[c].unique()"
   ]
  },
  {
   "cell_type": "code",
   "execution_count": 79,
   "id": "varied-producer",
   "metadata": {},
   "outputs": [
    {
     "data": {
      "text/plain": [
       "array([nan, '1.Oui', '2.Non, mon problème / ma demande était résolue',\n",
       "       '3.Ne sait pas'], dtype=object)"
      ]
     },
     "execution_count": 79,
     "metadata": {},
     "output_type": "execute_result"
    }
   ],
   "source": [
    "#column '120  Q33. Après cette démarche, avez-vous dû recontacter un commercial pour la même demande ou le même problème ?' changing values\n",
    "c=\"120  Q33. Après cette démarche, avez-vous dû recontacter un commercial pour la même demande ou le même problème ?\"\n",
    "\n",
    "df[c].unique()\n",
    "df[c]=df[c].replace(\"1.\tOui\",\"1.Oui\")\n",
    "df[c]=df[c].replace(\"2.\tNon, mon problème / ma demande était résolue\",\"2.Non, mon problème / ma demande était résolue\")\n",
    "df[c]=df[c].replace(\"3.\tNe sait pas\",\"3.Ne sait pas\")\n",
    "df[c].unique()"
   ]
  },
  {
   "cell_type": "code",
   "execution_count": 80,
   "id": "powerful-adolescent",
   "metadata": {},
   "outputs": [
    {
     "data": {
      "text/plain": [
       "array([nan, '1.Oui', '2.Non', '0'], dtype=object)"
      ]
     },
     "execution_count": 80,
     "metadata": {},
     "output_type": "execute_result"
    }
   ],
   "source": [
    "#column '121 Q34. Vous avez appelé le service client. Avez-vous réussi à parler à un conseiller ?' changing values\n",
    "c=\"121 Q34. Vous avez appelé le service client. Avez-vous réussi à parler à un conseiller ?\"\n",
    "\n",
    "df[c].unique()\n",
    "df[c]=df[c].replace(\"1.\tOui\",\"1.Oui\")\n",
    "df[c]=df[c].replace(\"2.\tNon\",\"2.Non\")\n",
    "df[c]=df[c].replace(7,\"0\")\n",
    "df[c].unique()"
   ]
  },
  {
   "cell_type": "code",
   "execution_count": 82,
   "id": "indirect-toolbox",
   "metadata": {},
   "outputs": [
    {
     "data": {
      "text/plain": [
       "array([nan,  4.,  1.,  6.,  7.,  5.])"
      ]
     },
     "execution_count": 82,
     "metadata": {},
     "output_type": "execute_result"
    }
   ],
   "source": [
    "#column '122 Q35.1 Le temps d’attente avant de parler à un conseiller' changing values\n",
    "c=\"122 Q35.1 Le temps d’attente avant de parler à un conseiller\"\n",
    "\n",
    "df[c].unique()\n",
    "df[c]=df[c].replace(\"1 (La plus mauvaise note)\",1)\n",
    "df[c]=df[c].replace(\"10 (La meilleure note)\",10)\n",
    "df[c]=df[c].replace(\"11 (Ne sait pas/ Non applicable)\",11)\n",
    "df[c].unique()"
   ]
  },
  {
   "cell_type": "code",
   "execution_count": 83,
   "id": "gorgeous-glenn",
   "metadata": {},
   "outputs": [
    {
     "data": {
      "text/plain": [
       "array([nan,  9.,  1.,  7.,  6.,  5.])"
      ]
     },
     "execution_count": 83,
     "metadata": {},
     "output_type": "execute_result"
    }
   ],
   "source": [
    "#column '123  Q35.2 L’accueil téléphonique, l’amabilité de votre interlocuteur ' changing values\n",
    "c=\"123  Q35.2 L’accueil téléphonique, l’amabilité de votre interlocuteur \"\n",
    "\n",
    "df[c].unique()\n",
    "df[c]=df[c].replace(\"1 (La plus mauvaise note)\",1)\n",
    "df[c]=df[c].replace(\"10 (La meilleure note)\",10)\n",
    "df[c]=df[c].replace(\"11 (Ne sait pas/ Non applicable)\",11)\n",
    "df[c].unique()"
   ]
  },
  {
   "cell_type": "code",
   "execution_count": 84,
   "id": "turned-assembly",
   "metadata": {},
   "outputs": [
    {
     "data": {
      "text/plain": [
       "array([nan,  9.,  1.,  7.,  6.,  5.])"
      ]
     },
     "execution_count": 84,
     "metadata": {},
     "output_type": "execute_result"
    }
   ],
   "source": [
    "#column '124  Q35.3 La compréhension de votre demande ou réclamation' changing values\n",
    "c=\"124  Q35.3 La compréhension de votre demande ou réclamation\"\n",
    "\n",
    "df[c].unique()\n",
    "df[c]=df[c].replace(\"1 (La plus mauvaise note)\",1)\n",
    "df[c]=df[c].replace(\"10 (La meilleure note)\",10)\n",
    "df[c]=df[c].replace(\"11 (Ne sait pas/ Non applicable)\",11)\n",
    "df[c].unique()"
   ]
  },
  {
   "cell_type": "code",
   "execution_count": 85,
   "id": "motivated-intranet",
   "metadata": {},
   "outputs": [
    {
     "data": {
      "text/plain": [
       "array([nan,  9.,  1.,  7.,  6.,  5.])"
      ]
     },
     "execution_count": 85,
     "metadata": {},
     "output_type": "execute_result"
    }
   ],
   "source": [
    "#column '125  Q35.4 La solution proposée' changing values\n",
    "c=\"125  Q35.4 La solution proposée\"\n",
    "\n",
    "df[c].unique()\n",
    "df[c]=df[c].replace(\"1 (La plus mauvaise note)\",1)\n",
    "df[c]=df[c].replace(\"10 (La meilleure note)\",10)\n",
    "df[c]=df[c].replace(\"11 (Ne sait pas/ Non applicable)\",11)\n",
    "df[c].unique()"
   ]
  },
  {
   "cell_type": "code",
   "execution_count": 86,
   "id": "billion-worthy",
   "metadata": {},
   "outputs": [
    {
     "data": {
      "text/plain": [
       "array([nan,  9.,  1.,  8.,  7.,  6.])"
      ]
     },
     "execution_count": 86,
     "metadata": {},
     "output_type": "execute_result"
    }
   ],
   "source": [
    "#column '126 Q35.5 La résolution de votre réclamation ou demande lors de cet appel' changing values\n",
    "c=\"126 Q35.5 La résolution de votre réclamation ou demande lors de cet appel\"\n",
    "\n",
    "df[c].unique()\n",
    "df[c]=df[c].replace(\"1 (La plus mauvaise note)\",1)\n",
    "df[c]=df[c].replace(\"10 (La meilleure note)\",10)\n",
    "df[c]=df[c].replace(\"11 (Ne sait pas/ Non applicable)\",11)\n",
    "df[c].unique()"
   ]
  },
  {
   "cell_type": "code",
   "execution_count": 87,
   "id": "promotional-legislation",
   "metadata": {},
   "outputs": [
    {
     "data": {
      "text/plain": [
       "array([nan, '3.Non', '1.Oui, une fois', '2.Oui, plusieurs fois'],\n",
       "      dtype=object)"
      ]
     },
     "execution_count": 87,
     "metadata": {},
     "output_type": "execute_result"
    }
   ],
   "source": [
    "#column '127 Q36. Avez-vous dû rappeler le service client pour le même problème, la même demande ?' changing values\n",
    "c=\"127 Q36. Avez-vous dû rappeler le service client pour le même problème, la même demande ?\"\n",
    "\n",
    "df[c].unique()\n",
    "df[c]=df[c].replace(\"3.\tNon\",\"3.Non\")\n",
    "df[c]=df[c].replace(\"1.\tOui, une fois\",\"1.Oui, une fois\")\n",
    "df[c]=df[c].replace(\"2.\tOui, plusieurs fois\",\"2.Oui, plusieurs fois\")\n",
    "df[c].unique()"
   ]
  },
  {
   "cell_type": "code",
   "execution_count": 88,
   "id": "established-wound",
   "metadata": {},
   "outputs": [
    {
     "data": {
      "text/plain": [
       "array([nan,  1.,  7.,  6.])"
      ]
     },
     "execution_count": 88,
     "metadata": {},
     "output_type": "execute_result"
    }
   ],
   "source": [
    "#column '128 Q37.1 La compréhension de votre demande ou de votre réclamation par le commercial' changing values\n",
    "c=\"128 Q37.1 La compréhension de votre demande ou de votre réclamation par le commercial\"\n",
    "\n",
    "df[c].unique()\n",
    "df[c]=df[c].replace(\"1 (La plus mauvaise note)\",1)\n",
    "df[c]=df[c].replace(\"10 (La meilleure note)\",10)\n",
    "df[c]=df[c].replace(\"11 (Ne sait pas/ Non applicable)\",11)\n",
    "df[c].unique()"
   ]
  },
  {
   "cell_type": "code",
   "execution_count": 89,
   "id": "interpreted-generator",
   "metadata": {},
   "outputs": [
    {
     "data": {
      "text/plain": [
       "array([nan,  1.,  6.,  7.,  8.])"
      ]
     },
     "execution_count": 89,
     "metadata": {},
     "output_type": "execute_result"
    }
   ],
   "source": [
    "#column '129 Q37.2 La rapidité de traitement de votre demande ou réclamation' changing values\n",
    "c=\"129 Q37.2 La rapidité de traitement de votre demande ou réclamation\"\n",
    "\n",
    "df[c].unique()\n",
    "df[c]=df[c].replace(\"1 (La plus mauvaise note)\",1)\n",
    "df[c]=df[c].replace(\"10 (La meilleure note)\",10)\n",
    "df[c]=df[c].replace(\"11 (Ne sait pas/ Non applicable)\",11)\n",
    "df[c].unique()"
   ]
  },
  {
   "cell_type": "code",
   "execution_count": 90,
   "id": "satellite-shakespeare",
   "metadata": {},
   "outputs": [
    {
     "data": {
      "text/plain": [
       "array([nan,  1.,  7.,  6.,  5.,  8.])"
      ]
     },
     "execution_count": 90,
     "metadata": {},
     "output_type": "execute_result"
    }
   ],
   "source": [
    "#column '130 Q37.3 La solution qui vous a été proposée' changing values\n",
    "c=\"130 Q37.3 La solution qui vous a été proposée\"\n",
    "\n",
    "df[c].unique()\n",
    "df[c]=df[c].replace(\"1 (La plus mauvaise note)\",1)\n",
    "df[c]=df[c].replace(\"10 (La meilleure note)\",10)\n",
    "df[c]=df[c].replace(\"11 (Ne sait pas/ Non applicable)\",11)\n",
    "df[c].unique()"
   ]
  },
  {
   "cell_type": "code",
   "execution_count": 95,
   "id": "colored-liberal",
   "metadata": {},
   "outputs": [
    {
     "data": {
      "text/plain": [
       "array([nan,\n",
       "       '1.Oui, je suis retourné en boutique / agence/2.Oui, j’ai appelé le call center',\n",
       "       '3.Non, mon problème était résolu', '4.Ne sait pas',\n",
       "       '1.Oui, je suis retourné en boutique / agence',\n",
       "       '2.Oui, j’ai appelé le call center'], dtype=object)"
      ]
     },
     "execution_count": 95,
     "metadata": {},
     "output_type": "execute_result"
    }
   ],
   "source": [
    "#column '131 Q38. Après votre visite, avez-vous dû retourner en boutique ou agence ou appeler le call center de votre opérateur pour le même problème, la même demande ?' changing values\n",
    "c=\"131 Q38. Après votre visite, avez-vous dû retourner en boutique ou agence ou appeler le call center de votre opérateur pour le même problème, la même demande ?\"\n",
    "\n",
    "df[c].unique()\n",
    "df[c]=df[c].replace(\"/ 1.\\tOui, je suis retourné en boutique / agence / 2.\\tOui, j’ai appelé le call center /\",\".Oui, je suis retourné en boutique / agence/2.Oui, j’ai appelé le call center\")\n",
    "df[c]=df[c].replace(\"/ 3.\\tNon, mon problème était résolu /', '/ 4.\\tNe sait pas /\",\"3.Non, mon problème était résolu', '4.Ne sait pas\")\n",
    "df[c]=df[c].replace(\"/ 2.\\tOui, j’ai appelé le call center /\",\"2.Oui, j’ai appelé le call center\")\n",
    "df[c]=df[c].replace(\"/ 3.\\tNon, mon problème était résolu /\",\"3.Non, mon problème était résolu\")\n",
    "df[c]=df[c].replace(\"/ 4.\\tNe sait pas /\",\"4.Ne sait pas\")\n",
    "df[c]=df[c].replace(\".Oui, je suis retourné en boutique / agence/2.Oui, j’ai appelé le call center\",\"1.Oui, je suis retourné en boutique / agence/2.Oui, j’ai appelé le call center\")\n",
    "df[c]=df[c].replace(\"/ 1.\\tOui, je suis retourné en boutique / agence /\",'1.Oui, je suis retourné en boutique / agence')\n",
    "df[c].unique()"
   ]
  },
  {
   "cell_type": "code",
   "execution_count": 97,
   "id": "particular-deployment",
   "metadata": {},
   "outputs": [
    {
     "data": {
      "text/plain": [
       "array([nan,  4.,  3.,  1.,  5.,  7.,  8.,  6., 11.,  9.])"
      ]
     },
     "execution_count": 97,
     "metadata": {},
     "output_type": "execute_result"
    }
   ],
   "source": [
    "#column '142Q41. Globalement le ou les systèmes de facturation proposés par votre operateur principale ?' changing values\n",
    "c=\"142Q41. Globalement le ou les systèmes de facturation proposés par votre operateur principale ?\"\n",
    "\n",
    "df[c].unique()\n",
    "df[c]=df[c].replace(\"1 (La plus mauvaise note)\",1)\n",
    "df[c]=df[c].replace(\"10 (La meilleure note)\",10)\n",
    "df[c]=df[c].replace(\"11 (Ne sait pas / Non applicable)\",11)\n",
    "df[c].unique()"
   ]
  },
  {
   "cell_type": "code",
   "execution_count": 98,
   "id": "dense-graphic",
   "metadata": {},
   "outputs": [
    {
     "data": {
      "text/plain": [
       "array([nan,  5.,  2.,  1.,  6.,  8.,  7.,  4., 11.,  3.,  9., 10.])"
      ]
     },
     "execution_count": 98,
     "metadata": {},
     "output_type": "execute_result"
    }
   ],
   "source": [
    "#column '143  Q42.1 Le délai de réception de la facture' changing values\n",
    "c=\"143  Q42.1 Le délai de réception de la facture\"\n",
    "\n",
    "df[c].unique()\n",
    "df[c]=df[c].replace(\"1 (La plus mauvaise note)\",1)\n",
    "df[c]=df[c].replace(\"10 (La meilleure note)\",10)\n",
    "df[c]=df[c].replace(\"11 (Ne sait pas / Non applicable)\",11)\n",
    "df[c].unique()"
   ]
  },
  {
   "cell_type": "code",
   "execution_count": 99,
   "id": "bigger-handling",
   "metadata": {},
   "outputs": [
    {
     "data": {
      "text/plain": [
       "array([nan,  6.,  2.,  1.,  5.,  7.,  8.,  3.,  9.,  4., 11., 10.])"
      ]
     },
     "execution_count": 99,
     "metadata": {},
     "output_type": "execute_result"
    }
   ],
   "source": [
    "#column '144  Q42.2 La facilité à comprendre la facture' changing values\n",
    "c=\"144  Q42.2 La facilité à comprendre la facture\"\n",
    "\n",
    "df[c].unique()\n",
    "df[c]=df[c].replace(\"1 (La plus mauvaise note)\",1)\n",
    "df[c]=df[c].replace(\"10 (La meilleure note)\",10)\n",
    "df[c]=df[c].replace(\"11 (Ne sait pas / Non applicable)\",11)\n",
    "df[c].unique()"
   ]
  },
  {
   "cell_type": "code",
   "execution_count": 100,
   "id": "fixed-religion",
   "metadata": {},
   "outputs": [
    {
     "data": {
      "text/plain": [
       "array([nan,  7.,  5.,  1.,  8.,  6.,  3.,  9.,  4.,  2., 11., 10.])"
      ]
     },
     "execution_count": 100,
     "metadata": {},
     "output_type": "execute_result"
    }
   ],
   "source": [
    "#column '145 Q42.3 La justesse de votre facture' changing values\n",
    "c=\"145 Q42.3 La justesse de votre facture\"\n",
    "\n",
    "df[c].unique()\n",
    "df[c]=df[c].replace(\"1 (La plus mauvaise note)\",1)\n",
    "df[c]=df[c].replace(\"10 (La meilleure note)\",10)\n",
    "df[c]=df[c].replace(\"11 (Ne sait pas / Non applicable)\",11)\n",
    "df[c].unique()"
   ]
  },
  {
   "cell_type": "code",
   "execution_count": 102,
   "id": "bridal-trigger",
   "metadata": {},
   "outputs": [
    {
     "data": {
      "text/plain": [
       "array(['2.Non', nan, '1.Oui', '4.Ne souhaite pas changer'], dtype=object)"
      ]
     },
     "execution_count": 102,
     "metadata": {},
     "output_type": "execute_result"
    }
   ],
   "source": [
    "#column '146 Q43. Utilisez-vous le service de distribution de crédit centralisé pour gérer le rechargement des utilisateurs salariés ?' changing values\n",
    "c=\"146 Q43. Utilisez-vous le service de distribution de crédit centralisé pour gérer le rechargement des utilisateurs salariés ?\"\n",
    "\n",
    "df[c].unique()\n",
    "df[c]=df[c].replace(\"2.\tNon\",\"2.Non\")\n",
    "df[c]=df[c].replace(\"2.\tNon\",\"2.Non\")\n",
    "df[c]=df[c].replace(\"2.\tNon\",\"2.Non\")\n",
    "df[c]=df[c].replace(\"1.\tOui\",\"1.Oui\")\n",
    "df[c]=df[c].replace(\"2.\",\"2.Non\")\n",
    "df[c]=df[c].replace(\"2.Ne souhaite pas changer\",\"2.Non\")\n",
    "df[c].unique()"
   ]
  },
  {
   "cell_type": "code",
   "execution_count": 103,
   "id": "according-vaccine",
   "metadata": {},
   "outputs": [
    {
     "data": {
      "text/plain": [
       "array([nan, 'Tunisie telecom', 'Orange', 'Ooredoo', 'Ne sait pas',\n",
       "       'Autre'], dtype=object)"
      ]
     },
     "execution_count": 103,
     "metadata": {},
     "output_type": "execute_result"
    }
   ],
   "source": [
    "#column '149 Q46. Pour quel autre opérateur principal changeriez-vous ?' changing values\n",
    "c=\"149 Q46. Pour quel autre opérateur principal changeriez-vous ?\"\n",
    "\n",
    "df[c].unique()\n",
    "df[c]=df[c].replace(\"3.Tunisie telecom\",\"Tunisie telecom\")\n",
    "\n",
    "df[c].unique()"
   ]
  },
  {
   "cell_type": "code",
   "execution_count": null,
   "id": "careful-serbia",
   "metadata": {},
   "outputs": [],
   "source": [
    "#column '114 - [141] Q28. Chez quel opérateur ?' changing values\n",
    "c=\"114 - [141] Q28. Chez quel opérateur ?\"\n",
    "\n",
    "df[c].unique()\n",
    "df[c]=df[c].replace(\"1.  Orange\",\"Orange\")\n",
    "df[c]=df[c].replace(\"2. Ooredoo\",\"Ooredoo\")\n",
    "df[c]=df[c].replace(\"3. Tunisie Télécom\",\"Tunisie Telecom\")\n",
    "df[c]=df[c].replace(\"9.Autre\",\"Autre\")\n",
    "df[c]=df[c].replace(\"3. Tunisie télécom\",\"Tunisie Telecom\")\n",
    "df[c]=df[c].replace(\"1. Orange\",\"Orange\")\n",
    "df[c]=df[c].replace(\"1.Orange \",\"Orange\")\n",
    "df[c]=df[c].replace(\"1 (La plus mauvaise note)\",\"Orange\")\n",
    "df[c]=df[c].replace(\"3.Tunisie télécom1\",\"Tunisie Telecom\")\n",
    "df[c].unique()"
   ]
  },
  {
   "cell_type": "code",
   "execution_count": null,
   "id": "cheap-cache",
   "metadata": {},
   "outputs": [],
   "source": [
    "df=df.drop([\"116 - [143] Q29. Dans les 6 derniers mois, avez-vous eu besoin d’aide auprès de [V15] concernant les offres souscrites ?\",\n",
    "            \"117 - [144] Q31. Et pour cette démarche vous avez : \",\n",
    "            \"118 - [145] Q32.1 La compréhension de votre demande ou réclamation\",\n",
    "           \"119 - [146] Q32.2 La rapidité de traitement de votre demande ou réclamation\",\n",
    "             \"120 - [147] Q33. Après cette démarche, avez-vous dû recontacter un commercial pour la même demande / le même problème ?\",\n",
    "             \"121 - [148] Q34. Vous avez appelé le service client. Avez-vous réussi à parler à un conseiller ?\",\n",
    "             \"122 - [150] Q35.1 …Le temps d’attente avant de parler à un conseiller\",\n",
    "            \"123 - [151] Q35.2 …L’accueil téléphonique, l’amabilité de votre interlocuteur …\",\n",
    "            \"124 - [152] Q35.3…La compréhension de votre demande / réclamation\",\n",
    "           \"125 - [153] Q35.4 La solution proposée\",\n",
    "             \"126 - [154] Q35.5 La résolution de votre réclamation / demande lors de cet appel\",\n",
    "             \"127 - [155] Q36. Avez-vous dû rappeler le service client pour le même problème, la même demande ?\",\n",
    "             \"128 - [157] Q37.1 La compréhension de votre demande ou de votre réclamation par le commercial\",\n",
    "            \"131 - [156] Q38. Après votre visite, avez-vous dû retourner en boutique / agence ou appeler le call center de votre opérateur pour le même problème, la même demande ?\",\n",
    "            \"132 - [160] Q39.1 La compréhension de votre demande\",\n",
    "           \"133 - [161] Q39.2 La  réponse qui vous a été apportée\",\n",
    "             \"134 - [162] Q39.3 La rapidité du traitement de votre demande\",\n",
    "             \"135 - [163] Q39.4 La résolution de votre problème/demande grâce à ce message sur les réseaux sociaux ou cette visite sur le site Internet de l’opérateur\",\n",
    "             \"143 - [176] Q42.1 Le délai de réception de la facture\",\n",
    "                      \"144 - [177] Q42.2 La facilité à comprendre la facture\",\n",
    "                      \"145 - [178] Q42.3 La justesse de votre facture\",\n",
    "            \"146 - [175] Q43. Utilisez-vous le service de distribution de crédit centralisé pour gérer le rechargement des utilisateurs salariés ?\",\n",
    "            \"141 - [172] Q40.6 Votre première facture vous a-t-elle été expliquée (par votre commercial ou en point de vente) ?\"],axis=1)"
   ]
  },
  {
   "cell_type": "code",
   "execution_count": null,
   "id": "wooden-medication",
   "metadata": {},
   "outputs": [],
   "source": [
    "#column '148 - [180] Q45. Pour finir, dans quelle mesure est-il probable qu’au cours des 6 prochains mois, [V15] reste le principal opérateur de votre entreprise. Utilisez une échelle de 1 à 10 où 1 signifie très peu probable et 10 extrêmement probable ?' changing values\n",
    "c=\"148 - [180] Q45. Pour finir, dans quelle mesure est-il probable qu’au cours des 6 prochains mois, [V15] reste le principal opérateur de votre entreprise. Utilisez une échelle de 1 à 10 où 1 signifie très peu probable et 10 extrêmement probable ?\"\n",
    "\n",
    "df[c].unique()\n",
    "df[c]=df[c].replace(\"1 (Très peu probable)\",1)\n",
    "df[c]=df[c].replace(\"10 (Extrêmement probable)\",10)\n",
    "df[c]=df[c].replace(\"11 (Ne sait pas/ Non applicable)\",11)\n",
    "df[c].unique()"
   ]
  },
  {
   "cell_type": "code",
   "execution_count": null,
   "id": "negative-cyprus",
   "metadata": {},
   "outputs": [],
   "source": [
    "#column '149 - [181] Q46. Pour quel autre opérateur principal changeriez-vous ?' changing values\n",
    "c=\"149 - [181] Q46. Pour quel autre opérateur principal changeriez-vous ?\"\n",
    "\n",
    "df[c].unique()\n",
    "df[c]=df[c].replace(\"1.Orange\",\"Orange\")\n",
    "df[c]=df[c].replace(\"2.\tOoredoo\",\"Ooredoo\")\n",
    "df[c]=df[c].replace(\"6.\tNe sait pas\",\"Ne sait pas\")\n",
    "df[c]=df[c].replace(\"3.\tTunisie télécom\",\"Tunisie telecom\")\n",
    "df[c]=df[c].replace(\"3.\",\"Tunisie telecom\")\n",
    "df[c]=df[c].replace(\"2.\",\"Ooredoo\")\n",
    "df[c]=df[c].replace(\"6.\",\"Ne sait pas\")\n",
    "df[c]=df[c].replace(\"1.\",\"Orange\")\n",
    "df[c]=df[c].replace(2,\"Ooredoo\")\n",
    "df[c]=df[c].replace(\"6.Ne sait pas\",\"Ne sait pas\")\n",
    "df[c]=df[c].replace(\"1.\tOrange\",\"Orange\")\n",
    "df[c]=df[c].replace(\"2.Ooredoo\",\"Ooredoo\")\n",
    "df[c]=df[c].replace(\"3.Tunisie télécom\",\"3.Tunisie telecom\")\n",
    "df[c]=df[c].replace(\"5.Autre, préciser\",\"Autre\")\n",
    "df[c].unique()"
   ]
  },
  {
   "cell_type": "code",
   "execution_count": null,
   "id": "smart-rochester",
   "metadata": {},
   "outputs": [],
   "source": [
    "#column '151 - [227] Q46. Pour quel autre opérateur principal changeriez-vous ?' changing values\n",
    "c=\"151 - [227] Q46. Pour quel autre opérateur principal changeriez-vous ?\"\n",
    "\n",
    "df[c].unique()\n",
    "df[c]=df[c].replace(\"4.\tNe souhaite pas changer\",\"Ne souhaite pas changer\")\n",
    "df[c]=df[c].replace(\"4.Ne souhaite pas changer\",\"Ne souhaite pas changer\")\n",
    "df[c]=df[c].replace(\"2.\",\"Ne souhaite pas changer\")\n",
    "df[c].unique()"
   ]
  },
  {
   "cell_type": "code",
   "execution_count": null,
   "id": "personal-pottery",
   "metadata": {},
   "outputs": [],
   "source": [
    "df=df.drop([\"152 - [183] Q47. Suite à ce questionnaire, pour être sûr de \"\n",
    "+\"répondre à vos attentes, acceptez-vous de transmettre votre nom et vos coordonnées avec vos réponses à votre opérateur principal ?\"],axis=1)"
   ]
  },
  {
   "cell_type": "code",
   "execution_count": null,
   "id": "limiting-longer",
   "metadata": {},
   "outputs": [],
   "source": [
    "df.rename(columns={\"17 - [23] S7. Pour tous les opérateurs présents dans votre entreprise, pouvez-vous indiquer quel énoncé, parmi les suivants, décrit le mieux la situation de votre entreprise ? \":\"17  Pour Orange, quel énoncé décrit le mieux la situation de votre entreprise ? \"})\n",
    "df.rename(columns={\"18 - [22] S7. Pour tous les opérateurs présents dans votre entreprise, pouvez-vous indiquer quel énoncé, parmi les suivants, décrit le mieux la situation de votre entreprise ? \":\"18  Pour Ooredoo, quel énoncé décrit le mieux la situation de votre entreprise ? \"})\n",
    "df.rename(columns={\"19 - [24] S7. Pour tous les opérateurs présents dans votre entreprise, pouvez-vous indiquer quel énoncé, parmi les suivants, décrit le mieux la situation de votre entreprise ? \":\"19  Pour Tunisie Telecom, quel énoncé décrit le mieux la situation de votre entreprise ? \"})\n",
    "\n",
    "df.rename(columns={\"22 - [27] Q01B. Toujours sur une échelle de 1 à 10, dans quelle mesure recommanderiez-vous vos autres opérateurs à un de vos proches, vos amis et votre famille ?\":\"22 recommanderiez-vous Orange à un de vos proches, vos amis et votre famille ?\"})\n",
    "df.rename(columns={\"23 - [29] Q01B. Toujours sur une échelle de 1 à 10, dans quelle mesure recommanderiez-vous vos autres opérateurs à un de vos proches, vos amis et votre famille ?\":\"23 recommanderiez-vous Ooredoo à un de vos proches, vos amis et votre famille ?\"})\n",
    "df.rename(columns={\"24 - [30] Q01B. Toujours sur une échelle de 1 à 10, dans quelle mesure recommanderiez-vous vos autres opérateurs à un de vos proches, vos amis et votre famille ?\":\"24 recommanderiez-vous Tunisie Telecom à un de vos proches, vos amis et votre famille ?\"})\n",
    "\n",
    "df.rename(columns={\"25 - [32] A TOUS \":\"25 Orange a fait quelque chose qui allait au-delà de vos attentes\"})\n",
    "df.rename(columns={\"26 - [200] A TOUS \":\"26 Orange a fait quelque chose qui n’a pas répondu à vos attentes\"})\n",
    "df.rename(columns={\"c\":\"27 LA QUALITE DE SERVICE GLOBALE \"})\n",
    "df.rename(columns={\"28 - [35] Q02. Comment évaluez-vous le COUT GLOBAL des offres et services de [V15] ?  Ce coût inclut le coût de votre/vos contrat/s, les coûts des forfaits, l’achat initial ou les coûts de renouvellement des appareils ainsi que les coûts des communications. Veuillez utiliser une échelle de 1 à 10 où 1 signifie médiocre et 10 excellent.\":\"28 Comment évaluez-vous le COUT GLOBAL des offres et services de votre operateur principale \"})\n",
    "df.rename(columns={\"29 - [36] Q03.Pour résumer, sur une échelle de 1 à 10, évaluez le rapport qualité-prix, c’est-à-dire dans quelle mesure vous pensez que le prix que votre entreprise paye à votre opérateur [V15] est justifié par rapport aux services que vous recevez \":\"29 le rapport qualité-prix  \"})\n",
    "df.rename(columns={\"64 - [74] Q13. Globalement, sur une échelle de 1 à 10, comment évaluez-vous la mise en service de vos offres et services achetés chez votre opérateur (activation de la flotte mobile, prise en main des téléphones…) ?\":\"64  Globalement comment évaluez-vous la mise en service de vos offres et services achetés chez votre opérateur?\"})\n",
    "\n",
    "\n",
    "df.rename(columns={\"80 - [101] Transfert de crédit\":\"80 facilite d'utilisation et fonctionnement de Transfert de crédit\"})\n",
    "df.rename(columns={\"81 - [102] Transfert Internet\":\"81 facilite d'utilisation et fonctionnement de Transfert Internet\"})\n",
    "df.rename(columns={\"82 - [103] SOS crédit / Minute SOS/ SOS Solde\":\"82 facilite d'utilisation et fonctionnement  de SOS crédit / Minute SOS/ SOS Solde\"})\n",
    "df.rename(columns={\"83 - [104] Orange fidélité/ Points Merci/ Kelma\":\"83 facilite d'utilisation et fonctionnement  Orange fidélité/ Points Merci/ Kelma\"})\n",
    "df.rename(columns={\"84 - [105] Messagerie vocale\":\"84 facilite d'utilisation et fonctionnement Messagerie vocale\"})\n",
    "df.rename(columns={\"85 - [106] Appelez jusqu'à six/ Conf Call pro/ Appel en conférence\":\"85 facilite d'utilisation et fonctionnement Appelez jusqu'à six/ Conf Call pro/ Appel en conférence\"})\n",
    "\n",
    "\n",
    "df.rename(columns={\"89 - [193] Orange money\":\"89 Raison pour utilise Orange money\"})\n",
    "df.rename(columns={\"90 - [194] Mobicash (ooredoo)\":\"80 Raison pour utilise Mobicash Ooredoo\"})\n",
    "df.rename(columns={\"91 - [195] Mdinar (TT)\":\"91 Raison pour utilise Mdinar TT\"})\n",
    "df.rename(columns={\"92 - [117] Orange Money\":\"92 facilite d'utilisation et fonctionnement Orange Money\"})\n",
    "df.rename(columns={\"93 - [118] Mobicash (ooredoo)\":\"93 facilite d'utilisation et fonctionnement Mobicash (ooredoo)\"})\n",
    "df.rename(columns={\"94 - [119] Mdinar (TT)\":\"94 facilite d'utilisation et fonctionnement Mdinar (TT)\"})\n",
    "\n",
    "\n",
    "df.rename(columns={\"101 - [126] Q18. Au cours de 12 derniers mois, avez-vous dans votre entreprise utilisé le service roaming [V15], c'est-à-dire passé ou reçu des appels ou sms ou naviguer sur Internet depuis un mobile alors qu’il se trouvait à l’étranger, et ce sans changer de carte SIM ?\":\"101 avez-vous dans votre entreprise utilisé le service roaming\"})\n",
    "df.rename(columns={\"114 - [141] Q28. Chez quel opérateur ?\":\"114 votre entreprise envisage-t-elle de souscrire une offre Internet mobile pour un ou plusieurs salariés dans quel operateur\"})\n",
    "df.rename(columns={\"129 - [158] Q37.2 La rapidité de traitement de votre demande / réclamation\":\"Globalement note commercial\"})\n"
   ]
  },
  {
   "cell_type": "code",
   "execution_count": 108,
   "id": "decimal-antibody",
   "metadata": {},
   "outputs": [],
   "source": [
    "df=df.fillna(-1)"
   ]
  },
  {
   "cell_type": "code",
   "execution_count": null,
   "id": "operating-registration",
   "metadata": {},
   "outputs": [],
   "source": [
    "df.to_excel(\"InternalData.xlsx\")"
   ]
  },
  {
   "cell_type": "code",
   "execution_count": null,
   "id": "related-longer",
   "metadata": {},
   "outputs": [],
   "source": []
  },
  {
   "cell_type": "code",
   "execution_count": null,
   "id": "regulation-narrow",
   "metadata": {},
   "outputs": [],
   "source": []
  }
 ],
 "metadata": {
  "kernelspec": {
   "display_name": "Python 3",
   "language": "python",
   "name": "python3"
  },
  "language_info": {
   "codemirror_mode": {
    "name": "ipython",
    "version": 3
   },
   "file_extension": ".py",
   "mimetype": "text/x-python",
   "name": "python",
   "nbconvert_exporter": "python",
   "pygments_lexer": "ipython3",
   "version": "3.7.10"
  }
 },
 "nbformat": 4,
 "nbformat_minor": 5
}
