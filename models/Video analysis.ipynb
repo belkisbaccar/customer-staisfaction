{
 "cells": [
  {
   "cell_type": "code",
   "execution_count": 1,
   "metadata": {},
   "outputs": [
    {
     "name": "stdout",
     "output_type": "stream",
     "text": [
      "WARNING:tensorflow:From C:\\ProgramData\\Anaconda3\\lib\\site-packages\\tensorflow\\python\\compat\\v2_compat.py:96: disable_resource_variables (from tensorflow.python.ops.variable_scope) is deprecated and will be removed in a future version.\n",
      "Instructions for updating:\n",
      "non-resource variables are not supported in the long term\n"
     ]
    }
   ],
   "source": [
    "from fer import Video, FER\n",
    "import pandas as pd\n",
    "import os\n",
    "import speech_recognition as sr\n",
    "from pydub import AudioSegment\n",
    "from pydub.silence import split_on_silence\n",
    "import shutil\n",
    "import matplotlib\n",
    "import matplotlib.pyplot as plt\n",
    "import numpy as np\n",
    "#requires creating  folders : videos, results[audio,data,text]"
   ]
  },
  {
   "cell_type": "code",
   "execution_count": 2,
   "metadata": {},
   "outputs": [],
   "source": [
    "data_emotion=pd.DataFrame(columns=['name','video','text','audio'])\n",
    "names=[]\n",
    "videos=[]\n",
    "texts=[]\n",
    "audios=[]"
   ]
  },
  {
   "cell_type": "markdown",
   "metadata": {},
   "source": [
    "# Analyzing sound"
   ]
  },
  {
   "cell_type": "code",
   "execution_count": 3,
   "metadata": {},
   "outputs": [],
   "source": [
    "def get_large_audio_transcription(path,language='en'):\n",
    "    \"\"\"\n",
    "    Splitting the large audio file into chunks\n",
    "    and apply speech recognition on each of these chunks\n",
    "    \"\"\"\n",
    "    r = sr.Recognizer()\n",
    "    # open the audio file using pydub\n",
    "    sound = AudioSegment.from_wav(path)  \n",
    "    # split audio sound where silence is 700 miliseconds or more and get chunks\n",
    "    chunks = split_on_silence(sound,\n",
    "        # experiment with this value for your target audio file\n",
    "        min_silence_len = 500,\n",
    "        # adjust this per requirement\n",
    "        silence_thresh = sound.dBFS-14,\n",
    "        # keep the silence for 1 second, adjustable as well\n",
    "        keep_silence=500,\n",
    "    )\n",
    "    folder_name = \"audio-chunks\"\n",
    "    # create a directory to store the audio chunks\n",
    "    if not os.path.isdir(folder_name):\n",
    "        os.mkdir(folder_name)\n",
    "    whole_text = \"\"\n",
    "    # process each chunk \n",
    "    for i, audio_chunk in enumerate(chunks, start=1):\n",
    "        # export audio chunk and save it in\n",
    "        # the `folder_name` directory.\n",
    "        chunk_filename = os.path.join(folder_name, f\"chunk{i}.wav\")\n",
    "        audio_chunk.export(chunk_filename, format=\"wav\")\n",
    "        # recognize the chunk\n",
    "        with sr.AudioFile(chunk_filename) as source:\n",
    "            audio_listened = r.record(source)\n",
    "            # try converting it to text\n",
    "            try:\n",
    "                text = r.recognize_google(audio_listened,language=language)\n",
    "            except sr.UnknownValueError as e:\n",
    "                #print(\"Error:\", str(e))\n",
    "                continue\n",
    "            else:\n",
    "                text = f\"{text.capitalize()}. \"\n",
    "                print(chunk_filename, \":\", text)\n",
    "                whole_text += text\n",
    "    # return the text for all chunks detected\n",
    "    shutil.rmtree('audio-chunks', ignore_errors=True)\n",
    "    return whole_text"
   ]
  },
  {
   "cell_type": "markdown",
   "metadata": {},
   "source": [
    "# Converting videos to sound and text, analyzing emotions from pictures to a csv file using FER (Face emotion recognition by Keras)"
   ]
  },
  {
   "cell_type": "code",
   "execution_count": 4,
   "metadata": {},
   "outputs": [
    {
     "name": "stdout",
     "output_type": "stream",
     "text": [
      "['bad-belkis-en.mp4', 'bad-fadhel-en.mp4', 'badd-fr.mp4', 'good-belkis-en.mp4', 'gooddd-fr.mp4']\n",
      "bad-belkis-en\n"
     ]
    },
    {
     "name": "stderr",
     "output_type": "stream",
     "text": [
      "C:\\ProgramData\\Anaconda3\\lib\\site-packages\\tensorflow\\python\\keras\\engine\\training.py:2325: UserWarning: `Model.state_updates` will be removed in a future version. This property should not be used in TensorFlow 2.0, as `updates` are applied automatically.\n",
      "  warnings.warn('`Model.state_updates` will be removed in a future version. '\n",
      "27-04-2021:00:40:59,636 INFO     [classes.py:210] 30.00 fps, 192 frames, 6.40 seconds\n",
      "27-04-2021:00:40:59,637 INFO     [classes.py:218] Making directories at output\n"
     ]
    },
    {
     "name": "stdout",
     "output_type": "stream",
     "text": [
      "audio-chunks\\chunk1.wav : My operator is only do. \n",
      "audio-chunks\\chunk2.wav : I do not like it. \n",
      "bad-fadhel-en\n"
     ]
    },
    {
     "name": "stderr",
     "output_type": "stream",
     "text": [
      "27-04-2021:00:41:16,28 INFO     [classes.py:210] 30.00 fps, 231 frames, 7.70 seconds\n",
      "27-04-2021:00:41:16,29 INFO     [classes.py:218] Making directories at output\n"
     ]
    },
    {
     "name": "stdout",
     "output_type": "stream",
     "text": [
      "audio-chunks\\chunk2.wav : Talk. \n",
      "badd-fr\n"
     ]
    },
    {
     "name": "stderr",
     "output_type": "stream",
     "text": [
      "27-04-2021:00:41:28,690 INFO     [classes.py:210] 29.55 fps, 291 frames, 9.85 seconds\n",
      "27-04-2021:00:41:28,691 INFO     [classes.py:218] Making directories at output\n"
     ]
    },
    {
     "name": "stdout",
     "output_type": "stream",
     "text": [
      "audio-chunks\\chunk1.wav : Je déteste mon opérateur. \n",
      "audio-chunks\\chunk2.wav : Il me fait chier vraiment cette fois c'est très très mal. \n",
      "good-belkis-en\n"
     ]
    },
    {
     "name": "stderr",
     "output_type": "stream",
     "text": [
      "27-04-2021:00:41:58,262 INFO     [classes.py:210] 30.00 fps, 171 frames, 5.70 seconds\n",
      "27-04-2021:00:41:58,263 INFO     [classes.py:218] Making directories at output\n"
     ]
    },
    {
     "name": "stdout",
     "output_type": "stream",
     "text": [
      "audio-chunks\\chunk1.wav : My operator is greedo. \n",
      "audio-chunks\\chunk2.wav : I like it. \n",
      "gooddd-fr\n"
     ]
    },
    {
     "name": "stderr",
     "output_type": "stream",
     "text": [
      "27-04-2021:00:42:11,737 INFO     [classes.py:210] 29.98 fps, 274 frames, 9.14 seconds\n",
      "27-04-2021:00:42:11,738 INFO     [classes.py:218] Making directories at output\n"
     ]
    },
    {
     "name": "stdout",
     "output_type": "stream",
     "text": [
      "audio-chunks\\chunk1.wav : Mon opérateur offre de très bons services. \n",
      "audio-chunks\\chunk2.wav : Je l'aime trop. \n",
      "audio-chunks\\chunk3.wav : C'est très très bien. \n"
     ]
    }
   ],
   "source": [
    "\n",
    "arr = os.listdir('videos')\n",
    "print(arr)\n",
    "\n",
    "for f in arr:\n",
    "    name=f[:f.rindex('.')]\n",
    "    print(name)\n",
    "    \n",
    "    names.append(name)\n",
    "    command2wav = \"ffmpeg -i videos\\\\\" +name+\".mp4 -ac 1  results\\\\audio\\\\\"+name+\".wav\"\n",
    "    os.system(command2wav)\n",
    "    video_filename = \"videos\\\\\"+name+\".mp4\"\n",
    "\n",
    "    video = Video(video_filename)\n",
    "    # Analyze video, displaying the output\n",
    "    detector = FER(mtcnn=True)\n",
    "    raw_data = video.analyze(detector, display=False,\n",
    "                              save_video=False,zip_images=False\n",
    "                              ,frequency=5,annotate_frames=False)\n",
    "    df = video.to_pandas(raw_data)\n",
    "\n",
    "    df.to_csv(\"results\\\\data\\\\\"+name+'.csv')\n",
    "    shutil.rmtree('output', ignore_errors=True)\n",
    "    \n",
    "    if (name[-2:]=='fr'):\n",
    "        result =get_large_audio_transcription(\"results\\\\audio\\\\\"+name+'.wav','fr')\n",
    "    else:\n",
    "        result =get_large_audio_transcription(\"results\\\\audio\\\\\"+name+'.wav','en-US')\n",
    "    f= open(\"results\\\\text\\\\\"+name+\".txt\",\"w+\")\n",
    "    #print(result)\n",
    "    f.write(result)\n",
    "    \n",
    "    f.close()\n",
    "\n"
   ]
  },
  {
   "cell_type": "code",
   "execution_count": null,
   "metadata": {},
   "outputs": [],
   "source": []
  },
  {
   "cell_type": "markdown",
   "metadata": {},
   "source": [
    "# Emotion from video images"
   ]
  },
  {
   "cell_type": "code",
   "execution_count": 5,
   "metadata": {},
   "outputs": [
    {
     "name": "stdout",
     "output_type": "stream",
     "text": [
      "Top emotion :  bad\n"
     ]
    },
    {
     "data": {
      "image/png": "[encoded data removed]",
      "text/plain": [
       "<Figure size 432x288 with 1 Axes>"
      ]
     },
     "metadata": {
      "needs_background": "light"
     },
     "output_type": "display_data"
    },
    {
     "name": "stdout",
     "output_type": "stream",
     "text": [
      "Top emotion :  bad\n"
     ]
    },
    {
     "data": {
      "image/png": "[encoded data removed]",
      "text/plain": [
       "<Figure size 432x288 with 1 Axes>"
      ]
     },
     "metadata": {
      "needs_background": "light"
     },
     "output_type": "display_data"
    },
    {
     "name": "stdout",
     "output_type": "stream",
     "text": [
      "Top emotion :  bad\n"
     ]
    },
    {
     "data": {
      "image/png": "[encoded data removed]",
      "text/plain": [
       "<Figure size 432x288 with 1 Axes>"
      ]
     },
     "metadata": {
      "needs_background": "light"
     },
     "output_type": "display_data"
    },
    {
     "name": "stdout",
     "output_type": "stream",
     "text": [
      "Top emotion :  good\n"
     ]
    },
    {
     "data": {
      "image/png": "[encoded data removed]",
      "text/plain": [
       "<Figure size 432x288 with 1 Axes>"
      ]
     },
     "metadata": {
      "needs_background": "light"
     },
     "output_type": "display_data"
    },
    {
     "name": "stdout",
     "output_type": "stream",
     "text": [
      "Top emotion :  good\n"
     ]
    },
    {
     "data": {
      "image/png": "[encoded data removed]",
      "text/plain": [
       "<Figure size 432x288 with 1 Axes>"
      ]
     },
     "metadata": {
      "needs_background": "light"
     },
     "output_type": "display_data"
    },
    {
     "data": {
      "text/html": [
       "<div>\n",
       "<style scoped>\n",
       "    .dataframe tbody tr th:only-of-type {\n",
       "        vertical-align: middle;\n",
       "    }\n",
       "\n",
       "    .dataframe tbody tr th {\n",
       "        vertical-align: top;\n",
       "    }\n",
       "\n",
       "    .dataframe thead th {\n",
       "        text-align: right;\n",
       "    }\n",
       "</style>\n",
       "<table border=\"1\" class=\"dataframe\">\n",
       "  <thead>\n",
       "    <tr style=\"text-align: right;\">\n",
       "      <th></th>\n",
       "      <th>name</th>\n",
       "      <th>video</th>\n",
       "      <th>text</th>\n",
       "      <th>audio</th>\n",
       "    </tr>\n",
       "  </thead>\n",
       "  <tbody>\n",
       "  </tbody>\n",
       "</table>\n",
       "</div>"
      ],
      "text/plain": [
       "Empty DataFrame\n",
       "Columns: [name, video, text, audio]\n",
       "Index: []"
      ]
     },
     "execution_count": 5,
     "metadata": {},
     "output_type": "execute_result"
    }
   ],
   "source": [
    "arr = os.listdir('results/data')\n",
    "labels = [\"angry\",  \"disgust\" , \"fear\" , \"happy\"  , \"sad\" , \"surprise\" , \"neutral\"]\n",
    "for d in arr:\n",
    "    df=pd.read_csv('results/data/'+d)\n",
    "    df=df.iloc[:,2:]#2 excess cols\n",
    "    \n",
    "    \n",
    "    \n",
    "    men_means = [sum(df.iloc[:,0]),sum(df.iloc[:,1]), sum(df.iloc[:,2]), sum(df.iloc[:,3]),\n",
    "                 sum(df.iloc[:,4]), sum(df.iloc[:,5]),sum(df.iloc[:,6])]\n",
    "    \n",
    "    s_bad=sum(df.iloc[:,0])+sum(df.iloc[:,1])+ sum(df.iloc[:,2])+sum(df.iloc[:,4])\n",
    "    s_good=sum(df.iloc[:,3])+sum(df.iloc[:,5])\n",
    "    \n",
    "    emotion_video= 'good' if s_good > s_bad   else 'bad'\n",
    "    x = np.arange(len(labels))  # the label locations\n",
    "    width = 0.35  # the width of the bars\n",
    "\n",
    "    fig, ax = plt.subplots()\n",
    "    rects1 = ax.bar(x - width/2, men_means, width, label='emotion sum')\n",
    "    \n",
    "\n",
    "    # Add some text for labels, title and custom x-axis tick labels, etc.\n",
    "    ax.set_ylabel('Values')\n",
    "    ax.set_title('Emotion from video data : '+d)\n",
    "    ax.set_xticks(x)\n",
    "    ax.set_xticklabels(labels)\n",
    "    ax.legend()\n",
    "\n",
    "    \n",
    "\n",
    "    fig.tight_layout()\n",
    "    print('Top emotion : ',emotion_video)\n",
    "    videos.append(emotion_video)\n",
    "    plt.show()\n",
    "\n",
    "data_emotion.head()"
   ]
  },
  {
   "cell_type": "code",
   "execution_count": 6,
   "metadata": {},
   "outputs": [],
   "source": [
    "from textblob import TextBlob\n",
    "from textblob_fr import PatternTagger, PatternAnalyzer\n",
    "from langdetect import detect,lang_detect_exception\n"
   ]
  },
  {
   "cell_type": "code",
   "execution_count": 7,
   "metadata": {},
   "outputs": [
    {
     "name": "stdout",
     "output_type": "stream",
     "text": [
      "file :  bad-belkis-en.txt\n",
      "Positive_feebacks Count : 2\n",
      "['My operator is only do', ' I do not like it']\n",
      "Negative_feedback Count : 0\n",
      "[]\n",
      "Emotion from text : good\n"
     ]
    },
    {
     "data": {
      "image/png": "[encoded data removed]",
      "text/plain": [
       "<Figure size 432x288 with 1 Axes>"
      ]
     },
     "metadata": {
      "needs_background": "light"
     },
     "output_type": "display_data"
    },
    {
     "name": "stdout",
     "output_type": "stream",
     "text": [
      "file :  bad-fadhel-en.txt\n",
      "Positive_feebacks Count : 1\n",
      "['Talk']\n",
      "Negative_feedback Count : 0\n",
      "[]\n",
      "Emotion from text : good\n"
     ]
    },
    {
     "data": {
      "image/png": "[encoded data removed]",
      "text/plain": [
       "<Figure size 432x288 with 1 Axes>"
      ]
     },
     "metadata": {
      "needs_background": "light"
     },
     "output_type": "display_data"
    },
    {
     "name": "stdout",
     "output_type": "stream",
     "text": [
      "file :  badd-fr.txt\n",
      "Positive_feebacks Count : 1\n",
      "['Je déteste mon opérateur']\n",
      "Negative_feedback Count : 1\n",
      "[\" Il me fait chier vraiment cette fois c'est très très mal\"]\n",
      "Emotion from text : good\n"
     ]
    },
    {
     "data": {
      "image/png": "[encoded data removed]",
      "text/plain": [
       "<Figure size 432x288 with 1 Axes>"
      ]
     },
     "metadata": {
      "needs_background": "light"
     },
     "output_type": "display_data"
    },
    {
     "name": "stdout",
     "output_type": "stream",
     "text": [
      "file :  good-belkis-en.txt\n",
      "Positive_feebacks Count : 2\n",
      "['My operator is greedo', ' I like it']\n",
      "Negative_feedback Count : 0\n",
      "[]\n",
      "Emotion from text : good\n"
     ]
    },
    {
     "data": {
      "image/png": "[encoded data removed]",
      "text/plain": [
       "<Figure size 432x288 with 1 Axes>"
      ]
     },
     "metadata": {
      "needs_background": "light"
     },
     "output_type": "display_data"
    },
    {
     "name": "stdout",
     "output_type": "stream",
     "text": [
      "file :  gooddd-fr.txt\n",
      "Positive_feebacks Count : 3\n",
      "['Mon opérateur offre de très bons services', \" Je l'aime trop\", \" C'est très très bien\"]\n",
      "Negative_feedback Count : 0\n",
      "[]\n",
      "Emotion from text : good\n"
     ]
    },
    {
     "data": {
      "image/png": "[encoded data removed]",
      "text/plain": [
       "<Figure size 432x288 with 1 Axes>"
      ]
     },
     "metadata": {
      "needs_background": "light"
     },
     "output_type": "display_data"
    }
   ],
   "source": [
    "arr = os.listdir('results/text')\n",
    "labels=['Positive','Negative']\n",
    "for txt in arr:\n",
    "    print('file : ',txt)\n",
    "    s=[]\n",
    "    positive_feedbacks=[]\n",
    "    negative_feedbacks=[]\n",
    "    f = open('results/text//'+txt, \"r\")\n",
    "    s=f.read()\n",
    "    s=s.split('.')\n",
    "    #print(s)\n",
    "    \n",
    "\n",
    "\n",
    "\n",
    "\n",
    "\n",
    "\n",
    "    for feedback in s:\n",
    "\n",
    "        try:\n",
    "            if(detect(feedback)=='en'):\n",
    "\n",
    "                feedback_polarity = TextBlob(feedback).sentiment.polarity\n",
    "            else:\n",
    "                feedback_polarity=TextBlob(feedback, pos_tagger=PatternTagger(), analyzer=PatternAnalyzer()).sentiment[0]\n",
    "            if feedback_polarity>=0:\n",
    "                positive_feedbacks.append(feedback)\n",
    "                continue\n",
    "\n",
    "            negative_feedbacks.append(feedback)\n",
    "        except :\n",
    "            continue\n",
    "\n",
    "    print('Positive_feebacks Count : {}'.format(len(positive_feedbacks)))\n",
    "    print(positive_feedbacks)\n",
    "    print('Negative_feedback Count : {}'.format(len(negative_feedbacks)))\n",
    "    print(negative_feedbacks)\n",
    "    men_means = [len(positive_feedbacks),len(negative_feedbacks)]\n",
    "    \n",
    "\n",
    "    x = np.arange(2)  # the label locations\n",
    "    width = 0.35  # the width of the bars\n",
    "\n",
    "    fig, ax = plt.subplots()\n",
    "    rects1 = ax.bar(x - width/2, men_means, width, label='feedback sum')\n",
    "    \n",
    "\n",
    "    # Add some text for labels, title and custom x-axis tick labels, etc.\n",
    "    ax.set_ylabel('Values')\n",
    "    ax.set_title('Emotion from video'+txt)\n",
    "    ax.set_xticks(x)\n",
    "    ax.set_xticklabels(labels)\n",
    "    ax.legend()\n",
    "\n",
    "    emotion_text= 'good' if len(positive_feedbacks)>=len(negative_feedbacks) else 'bad'\n",
    "    print('Emotion from text :',emotion_text)\n",
    "    texts.append(emotion_text)\n",
    "    fig.tight_layout()\n",
    "    plt.show()\n",
    "    \n",
    "    \n",
    "    "
   ]
  },
  {
   "cell_type": "code",
   "execution_count": 8,
   "metadata": {},
   "outputs": [
    {
     "data": {
      "text/plain": [
       "MLPClassifier(hidden_layer_sizes=(200,), max_iter=400)"
      ]
     },
     "execution_count": 8,
     "metadata": {},
     "output_type": "execute_result"
    }
   ],
   "source": [
    "import pickle\n",
    "import librosa as lb\n",
    "import soundfile as sf\n",
    "Pkl_Filename=\"Sound_Model.pkl\"\n",
    "with open(Pkl_Filename, 'rb') as file:  \n",
    "    Pickled_LR_Model = pickle.load(file)\n",
    "\n",
    "Pickled_LR_Model"
   ]
  },
  {
   "cell_type": "code",
   "execution_count": 9,
   "metadata": {},
   "outputs": [],
   "source": [
    "def audio_features(file_title, mfcc, chroma, mel):\n",
    "    with sf.SoundFile(file_title) as audio_recording:\n",
    "        audio = audio_recording.read(dtype=\"float32\")\n",
    "        sample_rate = audio_recording.samplerate\n",
    "        \n",
    "        if chroma:\n",
    "            stft=np.abs(lb.stft(audio))\n",
    "            result=np.array([])\n",
    "        if mfcc:\n",
    "            mfccs=np.mean(lb.feature.mfcc(y=audio, sr=sample_rate, n_mfcc=40).T, axis=0)\n",
    "            result=np.hstack((result, mfccs))\n",
    "        if chroma:\n",
    "            chroma=np.mean(lb.feature.chroma_stft(S=stft, sr=sample_rate).T,axis=0)\n",
    "            result=np.hstack((result, chroma))\n",
    "        if mel:\n",
    "            mel=np.mean(lb.feature.melspectrogram(audio, sr=sample_rate).T,axis=0)\n",
    "            result=np.hstack((result, mel))\n",
    "        return result"
   ]
  },
  {
   "cell_type": "code",
   "execution_count": 10,
   "metadata": {},
   "outputs": [
    {
     "name": "stdout",
     "output_type": "stream",
     "text": [
      "file : bad-belkis-en.wav emotion from sound : bad\n",
      "file : bad-fadhel-en.wav emotion from sound : good\n",
      "file : badd-fr.wav emotion from sound : bad\n",
      "file : good-belkis-en.wav emotion from sound : bad\n",
      "file : gooddd-fr.wav emotion from sound : bad\n"
     ]
    }
   ],
   "source": [
    "\n",
    "arr = os.listdir('results/audio')\n",
    "labels = [\"happy/neutral\",\"bad\"]\n",
    "\n",
    "for d in arr:\n",
    "    feature = audio_features('results//audio//'+d, mfcc=True, chroma=True, mel=True)\n",
    "    emotion_audio=str(Pickled_LR_Model.predict(feature.reshape(1,-1))[0])\n",
    "    print('file : '+d+' emotion from sound : '+ emotion_audio)\n",
    "    audios.append(emotion_audio)\n"
   ]
  },
  {
   "cell_type": "code",
   "execution_count": 11,
   "metadata": {},
   "outputs": [
    {
     "data": {
      "text/html": [
       "<div>\n",
       "<style scoped>\n",
       "    .dataframe tbody tr th:only-of-type {\n",
       "        vertical-align: middle;\n",
       "    }\n",
       "\n",
       "    .dataframe tbody tr th {\n",
       "        vertical-align: top;\n",
       "    }\n",
       "\n",
       "    .dataframe thead th {\n",
       "        text-align: right;\n",
       "    }\n",
       "</style>\n",
       "<table border=\"1\" class=\"dataframe\">\n",
       "  <thead>\n",
       "    <tr style=\"text-align: right;\">\n",
       "      <th></th>\n",
       "      <th>name</th>\n",
       "      <th>video</th>\n",
       "      <th>text</th>\n",
       "      <th>audio</th>\n",
       "    </tr>\n",
       "  </thead>\n",
       "  <tbody>\n",
       "    <tr>\n",
       "      <th>0</th>\n",
       "      <td>bad-belkis-en</td>\n",
       "      <td>bad</td>\n",
       "      <td>good</td>\n",
       "      <td>bad</td>\n",
       "    </tr>\n",
       "    <tr>\n",
       "      <th>1</th>\n",
       "      <td>bad-fadhel-en</td>\n",
       "      <td>bad</td>\n",
       "      <td>good</td>\n",
       "      <td>good</td>\n",
       "    </tr>\n",
       "    <tr>\n",
       "      <th>2</th>\n",
       "      <td>badd-fr</td>\n",
       "      <td>bad</td>\n",
       "      <td>good</td>\n",
       "      <td>bad</td>\n",
       "    </tr>\n",
       "    <tr>\n",
       "      <th>3</th>\n",
       "      <td>good-belkis-en</td>\n",
       "      <td>good</td>\n",
       "      <td>good</td>\n",
       "      <td>bad</td>\n",
       "    </tr>\n",
       "    <tr>\n",
       "      <th>4</th>\n",
       "      <td>gooddd-fr</td>\n",
       "      <td>good</td>\n",
       "      <td>good</td>\n",
       "      <td>bad</td>\n",
       "    </tr>\n",
       "  </tbody>\n",
       "</table>\n",
       "</div>"
      ],
      "text/plain": [
       "             name video  text audio\n",
       "0   bad-belkis-en   bad  good   bad\n",
       "1   bad-fadhel-en   bad  good  good\n",
       "2         badd-fr   bad  good   bad\n",
       "3  good-belkis-en  good  good   bad\n",
       "4       gooddd-fr  good  good   bad"
      ]
     },
     "execution_count": 11,
     "metadata": {},
     "output_type": "execute_result"
    }
   ],
   "source": [
    "data_emotion['name']=names\n",
    "data_emotion['video']=videos\n",
    "\n",
    "data_emotion['text']=texts\n",
    "data_emotion['audio']=audios\n",
    "data_emotion.head()"
   ]
  },
  {
   "cell_type": "code",
   "execution_count": 12,
   "metadata": {},
   "outputs": [
    {
     "name": "stdout",
     "output_type": "stream",
     "text": [
      "video\n"
     ]
    },
    {
     "data": {
      "image/png": "[encoded data removed]",
      "text/plain": [
       "<Figure size 432x288 with 1 Axes>"
      ]
     },
     "metadata": {
      "needs_background": "light"
     },
     "output_type": "display_data"
    },
    {
     "name": "stdout",
     "output_type": "stream",
     "text": [
      "text\n"
     ]
    },
    {
     "data": {
      "image/png": "[encoded data removed]",
      "text/plain": [
       "<Figure size 432x288 with 1 Axes>"
      ]
     },
     "metadata": {
      "needs_background": "light"
     },
     "output_type": "display_data"
    },
    {
     "name": "stdout",
     "output_type": "stream",
     "text": [
      "audio\n"
     ]
    },
    {
     "data": {
      "image/png": "[encoded data removed]",
      "text/plain": [
       "<Figure size 432x288 with 1 Axes>"
      ]
     },
     "metadata": {
      "needs_background": "light"
     },
     "output_type": "display_data"
    }
   ],
   "source": [
    "for col in data_emotion.columns[1:]:\n",
    "    print(col)\n",
    "    data_emotion[col].value_counts().plot(kind='bar')\n",
    "    plt.show()"
   ]
  }
 ],
 "metadata": {
  "kernelspec": {
   "display_name": "Python 3",
   "language": "python",
   "name": "python3"
  },
  "language_info": {
   "codemirror_mode": {
    "name": "ipython",
    "version": 3
   },
   "file_extension": ".py",
   "mimetype": "text/x-python",
   "name": "python",
   "nbconvert_exporter": "python",
   "pygments_lexer": "ipython3",
   "version": "3.7.10"
  }
 },
 "nbformat": 4,
 "nbformat_minor": 4
}
